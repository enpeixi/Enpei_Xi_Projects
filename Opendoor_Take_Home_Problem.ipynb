{
 "cells": [
  {
   "cell_type": "markdown",
   "metadata": {},
   "source": [
    "# Opendoor Take Home Problem: Data Scientist"
   ]
  },
  {
   "cell_type": "markdown",
   "metadata": {},
   "source": [
    "## Data Preprocessing\n",
    "* I sorted the data by the close time, so that it could handle the problem of time leakage."
   ]
  },
  {
   "cell_type": "code",
   "execution_count": 98,
   "metadata": {
    "collapsed": true
   },
   "outputs": [],
   "source": [
    "import numpy as np\n",
    "import pandas as pd\n",
    "import matplotlib.pyplot as plt\n",
    "%matplotlib inline"
   ]
  },
  {
   "cell_type": "code",
   "execution_count": 2,
   "metadata": {
    "collapsed": false
   },
   "outputs": [
    {
     "data": {
      "text/html": [
       "<div>\n",
       "<table border=\"1\" class=\"dataframe\">\n",
       "  <thead>\n",
       "    <tr style=\"text-align: right;\">\n",
       "      <th></th>\n",
       "      <th>latitude</th>\n",
       "      <th>longitude</th>\n",
       "      <th>close_date</th>\n",
       "      <th>close_price</th>\n",
       "    </tr>\n",
       "  </thead>\n",
       "  <tbody>\n",
       "    <tr>\n",
       "      <th>0</th>\n",
       "      <td>1.501986</td>\n",
       "      <td>86.350685</td>\n",
       "      <td>2014-08-16 22:25:31.925431</td>\n",
       "      <td>1.302246e+06</td>\n",
       "    </tr>\n",
       "    <tr>\n",
       "      <th>1</th>\n",
       "      <td>36.367095</td>\n",
       "      <td>-98.664280</td>\n",
       "      <td>2014-08-05 06:34:00.165876</td>\n",
       "      <td>1.475045e+05</td>\n",
       "    </tr>\n",
       "    <tr>\n",
       "      <th>2</th>\n",
       "      <td>36.599284</td>\n",
       "      <td>-97.924700</td>\n",
       "      <td>2014-08-12 23:48:00.887510</td>\n",
       "      <td>1.374006e+05</td>\n",
       "    </tr>\n",
       "    <tr>\n",
       "      <th>3</th>\n",
       "      <td>67.994791</td>\n",
       "      <td>64.688589</td>\n",
       "      <td>2014-08-17 05:27:01.404296</td>\n",
       "      <td>-1.411200e+04</td>\n",
       "    </tr>\n",
       "    <tr>\n",
       "      <th>4</th>\n",
       "      <td>36.647982</td>\n",
       "      <td>-97.866100</td>\n",
       "      <td>2014-08-09 04:00:40.358242</td>\n",
       "      <td>2.391053e+05</td>\n",
       "    </tr>\n",
       "  </tbody>\n",
       "</table>\n",
       "</div>"
      ],
      "text/plain": [
       "    latitude  longitude                 close_date   close_price\n",
       "0   1.501986  86.350685 2014-08-16 22:25:31.925431  1.302246e+06\n",
       "1  36.367095 -98.664280 2014-08-05 06:34:00.165876  1.475045e+05\n",
       "2  36.599284 -97.924700 2014-08-12 23:48:00.887510  1.374006e+05\n",
       "3  67.994791  64.688589 2014-08-17 05:27:01.404296 -1.411200e+04\n",
       "4  36.647982 -97.866100 2014-08-09 04:00:40.358242  2.391053e+05"
      ]
     },
     "execution_count": 2,
     "metadata": {},
     "output_type": "execute_result"
    }
   ],
   "source": [
    "raw_data = pd.read_csv('data.csv',parse_dates=['close_date'])\n",
    "raw_data.head()"
   ]
  },
  {
   "cell_type": "code",
   "execution_count": 3,
   "metadata": {
    "collapsed": false
   },
   "outputs": [
    {
     "data": {
      "text/html": [
       "<div>\n",
       "<table border=\"1\" class=\"dataframe\">\n",
       "  <thead>\n",
       "    <tr style=\"text-align: right;\">\n",
       "      <th></th>\n",
       "      <th>latitude</th>\n",
       "      <th>longitude</th>\n",
       "      <th>close_date</th>\n",
       "      <th>close_price</th>\n",
       "    </tr>\n",
       "  </thead>\n",
       "  <tbody>\n",
       "    <tr>\n",
       "      <th>45792</th>\n",
       "      <td>36.161727</td>\n",
       "      <td>-98.123455</td>\n",
       "      <td>2013-12-31 04:47:10.005660</td>\n",
       "      <td>56935.085184</td>\n",
       "    </tr>\n",
       "    <tr>\n",
       "      <th>45806</th>\n",
       "      <td>36.482000</td>\n",
       "      <td>-98.051300</td>\n",
       "      <td>2014-01-01 01:58:30.098593</td>\n",
       "      <td>481654.393156</td>\n",
       "    </tr>\n",
       "    <tr>\n",
       "      <th>45808</th>\n",
       "      <td>36.186023</td>\n",
       "      <td>-98.176310</td>\n",
       "      <td>2014-01-03 00:22:57.683471</td>\n",
       "      <td>-97482.000000</td>\n",
       "    </tr>\n",
       "    <tr>\n",
       "      <th>45771</th>\n",
       "      <td>36.278290</td>\n",
       "      <td>-98.957650</td>\n",
       "      <td>2014-01-04 01:13:42.187433</td>\n",
       "      <td>169432.247122</td>\n",
       "    </tr>\n",
       "    <tr>\n",
       "      <th>34839</th>\n",
       "      <td>-86.327535</td>\n",
       "      <td>139.708530</td>\n",
       "      <td>2014-01-05 13:29:17.311107</td>\n",
       "      <td>261704.565376</td>\n",
       "    </tr>\n",
       "  </tbody>\n",
       "</table>\n",
       "</div>"
      ],
      "text/plain": [
       "        latitude   longitude                 close_date    close_price\n",
       "45792  36.161727  -98.123455 2013-12-31 04:47:10.005660   56935.085184\n",
       "45806  36.482000  -98.051300 2014-01-01 01:58:30.098593  481654.393156\n",
       "45808  36.186023  -98.176310 2014-01-03 00:22:57.683471  -97482.000000\n",
       "45771  36.278290  -98.957650 2014-01-04 01:13:42.187433  169432.247122\n",
       "34839 -86.327535  139.708530 2014-01-05 13:29:17.311107  261704.565376"
      ]
     },
     "execution_count": 3,
     "metadata": {},
     "output_type": "execute_result"
    }
   ],
   "source": [
    "data = raw_data.sort_values(by=['close_date'])\n",
    "data.head()"
   ]
  },
  {
   "cell_type": "code",
   "execution_count": 4,
   "metadata": {
    "collapsed": false
   },
   "outputs": [
    {
     "data": {
      "text/plain": [
       "latitude                          36.1617\n",
       "longitude                        -98.1235\n",
       "close_date     2013-12-31 04:47:10.005660\n",
       "close_price                       56935.1\n",
       "Name: 45792, dtype: object"
      ]
     },
     "execution_count": 4,
     "metadata": {},
     "output_type": "execute_result"
    }
   ],
   "source": [
    "data.loc[45792]"
   ]
  },
  {
   "cell_type": "markdown",
   "metadata": {},
   "source": [
    "## Using the dataset provided, please build a k-NN model for k = 4 that avoids time leakage (details below).\n",
    "* It's a regression problem using KNN model. \n",
    "* To aviod time leakage, I sorted the dataset by the close time. And for each new test point, I used all other data which has a earlier close date as the training data.\n",
    "* Calculated the euclidean distance among points and find the cloest 4 points.\n",
    "* Assigning uniform weight for each neightbour point and sum them up as the predict price.\n",
    "* Evaluating the performance by measuring the error of the predict price and the ground truth."
   ]
  },
  {
   "cell_type": "code",
   "execution_count": 28,
   "metadata": {
    "collapsed": false
   },
   "outputs": [],
   "source": [
    "def getNeightbour(train,test,k):\n",
    "    distance = []\n",
    "    pred_price = 0\n",
    "    \n",
    "    train_mat = train.iloc[:,:2].as_matrix()\n",
    "    test = test.iloc[:,:2].as_matrix()\n",
    "    \n",
    "    distance = np.sqrt(np.sum((train_mat - test)**2,axis=1))\n",
    "    min_index = np.argsort(distance)\n",
    "    \n",
    "    for i in range(k):\n",
    "        index = min_index[i]\n",
    "        pred_price += train.iloc[index,-1] / k\n",
    "        \n",
    "    return pred_price"
   ]
  },
  {
   "cell_type": "code",
   "execution_count": 30,
   "metadata": {
    "collapsed": false
   },
   "outputs": [
    {
     "name": "stdout",
     "output_type": "stream",
     "text": [
      "5000\n",
      "10000\n",
      "15000\n",
      "20000\n",
      "25000\n",
      "30000\n",
      "35000\n",
      "40000\n",
      "45000\n",
      "50000\n",
      "55000\n",
      "60000\n",
      "65000\n",
      "70000\n",
      "75000\n",
      "80000\n",
      "85000\n"
     ]
    }
   ],
   "source": [
    "k = 4\n",
    "predict_price = []\n",
    "for i in range(k,len(data)):\n",
    "    if (i % 5000) == 0:\n",
    "        print(i)\n",
    "    predict = getNeightbour(data[:i],data[i:i+1],k)\n",
    "    predict_price.append(predict)"
   ]
  },
  {
   "cell_type": "markdown",
   "metadata": {},
   "source": [
    "## What is the performance of the model measured in Median Relative Absolute Error?\n",
    "* The Median of Relative Absolute Error is about 24.4%"
   ]
  },
  {
   "cell_type": "code",
   "execution_count": 39,
   "metadata": {
    "collapsed": false
   },
   "outputs": [
    {
     "data": {
      "text/plain": [
       "0.24431845066280169"
      ]
     },
     "execution_count": 39,
     "metadata": {},
     "output_type": "execute_result"
    }
   ],
   "source": [
    "np.median(abs(predict_price - true_price) / predict_price)"
   ]
  },
  {
   "cell_type": "markdown",
   "metadata": {},
   "source": [
    "## What would be an appropriate methodology to determine the optimal k?\n",
    "* The optimum K will always vary depending of the data set. The best method is to try many K values and figure out the error relatively to see which K value is giving the best result."
   ]
  },
  {
   "cell_type": "markdown",
   "metadata": {},
   "source": [
    "## Do you notice any spatial or temporal trends in error?\n",
    "* In this particular case, as the time goes on, more and more data will come into the training set. We could expect that the distance between new test data point and its neightbours will become smaller. (As shown on the graph below)\n",
    "* If the assumption of the model works well - prices are highly correlated to neightbours, then there should be a decreasing trend in error as the time move on, since we have more data in the training set, so that data point coming later will have neighbours close enough for the model to predict a more accurate price."
   ]
  },
  {
   "cell_type": "code",
   "execution_count": 101,
   "metadata": {
    "collapsed": false
   },
   "outputs": [],
   "source": [
    "def getTrend(train,test,k):\n",
    "    min_dis = 0\n",
    "    \n",
    "    train_mat = train.iloc[:,:2].as_matrix()\n",
    "    test = test.iloc[:,:2].as_matrix()\n",
    "    \n",
    "    distance = np.sqrt(np.sum((train_mat - test)**2,axis=1))\n",
    "    min_dis += np.sort(distance)[:k]\n",
    "    \n",
    "    return min_dis"
   ]
  },
  {
   "cell_type": "code",
   "execution_count": 102,
   "metadata": {
    "collapsed": false
   },
   "outputs": [
    {
     "name": "stdout",
     "output_type": "stream",
     "text": [
      "5000\n",
      "10000\n",
      "15000\n",
      "20000\n",
      "25000\n",
      "30000\n",
      "35000\n",
      "40000\n",
      "45000\n",
      "50000\n",
      "55000\n",
      "60000\n",
      "65000\n",
      "70000\n",
      "75000\n",
      "80000\n",
      "85000\n"
     ]
    }
   ],
   "source": [
    "k = 4\n",
    "distance = []\n",
    "for i in range(k,len(data)):\n",
    "    if (i % 5000) == 0:\n",
    "        print(i)\n",
    "    distance.append(getTrend(data[:i],data[i:i+1],k))"
   ]
  },
  {
   "cell_type": "code",
   "execution_count": 103,
   "metadata": {
    "collapsed": false
   },
   "outputs": [
    {
     "data": {
      "text/plain": [
       "[<matplotlib.lines.Line2D at 0x1ad9cb1f748>,\n",
       " <matplotlib.lines.Line2D at 0x1ad9cb1f940>,\n",
       " <matplotlib.lines.Line2D at 0x1ad9cb1fb00>,\n",
       " <matplotlib.lines.Line2D at 0x1ad9cb1fcf8>]"
      ]
     },
     "execution_count": 103,
     "metadata": {},
     "output_type": "execute_result"
    },
    {
     "data": {
      "image/png": "[encoded data removed]",
      "text/plain": [
       "<matplotlib.figure.Figure at 0x1ad99832be0>"
      ]
     },
     "metadata": {},
     "output_type": "display_data"
    }
   ],
   "source": [
    "plt.plot(distance)"
   ]
  },
  {
   "cell_type": "markdown",
   "metadata": {},
   "source": [
    "## How would you improve this model?\n",
    "* One way is by implementing weighed voting. The K neighbors is multiplied by a weight proportional to the inverse of the distance from that point to the given test point. This ensures that nearer neighbors contribute more to the final vote than the more distant ones. (Implementation are shown below, and it gave a lower median relative absolute error.)\n",
    "* Another way is to normalize the data, which makes the distance metric more meaningful.\n",
    "* Or maybe try some other distance functions."
   ]
  },
  {
   "cell_type": "code",
   "execution_count": 88,
   "metadata": {
    "collapsed": true
   },
   "outputs": [],
   "source": [
    "def getNeightbour_distance(train,test,k):\n",
    "    distance = []\n",
    "    pred_price = 0\n",
    "    \n",
    "    train_mat = train.iloc[:,:2].as_matrix()\n",
    "    test = test.iloc[:,:2].as_matrix()\n",
    "    \n",
    "    distance = np.sqrt(np.sum((train_mat - test)**2,axis=1))\n",
    "    min_index = np.argsort(distance)\n",
    "    total_weight = sum(1/(np.sort(distance)[:4]+0.01))\n",
    "    weight = (1/(np.sort(distance)[:4]+0.01)) / total_weight\n",
    "    \n",
    "    for i in range(k):\n",
    "        index = min_index[i]\n",
    "        pred_price += train.iloc[index,-1] * weight[i]\n",
    "        \n",
    "    return pred_price"
   ]
  },
  {
   "cell_type": "code",
   "execution_count": 89,
   "metadata": {
    "collapsed": false
   },
   "outputs": [
    {
     "name": "stdout",
     "output_type": "stream",
     "text": [
      "0.056791076985983964\n",
      "0.11358215397196793\n",
      "0.1703732309579519\n",
      "0.22716430794393586\n",
      "0.2839553849299198\n",
      "0.3407464619159038\n",
      "0.39753753890188775\n",
      "0.4543286158878717\n",
      "0.5111196928738556\n",
      "0.5679107698598396\n",
      "0.6247018468458236\n",
      "0.6814929238318076\n",
      "0.7382840008177916\n",
      "0.7950750778037755\n",
      "0.8518661547897595\n",
      "0.9086572317757434\n",
      "0.9654483087617274\n"
     ]
    }
   ],
   "source": [
    "k = 4\n",
    "predict_price_distance = []\n",
    "for i in range(k,len(data)):\n",
    "    if (i % 5000) == 0:\n",
    "        print(i/len(data))\n",
    "    predict = getNeightbour_distance(data[:i],data[i:i+1],k)\n",
    "    predict_price_distance.append(predict)"
   ]
  },
  {
   "cell_type": "code",
   "execution_count": 90,
   "metadata": {
    "collapsed": false
   },
   "outputs": [
    {
     "data": {
      "text/plain": [
       "0.24138751467410818"
      ]
     },
     "execution_count": 90,
     "metadata": {},
     "output_type": "execute_result"
    }
   ],
   "source": [
    "np.median(abs(predict_price_distance - true_price)/predict_price_distance)"
   ]
  },
  {
   "cell_type": "markdown",
   "metadata": {},
   "source": [
    "## How would you productionize this model?\n",
    "* As mentioned before, if the assumption of this model works well, this model could be used to predict the approximate selling price of a new listed house on the website as reference for the users, based on the price of its several K neightbours which are also listed on the website, so that the users can consider how the factor of location affects the price of their houses."
   ]
  }
 ],
 "metadata": {
  "kernelspec": {
   "display_name": "Python 3",
   "language": "python",
   "name": "python3"
  },
  "language_info": {
   "codemirror_mode": {
    "name": "ipython",
    "version": 3
   },
   "file_extension": ".py",
   "mimetype": "text/x-python",
   "name": "python",
   "nbconvert_exporter": "python",
   "pygments_lexer": "ipython3",
   "version": "3.6.0"
  }
 },
 "nbformat": 4,
 "nbformat_minor": 2
}
