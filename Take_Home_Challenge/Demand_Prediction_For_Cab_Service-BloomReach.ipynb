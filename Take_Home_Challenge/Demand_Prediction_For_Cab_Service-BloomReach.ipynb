{
 "cells": [
  {
   "cell_type": "markdown",
   "metadata": {},
   "source": [
    "# Demand Prediction For Cab Service - BloomReach"
   ]
  },
  {
   "cell_type": "markdown",
   "metadata": {},
   "source": [
    "### Understand the Raw Dataset"
   ]
  },
  {
   "cell_type": "code",
   "execution_count": 232,
   "metadata": {
    "collapsed": true
   },
   "outputs": [],
   "source": [
    "import numpy as np\n",
    "import pandas as pd\n",
    "import matplotlib.pyplot as plt\n",
    "import seaborn as sns\n",
    "import datetime\n",
    "%matplotlib inline"
   ]
  },
  {
   "cell_type": "code",
   "execution_count": 233,
   "metadata": {
    "collapsed": false
   },
   "outputs": [
    {
     "data": {
      "text/html": [
       "<div>\n",
       "<table border=\"1\" class=\"dataframe\">\n",
       "  <thead>\n",
       "    <tr style=\"text-align: right;\">\n",
       "      <th></th>\n",
       "      <th>TripId</th>\n",
       "      <th>StartLat</th>\n",
       "      <th>StartLng</th>\n",
       "      <th>EndLat</th>\n",
       "      <th>EndLng</th>\n",
       "      <th>StartDateTime</th>\n",
       "      <th>EndDateTime</th>\n",
       "      <th>Status</th>\n",
       "      <th>CreatedTime</th>\n",
       "    </tr>\n",
       "  </thead>\n",
       "  <tbody>\n",
       "    <tr>\n",
       "      <th>0</th>\n",
       "      <td>359822</td>\n",
       "      <td>18.5867</td>\n",
       "      <td>73.8154</td>\n",
       "      <td>18.5369</td>\n",
       "      <td>73.8713</td>\n",
       "      <td>2014-01-05 18:30:00</td>\n",
       "      <td>2014-01-05 19:30:00</td>\n",
       "      <td>cancelled</td>\n",
       "      <td>2013-12-02 18:33:51</td>\n",
       "    </tr>\n",
       "    <tr>\n",
       "      <th>1</th>\n",
       "      <td>365352</td>\n",
       "      <td>18.5809</td>\n",
       "      <td>73.7606</td>\n",
       "      <td>18.5981</td>\n",
       "      <td>73.7187</td>\n",
       "      <td>2014-01-01 10:00:00</td>\n",
       "      <td>2014-01-01 11:00:00</td>\n",
       "      <td>cancelled</td>\n",
       "      <td>2013-12-18 17:56:19</td>\n",
       "    </tr>\n",
       "    <tr>\n",
       "      <th>2</th>\n",
       "      <td>365353</td>\n",
       "      <td>18.5826</td>\n",
       "      <td>73.7684</td>\n",
       "      <td>18.5981</td>\n",
       "      <td>73.7187</td>\n",
       "      <td>2014-01-02 10:00:00</td>\n",
       "      <td>2014-01-02 11:00:00</td>\n",
       "      <td>cancelled</td>\n",
       "      <td>2013-12-18 17:56:19</td>\n",
       "    </tr>\n",
       "    <tr>\n",
       "      <th>3</th>\n",
       "      <td>365354</td>\n",
       "      <td>18.5826</td>\n",
       "      <td>73.7684</td>\n",
       "      <td>18.5981</td>\n",
       "      <td>73.7187</td>\n",
       "      <td>2014-01-03 10:00:00</td>\n",
       "      <td>2014-01-03 11:00:00</td>\n",
       "      <td>cancelled</td>\n",
       "      <td>2013-12-18 17:56:19</td>\n",
       "    </tr>\n",
       "    <tr>\n",
       "      <th>4</th>\n",
       "      <td>365355</td>\n",
       "      <td>18.5826</td>\n",
       "      <td>73.7684</td>\n",
       "      <td>18.5981</td>\n",
       "      <td>73.7187</td>\n",
       "      <td>2014-01-06 10:00:00</td>\n",
       "      <td>2014-01-06 11:00:00</td>\n",
       "      <td>cancelled</td>\n",
       "      <td>2013-12-18 17:58:46</td>\n",
       "    </tr>\n",
       "  </tbody>\n",
       "</table>\n",
       "</div>"
      ],
      "text/plain": [
       "   TripId StartLat StartLng   EndLat   EndLng       StartDateTime  \\\n",
       "0  359822  18.5867  73.8154  18.5369  73.8713 2014-01-05 18:30:00   \n",
       "1  365352  18.5809  73.7606  18.5981  73.7187 2014-01-01 10:00:00   \n",
       "2  365353  18.5826  73.7684  18.5981  73.7187 2014-01-02 10:00:00   \n",
       "3  365354  18.5826  73.7684  18.5981  73.7187 2014-01-03 10:00:00   \n",
       "4  365355  18.5826  73.7684  18.5981  73.7187 2014-01-06 10:00:00   \n",
       "\n",
       "          EndDateTime     Status         CreatedTime  \n",
       "0 2014-01-05 19:30:00  cancelled 2013-12-02 18:33:51  \n",
       "1 2014-01-01 11:00:00  cancelled 2013-12-18 17:56:19  \n",
       "2 2014-01-02 11:00:00  cancelled 2013-12-18 17:56:19  \n",
       "3 2014-01-03 11:00:00  cancelled 2013-12-18 17:56:19  \n",
       "4 2014-01-06 11:00:00  cancelled 2013-12-18 17:58:46  "
      ]
     },
     "execution_count": 233,
     "metadata": {},
     "output_type": "execute_result"
    }
   ],
   "source": [
    "data_raw = pd.read_excel('DemandPredictionDatasetBR.csv.xlsx',sheet_name = None)\n",
    "data_raw.head()"
   ]
  },
  {
   "cell_type": "code",
   "execution_count": 234,
   "metadata": {
    "collapsed": false
   },
   "outputs": [
    {
     "data": {
      "text/plain": [
       "181770"
      ]
     },
     "execution_count": 234,
     "metadata": {},
     "output_type": "execute_result"
    }
   ],
   "source": [
    "len(data_raw)"
   ]
  },
  {
   "cell_type": "markdown",
   "metadata": {},
   "source": [
    "### Data cleaning\n",
    "<br>Remove noise data and extra whitespace<br/>"
   ]
  },
  {
   "cell_type": "code",
   "execution_count": 235,
   "metadata": {
    "collapsed": false
   },
   "outputs": [],
   "source": [
    "df = data_raw[data_raw.StartLat != 0]\n",
    "df = df[df.EndLat != 0]\n",
    "df = df[df.StartLat.str.isdigit() != False]\n",
    "df = df[df.EndLat.str.isdigit() != False]\n",
    "df = df[df.StartLat < 40]\n",
    "df = df[df.EndLat < 40]"
   ]
  },
  {
   "cell_type": "code",
   "execution_count": 236,
   "metadata": {
    "collapsed": false
   },
   "outputs": [
    {
     "data": {
      "text/plain": [
       "181191"
      ]
     },
     "execution_count": 236,
     "metadata": {},
     "output_type": "execute_result"
    }
   ],
   "source": [
    "len(df)"
   ]
  },
  {
   "cell_type": "markdown",
   "metadata": {},
   "source": [
    "## Perform exploratory analysis"
   ]
  },
  {
   "cell_type": "markdown",
   "metadata": {},
   "source": [
    "<br>First, I will look at the distribution of the geolocation based on the coordinates. This could help partition of the location for further training.<br/>"
   ]
  },
  {
   "cell_type": "code",
   "execution_count": 237,
   "metadata": {
    "collapsed": false
   },
   "outputs": [
    {
     "data": {
      "image/png": "[encoded data removed]",
      "text/plain": [
       "<matplotlib.figure.Figure at 0x1ce0779c5c0>"
      ]
     },
     "metadata": {},
     "output_type": "display_data"
    }
   ],
   "source": [
    "sns.jointplot(x=\"StartLat\", y=\"StartLng\", data=df);"
   ]
  },
  {
   "cell_type": "code",
   "execution_count": 238,
   "metadata": {
    "collapsed": false
   },
   "outputs": [
    {
     "data": {
      "image/png": "[encoded data removed]",
      "text/plain": [
       "<matplotlib.figure.Figure at 0x1ce0a3e2e10>"
      ]
     },
     "metadata": {},
     "output_type": "display_data"
    }
   ],
   "source": [
    "sns.jointplot(x=\"EndLat\", y=\"EndLng\", data=df);"
   ]
  },
  {
   "cell_type": "code",
   "execution_count": 239,
   "metadata": {
    "collapsed": false
   },
   "outputs": [
    {
     "data": {
      "text/plain": [
       "<matplotlib.axes._subplots.AxesSubplot at 0x1ce044c9f60>"
      ]
     },
     "execution_count": 239,
     "metadata": {},
     "output_type": "execute_result"
    },
    {
     "data": {
      "image/png": "[encoded data removed]",
      "text/plain": [
       "<matplotlib.figure.Figure at 0x1ce53a9ac50>"
      ]
     },
     "metadata": {},
     "output_type": "display_data"
    }
   ],
   "source": [
    "df['StartLat'].plot.hist(xlim=(18.4,18.7),bins=1000) "
   ]
  },
  {
   "cell_type": "code",
   "execution_count": 240,
   "metadata": {
    "collapsed": false
   },
   "outputs": [
    {
     "data": {
      "text/plain": [
       "<matplotlib.axes._subplots.AxesSubplot at 0x1ce046d7c88>"
      ]
     },
     "execution_count": 240,
     "metadata": {},
     "output_type": "execute_result"
    },
    {
     "data": {
      "image/png": "[encoded data removed]",
      "text/plain": [
       "<matplotlib.figure.Figure at 0x1ce0f327a58>"
      ]
     },
     "metadata": {},
     "output_type": "display_data"
    }
   ],
   "source": [
    "df['StartLng'].plot.hist(xlim=(73.7,74),bins=1000) "
   ]
  },
  {
   "cell_type": "code",
   "execution_count": 241,
   "metadata": {
    "collapsed": false
   },
   "outputs": [
    {
     "data": {
      "text/plain": [
       "<matplotlib.axes._subplots.AxesSubplot at 0x1ce1130b240>"
      ]
     },
     "execution_count": 241,
     "metadata": {},
     "output_type": "execute_result"
    },
    {
     "data": {
      "image/png": "[encoded data removed]",
      "text/plain": [
       "<matplotlib.figure.Figure at 0x1ce10c1a748>"
      ]
     },
     "metadata": {},
     "output_type": "display_data"
    }
   ],
   "source": [
    "df['EndLat'].plot.hist(xlim=(18.4,18.7),bins=1000) "
   ]
  },
  {
   "cell_type": "code",
   "execution_count": 242,
   "metadata": {
    "collapsed": false
   },
   "outputs": [
    {
     "data": {
      "text/plain": [
       "<matplotlib.axes._subplots.AxesSubplot at 0x1ce10ae4f60>"
      ]
     },
     "execution_count": 242,
     "metadata": {},
     "output_type": "execute_result"
    },
    {
     "data": {
      "image/png": "[encoded data removed]",
      "text/plain": [
       "<matplotlib.figure.Figure at 0x1ce05034b38>"
      ]
     },
     "metadata": {},
     "output_type": "display_data"
    }
   ],
   "source": [
    "df['EndLng'].plot.hist(xlim=(73.7,74),bins=1000) "
   ]
  },
  {
   "cell_type": "markdown",
   "metadata": {},
   "source": [
    "<br>Second, I also plotted the distribution of the start time of trips. This could help to see how the time factors may affects the final results.<br/>"
   ]
  },
  {
   "cell_type": "code",
   "execution_count": 243,
   "metadata": {
    "collapsed": true
   },
   "outputs": [],
   "source": [
    "df_train = df\n",
    "df_train['StartDateTime'] = pd.to_datetime(df_train['StartDateTime'])\n",
    "df_train['EndDateTime'] = pd.to_datetime(df_train['EndDateTime'])\n",
    "df_train['CreatedTime'] = pd.to_datetime(df_train['CreatedTime'])"
   ]
  },
  {
   "cell_type": "code",
   "execution_count": 244,
   "metadata": {
    "collapsed": false
   },
   "outputs": [
    {
     "data": {
      "text/plain": [
       "<matplotlib.axes._subplots.AxesSubplot at 0x1ce0a136390>"
      ]
     },
     "execution_count": 244,
     "metadata": {},
     "output_type": "execute_result"
    },
    {
     "data": {
      "image/png": "[encoded data removed]",
      "text/plain": [
       "<matplotlib.figure.Figure at 0x1ce08231780>"
      ]
     },
     "metadata": {},
     "output_type": "display_data"
    }
   ],
   "source": [
    "df_train['StartDateTime'].dt.month.hist()"
   ]
  },
  {
   "cell_type": "code",
   "execution_count": 245,
   "metadata": {
    "collapsed": false
   },
   "outputs": [
    {
     "data": {
      "text/plain": [
       "<matplotlib.axes._subplots.AxesSubplot at 0x1ce07421198>"
      ]
     },
     "execution_count": 245,
     "metadata": {},
     "output_type": "execute_result"
    },
    {
     "data": {
      "image/png": "[encoded data removed]",
      "text/plain": [
       "<matplotlib.figure.Figure at 0x1ce07132c50>"
      ]
     },
     "metadata": {},
     "output_type": "display_data"
    }
   ],
   "source": [
    "df_train['StartDateTime'].dt.day.hist()"
   ]
  },
  {
   "cell_type": "code",
   "execution_count": 246,
   "metadata": {
    "collapsed": false
   },
   "outputs": [
    {
     "data": {
      "text/plain": [
       "<matplotlib.axes._subplots.AxesSubplot at 0x1ce069404e0>"
      ]
     },
     "execution_count": 246,
     "metadata": {},
     "output_type": "execute_result"
    },
    {
     "data": {
      "image/png": "[encoded data removed]",
      "text/plain": [
       "<matplotlib.figure.Figure at 0x1ce10ba22e8>"
      ]
     },
     "metadata": {},
     "output_type": "display_data"
    }
   ],
   "source": [
    "df_train['StartDateTime'].dt.hour.hist()"
   ]
  },
  {
   "cell_type": "markdown",
   "metadata": {},
   "source": [
    "## Define a suitable demand prediction problem\n",
    "<br>For this dataset, I will define demand prediction problem as, predicting the trip will be served by Anonymous, based on the geolocations and timestamps information. So that based on this predictive model, Anonymous can better estimate the anticipated demand and organize their drivers to sever those trips more likely severed by Anonymous.<br/>"
   ]
  },
  {
   "cell_type": "markdown",
   "metadata": {},
   "source": [
    "## Perform feature engineering\n",
    "<br>To select suitable features, the features have to be extracted from geolocation coordinates and timestamps informations first. After that, I also created some other reasonable features from existed features that may help improve the model performances.<br/>"
   ]
  },
  {
   "cell_type": "markdown",
   "metadata": {},
   "source": [
    "### For geolocation coordinats\n",
    "<br>From the exploratory analysis, I observed that trips are highly concentrate in a small region, so what I have to do is partition this region into several small regions for further analysis. After I inspected the distribution of the coordinates, I partitioned Latitude and Longtitude into 3 parts relatively, and assigned them a categorical value. <br/>"
   ]
  },
  {
   "cell_type": "markdown",
   "metadata": {},
   "source": [
    "### For timestamps\n",
    "<br>I extracted the Month, Day, Hour information of the start time of the trips. (Year is not necessary, cause all trips are in the same year)<br/>"
   ]
  },
  {
   "cell_type": "markdown",
   "metadata": {},
   "source": [
    "### New features\n",
    "<br>\"Weekend\": whether the start day is weekend or not<br/>\n",
    "<br>\"Duration\": the duration of the trip, and this feature can include the trip-end information into feature map instead of more features<br/>\n",
    "<br>\"Reservation\": the duration from the reservation is created to the start of the trip<br/>\n",
    "<br>\"Distance\": the euclidean distance between the locations of the start and the end<br/>"
   ]
  },
  {
   "cell_type": "code",
   "execution_count": 248,
   "metadata": {
    "collapsed": false
   },
   "outputs": [],
   "source": [
    "df_train['Distance'] = np.sqrt((df_train['EndLat'] - df_train['StartLat']).astype(float)**2 + (df_train['EndLng'] - df_train['StartLng']).astype(float)**2)\n",
    "\n",
    "df_train['Month'] = df_train['StartDateTime'].dt.month\n",
    "df_train['Day'] = df_train['StartDateTime'].dt.day\n",
    "df_train['Hour'] = df['StartDateTime'].dt.hour + round(df['StartDateTime'].dt.minute / 15) / 4\n",
    "df_train['Weekend'] = df_train['StartDateTime'].dt.weekday >= 5\n",
    "df_train['Duration'] = (df_train['EndDateTime']-df_train['StartDateTime']).astype('timedelta64[m]')\n",
    "df_train['Reservation'] = (df_train['StartDateTime']-df_train['CreatedTime']).astype('timedelta64[h]')\n",
    "\n",
    "df_train['Outcome'] = df_train['Status'] == 'completed'\n",
    "\n",
    "df_train = df_train.drop('Status',axis=1)\n",
    "df_train = df_train.drop('StartDateTime',axis=1)\n",
    "df_train = df_train.drop('EndDateTime',axis=1)\n",
    "df_train = df_train.drop('CreatedTime',axis=1)"
   ]
  },
  {
   "cell_type": "code",
   "execution_count": 249,
   "metadata": {
    "collapsed": false
   },
   "outputs": [],
   "source": [
    "for col in df_train['StartLat']:\n",
    "    if col < 18.5:\n",
    "        df_train['StartLat'] = 1\n",
    "    elif 18.5 <= col < 18.6:\n",
    "        df_train['StartLat'] = 2\n",
    "    else:\n",
    "        df_train['StartLat'] = 3"
   ]
  },
  {
   "cell_type": "code",
   "execution_count": 250,
   "metadata": {
    "collapsed": true
   },
   "outputs": [],
   "source": [
    "for col in df_train['EndLat']:\n",
    "    if col < 18.5:\n",
    "        df_train['EndLat'] = 1\n",
    "    elif 18.5 <= col < 18.6:\n",
    "        df_train['EndLat'] = 2\n",
    "    else:\n",
    "        df_train['EndLat'] = 3"
   ]
  },
  {
   "cell_type": "code",
   "execution_count": 251,
   "metadata": {
    "collapsed": true
   },
   "outputs": [],
   "source": [
    "for col in df_train['StartLng']:\n",
    "    if col < 73.8:\n",
    "        df_train['StartLng'] = 4\n",
    "    elif 73.8 <= col < 73.9:\n",
    "        df_train['StartLng'] = 5\n",
    "    else:\n",
    "        df_train['StartLng'] = 6"
   ]
  },
  {
   "cell_type": "code",
   "execution_count": 252,
   "metadata": {
    "collapsed": true
   },
   "outputs": [],
   "source": [
    "for col in df_train['EndLng']:\n",
    "    if col < 73.8:\n",
    "        df_train['EndLng'] = 4\n",
    "    elif 73.8 <= col < 73.9:\n",
    "        df_train['EndLng'] = 5\n",
    "    else:\n",
    "        df_train['EndLng'] = 6"
   ]
  },
  {
   "cell_type": "code",
   "execution_count": 268,
   "metadata": {
    "collapsed": false,
    "scrolled": true
   },
   "outputs": [
    {
     "data": {
      "text/html": [
       "<div>\n",
       "<table border=\"1\" class=\"dataframe\">\n",
       "  <thead>\n",
       "    <tr style=\"text-align: right;\">\n",
       "      <th></th>\n",
       "      <th>TripId</th>\n",
       "      <th>StartLat</th>\n",
       "      <th>StartLng</th>\n",
       "      <th>EndLat</th>\n",
       "      <th>EndLng</th>\n",
       "      <th>Distance</th>\n",
       "      <th>Month</th>\n",
       "      <th>Day</th>\n",
       "      <th>Hour</th>\n",
       "      <th>Weekend</th>\n",
       "      <th>Duration</th>\n",
       "      <th>Reservation</th>\n",
       "      <th>Outcome</th>\n",
       "    </tr>\n",
       "  </thead>\n",
       "  <tbody>\n",
       "    <tr>\n",
       "      <th>0</th>\n",
       "      <td>359822</td>\n",
       "      <td>2</td>\n",
       "      <td>4</td>\n",
       "      <td>1</td>\n",
       "      <td>6</td>\n",
       "      <td>0.074870</td>\n",
       "      <td>1</td>\n",
       "      <td>5</td>\n",
       "      <td>18.5</td>\n",
       "      <td>True</td>\n",
       "      <td>60.0</td>\n",
       "      <td>815.0</td>\n",
       "      <td>False</td>\n",
       "    </tr>\n",
       "    <tr>\n",
       "      <th>1</th>\n",
       "      <td>365352</td>\n",
       "      <td>2</td>\n",
       "      <td>4</td>\n",
       "      <td>1</td>\n",
       "      <td>6</td>\n",
       "      <td>0.045243</td>\n",
       "      <td>1</td>\n",
       "      <td>1</td>\n",
       "      <td>10.0</td>\n",
       "      <td>False</td>\n",
       "      <td>60.0</td>\n",
       "      <td>328.0</td>\n",
       "      <td>False</td>\n",
       "    </tr>\n",
       "    <tr>\n",
       "      <th>2</th>\n",
       "      <td>365353</td>\n",
       "      <td>2</td>\n",
       "      <td>4</td>\n",
       "      <td>1</td>\n",
       "      <td>6</td>\n",
       "      <td>0.052019</td>\n",
       "      <td>1</td>\n",
       "      <td>2</td>\n",
       "      <td>10.0</td>\n",
       "      <td>False</td>\n",
       "      <td>60.0</td>\n",
       "      <td>352.0</td>\n",
       "      <td>False</td>\n",
       "    </tr>\n",
       "    <tr>\n",
       "      <th>3</th>\n",
       "      <td>365354</td>\n",
       "      <td>2</td>\n",
       "      <td>4</td>\n",
       "      <td>1</td>\n",
       "      <td>6</td>\n",
       "      <td>0.052019</td>\n",
       "      <td>1</td>\n",
       "      <td>3</td>\n",
       "      <td>10.0</td>\n",
       "      <td>False</td>\n",
       "      <td>60.0</td>\n",
       "      <td>376.0</td>\n",
       "      <td>False</td>\n",
       "    </tr>\n",
       "    <tr>\n",
       "      <th>4</th>\n",
       "      <td>365355</td>\n",
       "      <td>2</td>\n",
       "      <td>4</td>\n",
       "      <td>1</td>\n",
       "      <td>6</td>\n",
       "      <td>0.052019</td>\n",
       "      <td>1</td>\n",
       "      <td>6</td>\n",
       "      <td>10.0</td>\n",
       "      <td>False</td>\n",
       "      <td>60.0</td>\n",
       "      <td>448.0</td>\n",
       "      <td>False</td>\n",
       "    </tr>\n",
       "  </tbody>\n",
       "</table>\n",
       "</div>"
      ],
      "text/plain": [
       "   TripId  StartLat  StartLng  EndLat  EndLng  Distance  Month  Day  Hour  \\\n",
       "0  359822         2         4       1       6  0.074870      1    5  18.5   \n",
       "1  365352         2         4       1       6  0.045243      1    1  10.0   \n",
       "2  365353         2         4       1       6  0.052019      1    2  10.0   \n",
       "3  365354         2         4       1       6  0.052019      1    3  10.0   \n",
       "4  365355         2         4       1       6  0.052019      1    6  10.0   \n",
       "\n",
       "  Weekend  Duration  Reservation Outcome  \n",
       "0    True      60.0        815.0   False  \n",
       "1   False      60.0        328.0   False  \n",
       "2   False      60.0        352.0   False  \n",
       "3   False      60.0        376.0   False  \n",
       "4   False      60.0        448.0   False  "
      ]
     },
     "execution_count": 268,
     "metadata": {},
     "output_type": "execute_result"
    }
   ],
   "source": [
    "df_train.head()"
   ]
  },
  {
   "cell_type": "markdown",
   "metadata": {},
   "source": [
    "### Correlation of features ( checking high linearity relation among features)"
   ]
  },
  {
   "cell_type": "code",
   "execution_count": 279,
   "metadata": {
    "collapsed": false
   },
   "outputs": [
    {
     "data": {
      "text/plain": [
       "<matplotlib.axes._subplots.AxesSubplot at 0x1ce0a15d630>"
      ]
     },
     "execution_count": 279,
     "metadata": {},
     "output_type": "execute_result"
    },
    {
     "data": {
      "image/png": "[encoded data removed]",
      "text/plain": [
       "<matplotlib.figure.Figure at 0x1ce3c569470>"
      ]
     },
     "metadata": {},
     "output_type": "display_data"
    }
   ],
   "source": [
    "corr = df_train[['Distance','Month','Day','Hour','Duration','Reservation']].corr()\n",
    "sns.heatmap(corr)"
   ]
  },
  {
   "cell_type": "markdown",
   "metadata": {},
   "source": [
    "### Some trends of features\n",
    "<br>As the new feature 'Reservation', we could noticed that, the trip created within 1 hour tend to be canceled at the end, while the trip created 2-8 hours before may more likely to be finished by Anonymous.<br/>"
   ]
  },
  {
   "cell_type": "code",
   "execution_count": 261,
   "metadata": {
    "collapsed": false
   },
   "outputs": [
    {
     "data": {
      "text/plain": [
       "<matplotlib.axes._subplots.AxesSubplot at 0x1ce0467ce48>"
      ]
     },
     "execution_count": 261,
     "metadata": {},
     "output_type": "execute_result"
    },
    {
     "data": {
      "image/png": "[encoded data removed]",
      "text/plain": [
       "<matplotlib.figure.Figure at 0x1ce0465da90>"
      ]
     },
     "metadata": {},
     "output_type": "display_data"
    }
   ],
   "source": [
    "df_train[df_train.Outcome == False]['Reservation'].plot.hist(xlim=(0,50),bins=200)"
   ]
  },
  {
   "cell_type": "code",
   "execution_count": 262,
   "metadata": {
    "collapsed": false
   },
   "outputs": [
    {
     "data": {
      "text/plain": [
       "<matplotlib.axes._subplots.AxesSubplot at 0x1ce075976a0>"
      ]
     },
     "execution_count": 262,
     "metadata": {},
     "output_type": "execute_result"
    },
    {
     "data": {
      "image/png": "[encoded data removed]",
      "text/plain": [
       "<matplotlib.figure.Figure at 0x1ce004e51d0>"
      ]
     },
     "metadata": {},
     "output_type": "display_data"
    }
   ],
   "source": [
    "df_train[df_train.Outcome == True]['Reservation'].plot.hist(xlim=(0,50),bins=200)"
   ]
  },
  {
   "cell_type": "markdown",
   "metadata": {},
   "source": [
    "## Describe the model"
   ]
  },
  {
   "cell_type": "markdown",
   "metadata": {},
   "source": [
    "### Random Forest\n",
    "<br>Random Forest has many advantages in a classification probelm. Comparing to other classification model, Random forests are extremely flexible and have very high accuracy. And it works well in a high dimension feature map with categorical variables (in this problem, we have categorical and non-categorical variables in feature map). Also, it is not sensitive to linearity of features and outliers (there are some outliers in geolocation in this problem). So Random Forest would be a good choice for this classification problem<br/>\n",
    "\n",
    "<br>The RF model I used is from sklearn.<br/>"
   ]
  },
  {
   "cell_type": "code",
   "execution_count": 282,
   "metadata": {
    "collapsed": false
   },
   "outputs": [],
   "source": [
    "X = df_train.reset_index(drop=True)\n",
    "y = np.where(X['Outcome'] == True, 1,0)\n",
    "X = X.drop(['TripId','Outcome'],axis=1)\n",
    "X = X.as_matrix().astype(np.float)"
   ]
  },
  {
   "cell_type": "code",
   "execution_count": 283,
   "metadata": {
    "collapsed": false
   },
   "outputs": [],
   "source": [
    "from sklearn.cross_validation import KFold\n",
    "\n",
    "def run_cv(X,y,clf_class,**kwargs):\n",
    "    kf = KFold(len(y),n_folds=5,shuffle=True)\n",
    "    y_pred = y.copy()\n",
    "    clf = clf_class(**kwargs)\n",
    "    for train_index, test_index in kf:\n",
    "        X_train, X_test = X[train_index], X[test_index]\n",
    "        y_train = y[train_index]\n",
    "        \n",
    "        clf.fit(X_train,y_train)\n",
    "        y_pred[test_index] = clf.predict(X_test)\n",
    "    return y_pred"
   ]
  },
  {
   "cell_type": "markdown",
   "metadata": {},
   "source": [
    "### Result\n",
    "<br>I used 5-fold cross-validation method to get the average accuracy of the random forest model.In k-fold cross-validation, the original sample is randomly partitioned into k equal sized subsamples. The advantage of this method over repeated random sub-sampling is that all observations are used for both training and validation, and each observation is used for validation exactly once. And from this method, it gave me accuracy around 75.7%.<br/> \n",
    "<br>Since it is a binary classifier, I also calculated the confusion matrix and the F1 score for further evaluation. The F1 score is a measure of a test's accuracy. It considers both the precision and the recall of the test to compute the score. From this test, F1 score is around 0.38, which is not as ideal as accuracy.<br/>"
   ]
  },
  {
   "cell_type": "code",
   "execution_count": 284,
   "metadata": {
    "collapsed": false
   },
   "outputs": [],
   "source": [
    "from sklearn.ensemble import RandomForestClassifier\n",
    "\n",
    "def accuracy(y_true,y_pred):\n",
    "    return np.mean(y_true == y_pred)\n",
    "\n",
    "RF_CV_result = run_cv(X,y,RandomForestClassifier)"
   ]
  },
  {
   "cell_type": "code",
   "execution_count": 285,
   "metadata": {
    "collapsed": false
   },
   "outputs": [
    {
     "name": "stdout",
     "output_type": "stream",
     "text": [
      "Random forest: 0.757151293387\n"
     ]
    }
   ],
   "source": [
    "print(\"Random forest: \" + str(accuracy(y, RF_CV_result)))"
   ]
  },
  {
   "cell_type": "code",
   "execution_count": 289,
   "metadata": {
    "collapsed": false
   },
   "outputs": [],
   "source": [
    "from sklearn.metrics import confusion_matrix\n",
    "from sklearn.metrics import precision_score\n",
    "from sklearn.metrics import recall_score\n",
    "\n",
    "def cal_evaluation(classifier, cm):\n",
    "    tp = cm[0][0]\n",
    "    fp = cm[0][1]\n",
    "    fn = cm[1][0]\n",
    "    tn = cm[1][1]\n",
    "    accuracy  = (tp + tn) / (tp + fp + fn + tn + 0.0)\n",
    "    precision = tp / (tp + fp + 0.0)\n",
    "    recall = tp / (tp + fn + 0.0)\n",
    "    print(classifier)\n",
    "    print(\"Accuracy is \" + str(accuracy))\n",
    "    print(\"Precision is \" + str(precision))\n",
    "    print(\"Recall is \" + str(recall))\n",
    "    print(\"F1 Score is \"+ str(2*(precision*recall)/(precision+recall)))\n",
    "\n",
    "def draw_confusion_matrices(confusion_matricies,class_names):\n",
    "    class_names = class_names.tolist()\n",
    "    for cm in confusion_matrices:\n",
    "        classifier, cm = cm[0], cm[1]\n",
    "        cal_evaluation(classifier, cm)\n",
    "        fig = plt.figure()\n",
    "        ax = fig.add_subplot(111)\n",
    "        cax = ax.matshow(cm, interpolation='nearest',cmap=plt.get_cmap('Reds'))\n",
    "        plt.title('Confusion matrix for %s' % classifier)\n",
    "        fig.colorbar(cax)\n",
    "        ax.set_xticklabels([''] + class_names)\n",
    "        ax.set_yticklabels([''] + class_names)\n",
    "        plt.xlabel('Predicted')\n",
    "        plt.ylabel('True')\n",
    "        plt.show()\n",
    "    \n",
    "y = np.array(y)\n",
    "class_names = np.unique(y)\n",
    "\n",
    "confusion_matrices = [\n",
    "    (\"Random Forest\", confusion_matrix(y,RF_CV_result))]"
   ]
  },
  {
   "cell_type": "code",
   "execution_count": 290,
   "metadata": {
    "collapsed": false
   },
   "outputs": [
    {
     "name": "stdout",
     "output_type": "stream",
     "text": [
      "Random Forest\n",
      "Accuracy is 0.757151293387\n",
      "Precision is 0.32541016596\n",
      "Recall is 0.469866338495\n",
      "F1 Score is 0.38451854753\n"
     ]
    },
    {
     "data": {
      "image/png": "[encoded data removed]",
      "text/plain": [
       "<matplotlib.figure.Figure at 0x1ce0fa32748>"
      ]
     },
     "metadata": {},
     "output_type": "display_data"
    }
   ],
   "source": [
    "draw_confusion_matrices(confusion_matrices,class_names)"
   ]
  },
  {
   "cell_type": "markdown",
   "metadata": {},
   "source": [
    "### XGBoost\n",
    "<br>Another predictive model I tried is XGBoost. XGBoost(Extreme Gradient Boosting) is one of the most loved machine learning algorithms at Kaggle. It is built on the principles of gradient boosting framework, and it can easily handle both qualitative and categorical features, so it could a great fit for this problem. And XGBoost usually gives higher accuracy among most classifiers (that's why it is used most in competition).<br/>\n",
    "<br>To implement XGBoost, I used one-hot encoder to encode categorical variables first, and make the feature matrix into a sparse matrix.<br/>"
   ]
  },
  {
   "cell_type": "code",
   "execution_count": 272,
   "metadata": {
    "collapsed": false
   },
   "outputs": [],
   "source": [
    "from sklearn.preprocessing import OneHotEncoder\n",
    "from scipy.sparse import hstack\n",
    "from sklearn.model_selection import train_test_split\n",
    "\n",
    "X1 = df_train.reset_index(drop=True)\n",
    "\n",
    "X2_train, X2_test = train_test_split(X1,test_size=0.2)\n",
    "\n",
    "y = np.where(X2_train['Outcome'] == True, 1,0)\n",
    "y_true = np.where(X2_test['Outcome'] == True, 1,0)\n",
    "\n",
    "X2_train = X2_train.drop(['TripId','Outcome'],axis=1)\n",
    "X2_test = X2_test.drop(['TripId','Outcome'],axis=1)\n",
    "\n",
    "categorical = ['StartLat','StartLng','EndLat','EndLng']\n",
    "not_categorical = []\n",
    "for category in X2_train.columns:\n",
    "    if category not in categorical:\n",
    "        not_categorical.append(category)\n",
    "\n",
    "\n",
    "enc = OneHotEncoder(handle_unknown='ignore')\n",
    "enc = enc.fit(pd.concat([X2_train[categorical],X2_test[categorical]]))\n",
    "\n",
    "X_cat_sparse=enc.transform(X2_train[categorical])\n",
    "X_test_cat_sparse=enc.transform(X2_test[categorical])\n",
    "\n",
    "X_sparse = hstack((X2_train[not_categorical].astype(float), X_cat_sparse))\n",
    "X_test_sparse = hstack((X2_test[not_categorical].astype(float), X_test_cat_sparse))\n",
    "\n",
    "del X_cat_sparse\n",
    "del X_test_cat_sparse"
   ]
  },
  {
   "cell_type": "code",
   "execution_count": 273,
   "metadata": {
    "collapsed": false
   },
   "outputs": [
    {
     "name": "stdout",
     "output_type": "stream",
     "text": [
      "Training data: (144952, 11)\n",
      "Labels: (144952,)\n"
     ]
    }
   ],
   "source": [
    "print(\"Training data: \" + format(X_sparse.shape))\n",
    "print(\"Labels: \" + format(y.shape))"
   ]
  },
  {
   "cell_type": "code",
   "execution_count": 189,
   "metadata": {
    "collapsed": true
   },
   "outputs": [],
   "source": [
    "import os\n",
    "\n",
    "mingw_path = 'C:\\\\Program Files\\\\mingw-w64\\\\MinGW\\\\mingw64\\\\bin'\n",
    "os.environ['PATH'] = mingw_path + ';' + os.environ['PATH']\n",
    "\n",
    "import xgboost as xgb"
   ]
  },
  {
   "cell_type": "code",
   "execution_count": 274,
   "metadata": {
    "collapsed": false
   },
   "outputs": [],
   "source": [
    "dtrain = xgb.DMatrix(X_sparse,label=y)\n",
    "dtest = xgb.DMatrix(X_test_sparse)\n",
    "\n",
    "param = {'max_depth':8, 'eta':0.05, 'silent':1, 'objective':'binary:logistic' }\n",
    "param['nthread'] = 4\n",
    "param['eval_metric'] = 'auc'\n",
    "param['subsample'] = 0.5\n",
    "param['colsample_bytree']= 0.5\n",
    "param['min_child_weight'] = 0\n",
    "param['booster'] = \"gblinear\""
   ]
  },
  {
   "cell_type": "code",
   "execution_count": null,
   "metadata": {
    "collapsed": true
   },
   "outputs": [],
   "source": [
    "watchlist  = [(dtrain,'train')]\n",
    "num_round = 1000\n",
    "early_stopping_rounds=10\n",
    "bst = xgb.train(param, dtrain, num_round, watchlist,early_stopping_rounds=early_stopping_rounds)"
   ]
  },
  {
   "cell_type": "markdown",
   "metadata": {},
   "source": [
    "### Result\n",
    "<br>I split the data into training and testing set, with ratio of 8:2. Since the XGBoost model gave the prediction in possibilities, I also converted them into binary outcomes for evaluation. And the accuracy is about 76.7% for XGBoost, which is doing better than the Random Forest.<br/>"
   ]
  },
  {
   "cell_type": "code",
   "execution_count": 276,
   "metadata": {
    "collapsed": false
   },
   "outputs": [
    {
     "name": "stdout",
     "output_type": "stream",
     "text": [
      "XGBoost: 0.766991362896\n"
     ]
    }
   ],
   "source": [
    "ypred = bst.predict(dtest)\n",
    "ypred = (ypred >= 0.5).astype(int)\n",
    "print(\"XGBoost: \" + str(accuracy(y_true, ypred)))"
   ]
  },
  {
   "cell_type": "markdown",
   "metadata": {},
   "source": [
    "## Future Work\n",
    "<br>To improve the result, a simple way is trying to create more useful features.Since features in this dataset is relatively insufficient (we have enough data to train) to build an efficient model.<br/>\n",
    "<br>Another way is definitely to try neural network. It is a robust model, which have the ability to learn and model non-linear and complex relationships, which is really important because in real-life, many of the relationships between inputs and outputs are non-linear as well as complex.<br/>"
   ]
  }
 ],
 "metadata": {
  "kernelspec": {
   "display_name": "Python 3",
   "language": "python",
   "name": "python3"
  },
  "language_info": {
   "codemirror_mode": {
    "name": "ipython",
    "version": 3
   },
   "file_extension": ".py",
   "mimetype": "text/x-python",
   "name": "python",
   "nbconvert_exporter": "python",
   "pygments_lexer": "ipython3",
   "version": "3.6.0"
  }
 },
 "nbformat": 4,
 "nbformat_minor": 2
}
