{
 "cells": [
  {
   "cell_type": "code",
   "execution_count": 1,
   "metadata": {
    "collapsed": true
   },
   "outputs": [],
   "source": [
    "import numpy as np\n",
    "import pandas as pd\n",
    "import matplotlib.pyplot as plt\n",
    "import seaborn as sns\n",
    "import datetime\n",
    "%matplotlib inline"
   ]
  },
  {
   "cell_type": "code",
   "execution_count": 2,
   "metadata": {
    "collapsed": false
   },
   "outputs": [
    {
     "data": {
      "text/html": [
       "<div>\n",
       "<table border=\"1\" class=\"dataframe\">\n",
       "  <thead>\n",
       "    <tr style=\"text-align: right;\">\n",
       "      <th></th>\n",
       "      <th>TripId</th>\n",
       "      <th>StartLat</th>\n",
       "      <th>StartLng</th>\n",
       "      <th>EndLat</th>\n",
       "      <th>EndLng</th>\n",
       "      <th>StartDateTime</th>\n",
       "      <th>EndDateTime</th>\n",
       "      <th>Status</th>\n",
       "      <th>CreatedTime</th>\n",
       "    </tr>\n",
       "  </thead>\n",
       "  <tbody>\n",
       "    <tr>\n",
       "      <th>0</th>\n",
       "      <td>359822</td>\n",
       "      <td>18.5867</td>\n",
       "      <td>73.8154</td>\n",
       "      <td>18.5369</td>\n",
       "      <td>73.8713</td>\n",
       "      <td>2014-01-05 18:30:00</td>\n",
       "      <td>2014-01-05 19:30:00</td>\n",
       "      <td>cancelled</td>\n",
       "      <td>2013-12-02 18:33:51</td>\n",
       "    </tr>\n",
       "    <tr>\n",
       "      <th>1</th>\n",
       "      <td>365352</td>\n",
       "      <td>18.5809</td>\n",
       "      <td>73.7606</td>\n",
       "      <td>18.5981</td>\n",
       "      <td>73.7187</td>\n",
       "      <td>2014-01-01 10:00:00</td>\n",
       "      <td>2014-01-01 11:00:00</td>\n",
       "      <td>cancelled</td>\n",
       "      <td>2013-12-18 17:56:19</td>\n",
       "    </tr>\n",
       "    <tr>\n",
       "      <th>2</th>\n",
       "      <td>365353</td>\n",
       "      <td>18.5826</td>\n",
       "      <td>73.7684</td>\n",
       "      <td>18.5981</td>\n",
       "      <td>73.7187</td>\n",
       "      <td>2014-01-02 10:00:00</td>\n",
       "      <td>2014-01-02 11:00:00</td>\n",
       "      <td>cancelled</td>\n",
       "      <td>2013-12-18 17:56:19</td>\n",
       "    </tr>\n",
       "    <tr>\n",
       "      <th>3</th>\n",
       "      <td>365354</td>\n",
       "      <td>18.5826</td>\n",
       "      <td>73.7684</td>\n",
       "      <td>18.5981</td>\n",
       "      <td>73.7187</td>\n",
       "      <td>2014-01-03 10:00:00</td>\n",
       "      <td>2014-01-03 11:00:00</td>\n",
       "      <td>cancelled</td>\n",
       "      <td>2013-12-18 17:56:19</td>\n",
       "    </tr>\n",
       "    <tr>\n",
       "      <th>4</th>\n",
       "      <td>365355</td>\n",
       "      <td>18.5826</td>\n",
       "      <td>73.7684</td>\n",
       "      <td>18.5981</td>\n",
       "      <td>73.7187</td>\n",
       "      <td>2014-01-06 10:00:00</td>\n",
       "      <td>2014-01-06 11:00:00</td>\n",
       "      <td>cancelled</td>\n",
       "      <td>2013-12-18 17:58:46</td>\n",
       "    </tr>\n",
       "  </tbody>\n",
       "</table>\n",
       "</div>"
      ],
      "text/plain": [
       "   TripId StartLat StartLng   EndLat   EndLng       StartDateTime  \\\n",
       "0  359822  18.5867  73.8154  18.5369  73.8713 2014-01-05 18:30:00   \n",
       "1  365352  18.5809  73.7606  18.5981  73.7187 2014-01-01 10:00:00   \n",
       "2  365353  18.5826  73.7684  18.5981  73.7187 2014-01-02 10:00:00   \n",
       "3  365354  18.5826  73.7684  18.5981  73.7187 2014-01-03 10:00:00   \n",
       "4  365355  18.5826  73.7684  18.5981  73.7187 2014-01-06 10:00:00   \n",
       "\n",
       "          EndDateTime     Status         CreatedTime  \n",
       "0 2014-01-05 19:30:00  cancelled 2013-12-02 18:33:51  \n",
       "1 2014-01-01 11:00:00  cancelled 2013-12-18 17:56:19  \n",
       "2 2014-01-02 11:00:00  cancelled 2013-12-18 17:56:19  \n",
       "3 2014-01-03 11:00:00  cancelled 2013-12-18 17:56:19  \n",
       "4 2014-01-06 11:00:00  cancelled 2013-12-18 17:58:46  "
      ]
     },
     "execution_count": 2,
     "metadata": {},
     "output_type": "execute_result"
    }
   ],
   "source": [
    "data_raw = pd.read_excel('DemandPredictionDatasetBR.csv.xlsx',sheet_name = None)\n",
    "data_raw.head()"
   ]
  },
  {
   "cell_type": "code",
   "execution_count": 3,
   "metadata": {
    "collapsed": false
   },
   "outputs": [
    {
     "data": {
      "text/plain": [
       "181770"
      ]
     },
     "execution_count": 3,
     "metadata": {},
     "output_type": "execute_result"
    }
   ],
   "source": [
    "len(data_raw)"
   ]
  },
  {
   "cell_type": "code",
   "execution_count": 64,
   "metadata": {
    "collapsed": false
   },
   "outputs": [],
   "source": [
    "df = data_raw[data_raw.StartLat != 0]\n",
    "df = df[df.EndLat != 0]\n",
    "df = df[df.StartLat.str.isdigit() != False]\n",
    "df = df[df.EndLat.str.isdigit() != False]\n",
    "df = df[df.StartLat < 40]\n",
    "df = df[df.EndLat < 40]"
   ]
  },
  {
   "cell_type": "code",
   "execution_count": 6,
   "metadata": {
    "collapsed": false
   },
   "outputs": [
    {
     "data": {
      "text/plain": [
       "181191"
      ]
     },
     "execution_count": 6,
     "metadata": {},
     "output_type": "execute_result"
    }
   ],
   "source": [
    "len(df)"
   ]
  },
  {
   "cell_type": "code",
   "execution_count": 7,
   "metadata": {
    "collapsed": false
   },
   "outputs": [
    {
     "data": {
      "image/png": "[encoded data removed]",
      "text/plain": [
       "<matplotlib.figure.Figure at 0x1ce33e78cc0>"
      ]
     },
     "metadata": {},
     "output_type": "display_data"
    }
   ],
   "source": [
    "sns.jointplot(x=\"StartLat\", y=\"StartLng\", data=df);"
   ]
  },
  {
   "cell_type": "code",
   "execution_count": 8,
   "metadata": {
    "collapsed": false
   },
   "outputs": [
    {
     "data": {
      "image/png": "[encoded data removed]",
      "text/plain": [
       "<matplotlib.figure.Figure at 0x1ce3a763d68>"
      ]
     },
     "metadata": {},
     "output_type": "display_data"
    }
   ],
   "source": [
    "sns.jointplot(x=\"EndLat\", y=\"EndLng\", data=df);"
   ]
  },
  {
   "cell_type": "code",
   "execution_count": 58,
   "metadata": {
    "collapsed": false
   },
   "outputs": [
    {
     "data": {
      "text/plain": [
       "<matplotlib.axes._subplots.AxesSubplot at 0x1ce4c921d30>"
      ]
     },
     "execution_count": 58,
     "metadata": {},
     "output_type": "execute_result"
    },
    {
     "data": {
      "image/png": "[encoded data removed]",
      "text/plain": [
       "<matplotlib.figure.Figure at 0x1ce4b69bc50>"
      ]
     },
     "metadata": {},
     "output_type": "display_data"
    }
   ],
   "source": [
    "df['StartLat'].plot.hist(xlim=(18.4,18.7),bins=1000) "
   ]
  },
  {
   "cell_type": "code",
   "execution_count": 69,
   "metadata": {
    "collapsed": false
   },
   "outputs": [
    {
     "data": {
      "text/plain": [
       "<matplotlib.axes._subplots.AxesSubplot at 0x1ce4c2c9908>"
      ]
     },
     "execution_count": 69,
     "metadata": {},
     "output_type": "execute_result"
    },
    {
     "data": {
      "image/png": "[encoded data removed]",
      "text/plain": [
       "<matplotlib.figure.Figure at 0x1ce4d24dc88>"
      ]
     },
     "metadata": {},
     "output_type": "display_data"
    }
   ],
   "source": [
    "df['StartLng'].plot.hist(xlim=(73.7,74),bins=1000) "
   ]
  },
  {
   "cell_type": "code",
   "execution_count": 59,
   "metadata": {
    "collapsed": false
   },
   "outputs": [
    {
     "data": {
      "text/plain": [
       "<matplotlib.axes._subplots.AxesSubplot at 0x1ce4b6138d0>"
      ]
     },
     "execution_count": 59,
     "metadata": {},
     "output_type": "execute_result"
    },
    {
     "data": {
      "image/png": "[encoded data removed]",
      "text/plain": [
       "<matplotlib.figure.Figure at 0x1ce42be0898>"
      ]
     },
     "metadata": {},
     "output_type": "display_data"
    }
   ],
   "source": [
    "df['EndLat'].plot.hist(xlim=(18.4,18.7),bins=1000) "
   ]
  },
  {
   "cell_type": "code",
   "execution_count": 60,
   "metadata": {
    "collapsed": false
   },
   "outputs": [
    {
     "data": {
      "text/plain": [
       "<matplotlib.axes._subplots.AxesSubplot at 0x1ce4d877fd0>"
      ]
     },
     "execution_count": 60,
     "metadata": {},
     "output_type": "execute_result"
    },
    {
     "data": {
      "image/png": "[encoded data removed]",
      "text/plain": [
       "<matplotlib.figure.Figure at 0x1ce456d3198>"
      ]
     },
     "metadata": {},
     "output_type": "display_data"
    }
   ],
   "source": [
    "df['EndLng'].plot.hist(xlim=(73.7,74),bins=1000) "
   ]
  },
  {
   "cell_type": "code",
   "execution_count": 65,
   "metadata": {
    "collapsed": false
   },
   "outputs": [],
   "source": [
    "df_train = df\n",
    "\n",
    "df_train['Distance'] = np.sqrt((df_train['EndLat'] - df_train['StartLat']).astype(float)**2 + (df_train['EndLng'] - df_train['StartLng']).astype(float)**2)\n",
    "\n",
    "\n",
    "df_train['StartDateTime'] = pd.to_datetime(df_train['StartDateTime'])\n",
    "df_train['EndDateTime'] = pd.to_datetime(df_train['EndDateTime'])\n",
    "df_train['CreatedTime'] = pd.to_datetime(df_train['CreatedTime'])\n",
    "df_train['Month'] = df_train['StartDateTime'].dt.month\n",
    "df_train['Day'] = df_train['StartDateTime'].dt.day\n",
    "df_train['Hour'] = df['StartDateTime'].dt.hour + round(df['StartDateTime'].dt.minute / 15) / 4\n",
    "df_train['Weekend'] = df_train['StartDateTime'].dt.weekday >= 5\n",
    "df_train['Duration'] = (df_train['EndDateTime']-df_train['StartDateTime']).astype('timedelta64[m]')\n",
    "df_train['Reservation'] = (df_train['StartDateTime']-df_train['CreatedTime']).astype('timedelta64[D]')\n",
    "\n",
    "df_train['Outcome'] = df_train['Status'] == 'completed'\n",
    "\n",
    "df_train = df_train.drop('Status',axis=1)\n",
    "df_train = df_train.drop('StartDateTime',axis=1)\n",
    "df_train = df_train.drop('EndDateTime',axis=1)\n",
    "df_train = df_train.drop('CreatedTime',axis=1)"
   ]
  },
  {
   "cell_type": "code",
   "execution_count": 66,
   "metadata": {
    "collapsed": false
   },
   "outputs": [],
   "source": [
    "for col in df_train['StartLat']:\n",
    "    if col < 18.5:\n",
    "        df_train['StartLat'] = 1\n",
    "    elif 18.5 <= col < 18.6:\n",
    "        df_train['StartLat'] = 2\n",
    "    else:\n",
    "        df_train['StartLat'] = 3"
   ]
  },
  {
   "cell_type": "code",
   "execution_count": 68,
   "metadata": {
    "collapsed": true
   },
   "outputs": [],
   "source": [
    "for col in df_train['EndLat']:\n",
    "    if col < 18.5:\n",
    "        df_train['EndLat'] = 1\n",
    "    elif 18.5 <= col < 18.6:\n",
    "        df_train['EndLat'] = 2\n",
    "    else:\n",
    "        df_train['EndLat'] = 3"
   ]
  },
  {
   "cell_type": "code",
   "execution_count": 70,
   "metadata": {
    "collapsed": true
   },
   "outputs": [],
   "source": [
    "for col in df_train['StartLng']:\n",
    "    if col < 73.8:\n",
    "        df_train['StartLng'] = 4\n",
    "    elif 73.8 <= col < 73.9:\n",
    "        df_train['StartLng'] = 5\n",
    "    else:\n",
    "        df_train['StartLng'] = 6"
   ]
  },
  {
   "cell_type": "code",
   "execution_count": 71,
   "metadata": {
    "collapsed": true
   },
   "outputs": [],
   "source": [
    "for col in df_train['EndLng']:\n",
    "    if col < 73.8:\n",
    "        df_train['EndLng'] = 4\n",
    "    elif 73.8 <= col < 73.9:\n",
    "        df_train['EndLng'] = 5\n",
    "    else:\n",
    "        df_train['EndLng'] = 6"
   ]
  },
  {
   "cell_type": "code",
   "execution_count": 207,
   "metadata": {
    "collapsed": false
   },
   "outputs": [
    {
     "data": {
      "text/html": [
       "<div>\n",
       "<table border=\"1\" class=\"dataframe\">\n",
       "  <thead>\n",
       "    <tr style=\"text-align: right;\">\n",
       "      <th></th>\n",
       "      <th>TripId</th>\n",
       "      <th>StartLat</th>\n",
       "      <th>StartLng</th>\n",
       "      <th>EndLat</th>\n",
       "      <th>EndLng</th>\n",
       "      <th>Distance</th>\n",
       "      <th>Month</th>\n",
       "      <th>Day</th>\n",
       "      <th>Hour</th>\n",
       "      <th>Weekend</th>\n",
       "      <th>Duration</th>\n",
       "      <th>Reservation</th>\n",
       "      <th>Outcome</th>\n",
       "    </tr>\n",
       "  </thead>\n",
       "  <tbody>\n",
       "    <tr>\n",
       "      <th>0</th>\n",
       "      <td>359822</td>\n",
       "      <td>2</td>\n",
       "      <td>4</td>\n",
       "      <td>1</td>\n",
       "      <td>6</td>\n",
       "      <td>0.074870</td>\n",
       "      <td>1</td>\n",
       "      <td>5</td>\n",
       "      <td>18.5</td>\n",
       "      <td>True</td>\n",
       "      <td>60.0</td>\n",
       "      <td>33.0</td>\n",
       "      <td>False</td>\n",
       "    </tr>\n",
       "    <tr>\n",
       "      <th>1</th>\n",
       "      <td>365352</td>\n",
       "      <td>2</td>\n",
       "      <td>4</td>\n",
       "      <td>1</td>\n",
       "      <td>6</td>\n",
       "      <td>0.045243</td>\n",
       "      <td>1</td>\n",
       "      <td>1</td>\n",
       "      <td>10.0</td>\n",
       "      <td>False</td>\n",
       "      <td>60.0</td>\n",
       "      <td>13.0</td>\n",
       "      <td>False</td>\n",
       "    </tr>\n",
       "    <tr>\n",
       "      <th>2</th>\n",
       "      <td>365353</td>\n",
       "      <td>2</td>\n",
       "      <td>4</td>\n",
       "      <td>1</td>\n",
       "      <td>6</td>\n",
       "      <td>0.052019</td>\n",
       "      <td>1</td>\n",
       "      <td>2</td>\n",
       "      <td>10.0</td>\n",
       "      <td>False</td>\n",
       "      <td>60.0</td>\n",
       "      <td>14.0</td>\n",
       "      <td>False</td>\n",
       "    </tr>\n",
       "    <tr>\n",
       "      <th>3</th>\n",
       "      <td>365354</td>\n",
       "      <td>2</td>\n",
       "      <td>4</td>\n",
       "      <td>1</td>\n",
       "      <td>6</td>\n",
       "      <td>0.052019</td>\n",
       "      <td>1</td>\n",
       "      <td>3</td>\n",
       "      <td>10.0</td>\n",
       "      <td>False</td>\n",
       "      <td>60.0</td>\n",
       "      <td>15.0</td>\n",
       "      <td>False</td>\n",
       "    </tr>\n",
       "    <tr>\n",
       "      <th>4</th>\n",
       "      <td>365355</td>\n",
       "      <td>2</td>\n",
       "      <td>4</td>\n",
       "      <td>1</td>\n",
       "      <td>6</td>\n",
       "      <td>0.052019</td>\n",
       "      <td>1</td>\n",
       "      <td>6</td>\n",
       "      <td>10.0</td>\n",
       "      <td>False</td>\n",
       "      <td>60.0</td>\n",
       "      <td>18.0</td>\n",
       "      <td>False</td>\n",
       "    </tr>\n",
       "  </tbody>\n",
       "</table>\n",
       "</div>"
      ],
      "text/plain": [
       "   TripId  StartLat  StartLng  EndLat  EndLng  Distance  Month  Day  Hour  \\\n",
       "0  359822         2         4       1       6  0.074870      1    5  18.5   \n",
       "1  365352         2         4       1       6  0.045243      1    1  10.0   \n",
       "2  365353         2         4       1       6  0.052019      1    2  10.0   \n",
       "3  365354         2         4       1       6  0.052019      1    3  10.0   \n",
       "4  365355         2         4       1       6  0.052019      1    6  10.0   \n",
       "\n",
       "  Weekend  Duration  Reservation Outcome  \n",
       "0    True      60.0         33.0   False  \n",
       "1   False      60.0         13.0   False  \n",
       "2   False      60.0         14.0   False  \n",
       "3   False      60.0         15.0   False  \n",
       "4   False      60.0         18.0   False  "
      ]
     },
     "execution_count": 207,
     "metadata": {},
     "output_type": "execute_result"
    }
   ],
   "source": [
    "df_train.head()"
   ]
  },
  {
   "cell_type": "markdown",
   "metadata": {},
   "source": [
    "Random Forest"
   ]
  },
  {
   "cell_type": "code",
   "execution_count": 211,
   "metadata": {
    "collapsed": false
   },
   "outputs": [],
   "source": [
    "X = df_train.reset_index(drop=True)\n",
    "y = np.where(X['Outcome'] == True, 1,0)\n",
    "X = X.drop(['TripId','Outcome'],axis=1)\n",
    "X = X.as_matrix().astype(np.float)"
   ]
  },
  {
   "cell_type": "code",
   "execution_count": 212,
   "metadata": {
    "collapsed": false
   },
   "outputs": [],
   "source": [
    "from sklearn.cross_validation import KFold\n",
    "\n",
    "def run_cv(X,y,clf_class,**kwargs):\n",
    "    kf = KFold(len(y),n_folds=5,shuffle=True)\n",
    "    y_pred = y.copy()\n",
    "    clf = clf_class(**kwargs)\n",
    "    for train_index, test_index in kf:\n",
    "        X_train, X_test = X[train_index], X[test_index]\n",
    "        y_train = y[train_index]\n",
    "        \n",
    "        clf.fit(X_train,y_train)\n",
    "        y_pred[test_index] = clf.predict(X_test)\n",
    "    return y_pred"
   ]
  },
  {
   "cell_type": "code",
   "execution_count": 218,
   "metadata": {
    "collapsed": false
   },
   "outputs": [],
   "source": [
    "from sklearn.ensemble import RandomForestClassifier\n",
    "from sklearn.neighbors import KNeighborsClassifier \n",
    "from sklearn.linear_model import LogisticRegression\n",
    "\n",
    "def accuracy(y_true,y_pred):\n",
    "    return np.mean(y_true == y_pred)\n",
    "\n",
    "LR_CV_result = run_cv(X,y,LogisticRegression)\n",
    "RF_CV_result = run_cv(X,y,RandomForestClassifier)\n",
    "KNN_CV_result = run_cv(X,y,KNeighborsClassifier)"
   ]
  },
  {
   "cell_type": "code",
   "execution_count": 219,
   "metadata": {
    "collapsed": false
   },
   "outputs": [
    {
     "name": "stdout",
     "output_type": "stream",
     "text": [
      "Logistic Regression (L2 is default): 0.767631946399\n",
      "Random forest: 0.74593660833\n",
      "K-nearest-neighbors: 0.75015867234\n"
     ]
    }
   ],
   "source": [
    "print(\"Logistic Regression (L2 is default): \" + str(accuracy(y, LR_CV_result)))\n",
    "print(\"Random forest: \" + str(accuracy(y, RF_CV_result)))\n",
    "print(\"K-nearest-neighbors: \" + str(accuracy(y, KNN_CV_result)))"
   ]
  },
  {
   "cell_type": "markdown",
   "metadata": {},
   "source": [
    "XGBoost"
   ]
  },
  {
   "cell_type": "code",
   "execution_count": 203,
   "metadata": {
    "collapsed": false
   },
   "outputs": [],
   "source": [
    "from sklearn.preprocessing import OneHotEncoder\n",
    "from scipy.sparse import hstack\n",
    "from sklearn.model_selection import train_test_split\n",
    "\n",
    "X1 = df_train.reset_index(drop=True)\n",
    "\n",
    "X_train, X_test = train_test_split(X1,test_size=0.2)\n",
    "\n",
    "y = np.where(X_train['Outcome'] == True, 1,0)\n",
    "y_true = np.where(X_test['Outcome'] == True, 1,0)\n",
    "\n",
    "X2_train = X2_train.drop(['TripId','Outcome'],axis=1)\n",
    "X2_test = X2_test.drop(['TripId','Outcome'],axis=1)\n",
    "\n",
    "categorical = ['StartLat','StartLng','EndLat','EndLng']\n",
    "not_categorical = []\n",
    "for category in X_train.columns:\n",
    "    if category not in categorical:\n",
    "        not_categorical.append(category)\n",
    "\n",
    "\n",
    "enc = OneHotEncoder(handle_unknown='ignore')\n",
    "enc = enc.fit(pd.concat([X2_train[categorical],X2_test[categorical]]))\n",
    "\n",
    "X_cat_sparse=enc.transform(X2_train[categorical])\n",
    "X_test_cat_sparse=enc.transform(X2_test[categorical])\n",
    "\n",
    "X_sparse = hstack((X2_train[not_categorical].astype(float), X_cat_sparse))\n",
    "X_test_sparse = hstack((X2_test[not_categorical].astype(float), X_test_cat_sparse))\n",
    "\n",
    "del X_cat_sparse\n",
    "del X_test_cat_sparse"
   ]
  },
  {
   "cell_type": "code",
   "execution_count": 200,
   "metadata": {
    "collapsed": false
   },
   "outputs": [
    {
     "name": "stdout",
     "output_type": "stream",
     "text": [
      "Training data: (144952, 11)\n",
      "Labels: (144952,)\n"
     ]
    }
   ],
   "source": [
    "print(\"Training data: \" + format(X_sparse.shape))\n",
    "print(\"Labels: \" + format(y.shape))"
   ]
  },
  {
   "cell_type": "code",
   "execution_count": 189,
   "metadata": {
    "collapsed": true
   },
   "outputs": [],
   "source": [
    "import os\n",
    "\n",
    "mingw_path = 'C:\\\\Program Files\\\\mingw-w64\\\\MinGW\\\\mingw64\\\\bin'\n",
    "os.environ['PATH'] = mingw_path + ';' + os.environ['PATH']\n",
    "\n",
    "import xgboost as xgb"
   ]
  },
  {
   "cell_type": "code",
   "execution_count": 204,
   "metadata": {
    "collapsed": false
   },
   "outputs": [],
   "source": [
    "dtrain = xgb.DMatrix(X_sparse,label=y)\n",
    "dtest = xgb.DMatrix(X_test_sparse)\n",
    "\n",
    "param = {'max_depth':8, 'eta':0.05, 'silent':1, 'objective':'binary:logistic' }\n",
    "param['nthread'] = 4\n",
    "param['eval_metric'] = 'auc'\n",
    "param['subsample'] = 0.5\n",
    "param['colsample_bytree']= 0.5\n",
    "param['min_child_weight'] = 0\n",
    "param['booster'] = \"gblinear\""
   ]
  },
  {
   "cell_type": "code",
   "execution_count": null,
   "metadata": {
    "collapsed": true
   },
   "outputs": [],
   "source": [
    "watchlist  = [(dtrain,'train')]\n",
    "num_round = 1000\n",
    "early_stopping_rounds=10\n",
    "bst = xgb.train(param, dtrain, num_round, watchlist,early_stopping_rounds=early_stopping_rounds)"
   ]
  },
  {
   "cell_type": "code",
   "execution_count": 206,
   "metadata": {
    "collapsed": false
   },
   "outputs": [
    {
     "name": "stdout",
     "output_type": "stream",
     "text": [
      "XGBoost: 0.765777201358\n"
     ]
    }
   ],
   "source": [
    "ypred = bst.predict(dtest)\n",
    "ypred = (ypred >= 0.5).astype(int)\n",
    "print(\"XGBoost: \" + str(accuracy(y_true, ypred)))"
   ]
  }
 ],
 "metadata": {
  "kernelspec": {
   "display_name": "Python 3",
   "language": "python",
   "name": "python3"
  },
  "language_info": {
   "codemirror_mode": {
    "name": "ipython",
    "version": 3
   },
   "file_extension": ".py",
   "mimetype": "text/x-python",
   "name": "python",
   "nbconvert_exporter": "python",
   "pygments_lexer": "ipython3",
   "version": "3.6.0"
  }
 },
 "nbformat": 4,
 "nbformat_minor": 2
}
