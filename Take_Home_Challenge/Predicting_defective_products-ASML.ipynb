{
 "cells": [
  {
   "cell_type": "markdown",
   "metadata": {},
   "source": [
    "# Predicting defective products - ASML"
   ]
  },
  {
   "cell_type": "markdown",
   "metadata": {},
   "source": [
    "## Understanding the raw dataset and Performing feature engineering"
   ]
  },
  {
   "cell_type": "code",
   "execution_count": 1,
   "metadata": {
    "collapsed": true
   },
   "outputs": [],
   "source": [
    "import numpy as np\n",
    "import pandas as pd\n",
    "import matplotlib.pyplot as plt\n",
    "import seaborn as sns\n",
    "%matplotlib inline"
   ]
  },
  {
   "cell_type": "code",
   "execution_count": 2,
   "metadata": {
    "collapsed": false
   },
   "outputs": [
    {
     "data": {
      "text/html": [
       "<div>\n",
       "<table border=\"1\" class=\"dataframe\">\n",
       "  <thead>\n",
       "    <tr style=\"text-align: right;\">\n",
       "      <th></th>\n",
       "      <th>f1</th>\n",
       "      <th>f2</th>\n",
       "      <th>f3</th>\n",
       "      <th>f4</th>\n",
       "      <th>f5</th>\n",
       "      <th>f6</th>\n",
       "      <th>f7</th>\n",
       "      <th>f8</th>\n",
       "      <th>target</th>\n",
       "    </tr>\n",
       "  </thead>\n",
       "  <tbody>\n",
       "    <tr>\n",
       "      <th>0</th>\n",
       "      <td>4.108216</td>\n",
       "      <td>33.094774</td>\n",
       "      <td>15.821643</td>\n",
       "      <td>-1.102204</td>\n",
       "      <td>25.651303</td>\n",
       "      <td>6.733467</td>\n",
       "      <td>-1.102204</td>\n",
       "      <td>5.991984</td>\n",
       "      <td>1277.312928</td>\n",
       "    </tr>\n",
       "    <tr>\n",
       "      <th>1</th>\n",
       "      <td>16.733467</td>\n",
       "      <td>61.647664</td>\n",
       "      <td>36.352705</td>\n",
       "      <td>-0.300601</td>\n",
       "      <td>64.729459</td>\n",
       "      <td>13.126253</td>\n",
       "      <td>-0.300601</td>\n",
       "      <td>7.975952</td>\n",
       "      <td>1309.375615</td>\n",
       "    </tr>\n",
       "    <tr>\n",
       "      <th>2</th>\n",
       "      <td>6.312625</td>\n",
       "      <td>-57.273481</td>\n",
       "      <td>19.899800</td>\n",
       "      <td>0.701403</td>\n",
       "      <td>25.651303</td>\n",
       "      <td>8.016032</td>\n",
       "      <td>NaN</td>\n",
       "      <td>14.148297</td>\n",
       "      <td>1261.211704</td>\n",
       "    </tr>\n",
       "    <tr>\n",
       "      <th>3</th>\n",
       "      <td>-5.911824</td>\n",
       "      <td>54.004565</td>\n",
       "      <td>40.420842</td>\n",
       "      <td>-1.302605</td>\n",
       "      <td>68.236473</td>\n",
       "      <td>1.703407</td>\n",
       "      <td>NaN</td>\n",
       "      <td>12.605210</td>\n",
       "      <td>1207.962228</td>\n",
       "    </tr>\n",
       "    <tr>\n",
       "      <th>4</th>\n",
       "      <td>0.100200</td>\n",
       "      <td>65.841901</td>\n",
       "      <td>31.432866</td>\n",
       "      <td>-2.304609</td>\n",
       "      <td>50.701403</td>\n",
       "      <td>4.609218</td>\n",
       "      <td>-2.304609</td>\n",
       "      <td>12.164329</td>\n",
       "      <td>1160.177286</td>\n",
       "    </tr>\n",
       "  </tbody>\n",
       "</table>\n",
       "</div>"
      ],
      "text/plain": [
       "          f1         f2         f3        f4         f5         f6        f7  \\\n",
       "0   4.108216  33.094774  15.821643 -1.102204  25.651303   6.733467 -1.102204   \n",
       "1  16.733467  61.647664  36.352705 -0.300601  64.729459  13.126253 -0.300601   \n",
       "2   6.312625 -57.273481  19.899800  0.701403  25.651303   8.016032       NaN   \n",
       "3  -5.911824  54.004565  40.420842 -1.302605  68.236473   1.703407       NaN   \n",
       "4   0.100200  65.841901  31.432866 -2.304609  50.701403   4.609218 -2.304609   \n",
       "\n",
       "          f8       target  \n",
       "0   5.991984  1277.312928  \n",
       "1   7.975952  1309.375615  \n",
       "2  14.148297  1261.211704  \n",
       "3  12.605210  1207.962228  \n",
       "4  12.164329  1160.177286  "
      ]
     },
     "execution_count": 2,
     "metadata": {},
     "output_type": "execute_result"
    }
   ],
   "source": [
    "data_raw = pd.read_csv('xl_data_science.csv')\n",
    "data_raw.head()"
   ]
  },
  {
   "cell_type": "code",
   "execution_count": 3,
   "metadata": {
    "collapsed": false
   },
   "outputs": [
    {
     "data": {
      "text/plain": [
       "100000"
      ]
     },
     "execution_count": 3,
     "metadata": {},
     "output_type": "execute_result"
    }
   ],
   "source": [
    "len(data_raw)"
   ]
  },
  {
   "cell_type": "code",
   "execution_count": 4,
   "metadata": {
    "collapsed": false
   },
   "outputs": [
    {
     "data": {
      "text/plain": [
       "63080"
      ]
     },
     "execution_count": 4,
     "metadata": {},
     "output_type": "execute_result"
    }
   ],
   "source": [
    "len(data_raw.dropna(axis=0,how='any'))"
   ]
  },
  {
   "cell_type": "markdown",
   "metadata": {},
   "source": [
    "#### There are many missing values in dataset, if I simply dropped the rows with missing value, the dataset will have about 60% remaining only, so it is not a feasible way.\n",
    "#### There are several ways to fill these missing values:\n",
    "<br>1. Fill gaps forward or backward, or linear interpolation at missing datapoints. But I don't think it is a feasible way in this dataset, cause each row is representing a single product and they are independent.<br/>\n",
    "<br>2. Replace missing value with a specific scalar value - mean value of columns or a value didn't appear in the column(indicating missing value), depends on the data distribution and the model used later.<br/>\n",
    "#### Here, I used mean value filling first."
   ]
  },
  {
   "cell_type": "code",
   "execution_count": 5,
   "metadata": {
    "collapsed": false
   },
   "outputs": [
    {
     "data": {
      "text/html": [
       "<div>\n",
       "<table border=\"1\" class=\"dataframe\">\n",
       "  <thead>\n",
       "    <tr style=\"text-align: right;\">\n",
       "      <th></th>\n",
       "      <th>f1</th>\n",
       "      <th>f2</th>\n",
       "      <th>f3</th>\n",
       "      <th>f4</th>\n",
       "      <th>f5</th>\n",
       "      <th>f6</th>\n",
       "      <th>f7</th>\n",
       "      <th>f8</th>\n",
       "      <th>target</th>\n",
       "    </tr>\n",
       "  </thead>\n",
       "  <tbody>\n",
       "    <tr>\n",
       "      <th>0</th>\n",
       "      <td>4.108216</td>\n",
       "      <td>33.094774</td>\n",
       "      <td>15.821643</td>\n",
       "      <td>-1.102204</td>\n",
       "      <td>25.651303</td>\n",
       "      <td>6.733467</td>\n",
       "      <td>-1.102204</td>\n",
       "      <td>5.991984</td>\n",
       "      <td>1277.312928</td>\n",
       "    </tr>\n",
       "    <tr>\n",
       "      <th>1</th>\n",
       "      <td>16.733467</td>\n",
       "      <td>61.647664</td>\n",
       "      <td>36.352705</td>\n",
       "      <td>-0.300601</td>\n",
       "      <td>64.729459</td>\n",
       "      <td>13.126253</td>\n",
       "      <td>-0.300601</td>\n",
       "      <td>7.975952</td>\n",
       "      <td>1309.375615</td>\n",
       "    </tr>\n",
       "    <tr>\n",
       "      <th>2</th>\n",
       "      <td>6.312625</td>\n",
       "      <td>-57.273481</td>\n",
       "      <td>19.899800</td>\n",
       "      <td>0.701403</td>\n",
       "      <td>25.651303</td>\n",
       "      <td>8.016032</td>\n",
       "      <td>0.345671</td>\n",
       "      <td>14.148297</td>\n",
       "      <td>1261.211704</td>\n",
       "    </tr>\n",
       "    <tr>\n",
       "      <th>3</th>\n",
       "      <td>-5.911824</td>\n",
       "      <td>54.004565</td>\n",
       "      <td>40.420842</td>\n",
       "      <td>-1.302605</td>\n",
       "      <td>68.236473</td>\n",
       "      <td>1.703407</td>\n",
       "      <td>0.345671</td>\n",
       "      <td>12.605210</td>\n",
       "      <td>1207.962228</td>\n",
       "    </tr>\n",
       "    <tr>\n",
       "      <th>4</th>\n",
       "      <td>0.100200</td>\n",
       "      <td>65.841901</td>\n",
       "      <td>31.432866</td>\n",
       "      <td>-2.304609</td>\n",
       "      <td>50.701403</td>\n",
       "      <td>4.609218</td>\n",
       "      <td>-2.304609</td>\n",
       "      <td>12.164329</td>\n",
       "      <td>1160.177286</td>\n",
       "    </tr>\n",
       "  </tbody>\n",
       "</table>\n",
       "</div>"
      ],
      "text/plain": [
       "          f1         f2         f3        f4         f5         f6        f7  \\\n",
       "0   4.108216  33.094774  15.821643 -1.102204  25.651303   6.733467 -1.102204   \n",
       "1  16.733467  61.647664  36.352705 -0.300601  64.729459  13.126253 -0.300601   \n",
       "2   6.312625 -57.273481  19.899800  0.701403  25.651303   8.016032  0.345671   \n",
       "3  -5.911824  54.004565  40.420842 -1.302605  68.236473   1.703407  0.345671   \n",
       "4   0.100200  65.841901  31.432866 -2.304609  50.701403   4.609218 -2.304609   \n",
       "\n",
       "          f8       target  \n",
       "0   5.991984  1277.312928  \n",
       "1   7.975952  1309.375615  \n",
       "2  14.148297  1261.211704  \n",
       "3  12.605210  1207.962228  \n",
       "4  12.164329  1160.177286  "
      ]
     },
     "execution_count": 5,
     "metadata": {},
     "output_type": "execute_result"
    }
   ],
   "source": [
    "df = data_raw.fillna(data_raw.mean())\n",
    "df.head()"
   ]
  },
  {
   "cell_type": "markdown",
   "metadata": {},
   "source": [
    "#### To understand the features, I plotted the distribution of every feature:\n",
    "<br>1. Most features are in a normal distribution, which is perfect.<br/>\n",
    "<br>2. Some features are in a positive skewed distribution, one way to reduce the skewness is to do log transform if necessary.<br/>\n",
    "<br>3. There are too many missing values in feature 'f7', so if I filled them with mean value, the frequency is much higher than other values. So it might be better to consider dropping this feature in training.<br/>"
   ]
  },
  {
   "cell_type": "code",
   "execution_count": 26,
   "metadata": {
    "collapsed": false
   },
   "outputs": [
    {
     "data": {
      "text/plain": [
       "<matplotlib.axes._subplots.AxesSubplot at 0x29eed48f940>"
      ]
     },
     "execution_count": 26,
     "metadata": {},
     "output_type": "execute_result"
    },
    {
     "data": {
      "image/png": "[encoded data removed]",
      "text/plain": [
       "<matplotlib.figure.Figure at 0x29eed5d1240>"
      ]
     },
     "metadata": {},
     "output_type": "display_data"
    }
   ],
   "source": [
    "sns.distplot(df['f2'], kde=False)"
   ]
  },
  {
   "cell_type": "code",
   "execution_count": 8,
   "metadata": {
    "collapsed": false
   },
   "outputs": [
    {
     "data": {
      "text/plain": [
       "<matplotlib.axes._subplots.AxesSubplot at 0x29eec3cf2e8>"
      ]
     },
     "execution_count": 8,
     "metadata": {},
     "output_type": "execute_result"
    },
    {
     "data": {
      "image/png": "[encoded data removed]",
      "text/plain": [
       "<matplotlib.figure.Figure at 0x29eec3f2438>"
      ]
     },
     "metadata": {},
     "output_type": "display_data"
    }
   ],
   "source": [
    "sns.distplot(df['f7'], kde=False)"
   ]
  },
  {
   "cell_type": "markdown",
   "metadata": {},
   "source": [
    "#### I also observed the 'target' featuren, which is the label in our model. I found it a extremely imbalanced dataset, with too many positive class(target>=1000). Some solutions to handle this:\n",
    "<br>1. To get more data of negative class (but not feasible in this case)<br/>\n",
    "<br>2. Resampling: up/down sampleing the dataset to ensure almost equal representation for each class in training<br/>\n",
    "<br>3. Weighting/Penalized: Some training algorithms such as tree-based algorithms can take instance weights are parameters. Attach higher weights to instances with less frequent labels.<br/>"
   ]
  },
  {
   "cell_type": "code",
   "execution_count": 24,
   "metadata": {
    "collapsed": false
   },
   "outputs": [
    {
     "data": {
      "text/plain": [
       "<matplotlib.axes._subplots.AxesSubplot at 0x29ef0cf5c88>"
      ]
     },
     "execution_count": 24,
     "metadata": {},
     "output_type": "execute_result"
    },
    {
     "data": {
      "image/png": "[encoded data removed]",
      "text/plain": [
       "<matplotlib.figure.Figure at 0x29ef0f8f358>"
      ]
     },
     "metadata": {},
     "output_type": "display_data"
    }
   ],
   "source": [
    "sns.distplot(df['target'], kde=False)"
   ]
  },
  {
   "cell_type": "code",
   "execution_count": 27,
   "metadata": {
    "collapsed": false
   },
   "outputs": [
    {
     "data": {
      "text/plain": [
       "227"
      ]
     },
     "execution_count": 27,
     "metadata": {},
     "output_type": "execute_result"
    }
   ],
   "source": [
    "len(df[df.target < 1000])"
   ]
  },
  {
   "cell_type": "markdown",
   "metadata": {},
   "source": [
    "#### Pearson Correlation to check collinearity among features, and some features are in high correlation coefficient. Some impacts of this will be:\n",
    "<br>1. Hard to distinguish which feature is more importance to the result<br/>\n",
    "<br>2. It will be unstable in a regression model if the testing data is in a different correlation.<br/>\n",
    "#### In general, we don't have to take care of this problem. But if necessary, I can drop the less important feature in a high correlation,  use Penalized model, or use PCA or some other methods to extract features."
   ]
  },
  {
   "cell_type": "code",
   "execution_count": 6,
   "metadata": {
    "collapsed": false
   },
   "outputs": [
    {
     "data": {
      "text/plain": [
       "<matplotlib.axes._subplots.AxesSubplot at 0x29eeb6ad6d8>"
      ]
     },
     "execution_count": 6,
     "metadata": {},
     "output_type": "execute_result"
    },
    {
     "data": {
      "image/png": "[encoded data removed]",
      "text/plain": [
       "<matplotlib.figure.Figure at 0x29eeb68dda0>"
      ]
     },
     "metadata": {},
     "output_type": "display_data"
    }
   ],
   "source": [
    "corr = df[['f1','f2','f3','f4','f5','f6','f7','f8']].corr()\n",
    "sns.heatmap(corr)"
   ]
  },
  {
   "cell_type": "markdown",
   "metadata": {},
   "source": [
    "## Define the problem and Model selection\n",
    "#### According to the dataset, the problem can be treated as regressiong problem or classification problem, and I will do both methods."
   ]
  },
  {
   "cell_type": "markdown",
   "metadata": {},
   "source": [
    "#### K-Fold cross validation to evaluate the model.\n",
    "<br>I used 5-fold cross-validation method to get the average accuracy of the random forest model.In k-fold cross-validation, the original sample is randomly partitioned into k equal sized subsamples. The advantage of this method over repeated random sub-sampling is that all observations are used for both training and validation, and each observation is used for validation exactly once. <br>"
   ]
  },
  {
   "cell_type": "code",
   "execution_count": 10,
   "metadata": {
    "collapsed": false
   },
   "outputs": [
    {
     "name": "stderr",
     "output_type": "stream",
     "text": [
      "C:\\Users\\Chiroy\\Anaconda3\\lib\\site-packages\\sklearn\\cross_validation.py:44: DeprecationWarning: This module was deprecated in version 0.18 in favor of the model_selection module into which all the refactored classes and functions are moved. Also note that the interface of the new CV iterators are different from that of this module. This module will be removed in 0.20.\n",
      "  \"This module will be removed in 0.20.\", DeprecationWarning)\n"
     ]
    }
   ],
   "source": [
    "from sklearn.cross_validation import KFold\n",
    "\n",
    "def run_cv(X,y,clf_class,**kwargs):\n",
    "    kf = KFold(len(y),n_folds=5,shuffle=True)\n",
    "    y_pred = y.copy()\n",
    "    clf = clf_class(**kwargs)\n",
    "    for train_index, test_index in kf:\n",
    "        X_train, X_test = X[train_index], X[test_index]\n",
    "        y_train = y[train_index]\n",
    "        \n",
    "        clf.fit(X_train,y_train)\n",
    "        y_pred[test_index] = clf.predict(X_test)\n",
    "    return y_pred"
   ]
  },
  {
   "cell_type": "markdown",
   "metadata": {},
   "source": [
    "### Regression Model\n",
    "#### In this case, the regression model is used for simply predicting the target value, based on features to identify the product is defective of not. I used linear regression and ridge regression in addition as my model. The pros and cons are:\n",
    "<br>Pros: Linear Regression is great if the data follow a linear trend or have a strong linear component<br/>\n",
    "<br>Cons: Linear Regression is limited to linear relationships, so if the dataset is not in linear relationships, the model won't work well. And Linear Regression is sensitive to outliers<br/>\n",
    "#### And the Ridge Regression is a Penalized model to reduce the impact of collinearity of features. According to this specific dataset, I will try this model as well"
   ]
  },
  {
   "cell_type": "markdown",
   "metadata": {},
   "source": [
    "#### Downsampling datasets - with classes ratio of 1:2"
   ]
  },
  {
   "cell_type": "code",
   "execution_count": 73,
   "metadata": {
    "collapsed": false
   },
   "outputs": [
    {
     "data": {
      "text/html": [
       "<div>\n",
       "<table border=\"1\" class=\"dataframe\">\n",
       "  <thead>\n",
       "    <tr style=\"text-align: right;\">\n",
       "      <th></th>\n",
       "      <th>f1</th>\n",
       "      <th>f2</th>\n",
       "      <th>f3</th>\n",
       "      <th>f4</th>\n",
       "      <th>f5</th>\n",
       "      <th>f6</th>\n",
       "      <th>f7</th>\n",
       "      <th>f8</th>\n",
       "      <th>target</th>\n",
       "    </tr>\n",
       "  </thead>\n",
       "  <tbody>\n",
       "    <tr>\n",
       "      <th>0</th>\n",
       "      <td>17.735471</td>\n",
       "      <td>8.572519</td>\n",
       "      <td>20.861723</td>\n",
       "      <td>-1.903808</td>\n",
       "      <td>19.639279</td>\n",
       "      <td>13.466934</td>\n",
       "      <td>-1.903808</td>\n",
       "      <td>22.084168</td>\n",
       "      <td>973.415683</td>\n",
       "    </tr>\n",
       "    <tr>\n",
       "      <th>1</th>\n",
       "      <td>-6.112224</td>\n",
       "      <td>112.777920</td>\n",
       "      <td>24.749499</td>\n",
       "      <td>-0.901804</td>\n",
       "      <td>36.673347</td>\n",
       "      <td>1.643287</td>\n",
       "      <td>0.345671</td>\n",
       "      <td>12.825651</td>\n",
       "      <td>1177.091969</td>\n",
       "    </tr>\n",
       "    <tr>\n",
       "      <th>2</th>\n",
       "      <td>11.923848</td>\n",
       "      <td>12.467986</td>\n",
       "      <td>32.585170</td>\n",
       "      <td>0.701403</td>\n",
       "      <td>49.699399</td>\n",
       "      <td>10.821643</td>\n",
       "      <td>0.701403</td>\n",
       "      <td>15.470942</td>\n",
       "      <td>1290.467142</td>\n",
       "    </tr>\n",
       "    <tr>\n",
       "      <th>3</th>\n",
       "      <td>4.108216</td>\n",
       "      <td>39.749794</td>\n",
       "      <td>22.484970</td>\n",
       "      <td>-4.308617</td>\n",
       "      <td>30.160321</td>\n",
       "      <td>6.412826</td>\n",
       "      <td>-4.308617</td>\n",
       "      <td>14.809619</td>\n",
       "      <td>998.385759</td>\n",
       "    </tr>\n",
       "    <tr>\n",
       "      <th>4</th>\n",
       "      <td>22.945892</td>\n",
       "      <td>32.623211</td>\n",
       "      <td>19.098196</td>\n",
       "      <td>-1.503006</td>\n",
       "      <td>30.661323</td>\n",
       "      <td>16.112224</td>\n",
       "      <td>0.345671</td>\n",
       "      <td>7.535070</td>\n",
       "      <td>1255.201719</td>\n",
       "    </tr>\n",
       "  </tbody>\n",
       "</table>\n",
       "</div>"
      ],
      "text/plain": [
       "          f1          f2         f3        f4         f5         f6        f7  \\\n",
       "0  17.735471    8.572519  20.861723 -1.903808  19.639279  13.466934 -1.903808   \n",
       "1  -6.112224  112.777920  24.749499 -0.901804  36.673347   1.643287  0.345671   \n",
       "2  11.923848   12.467986  32.585170  0.701403  49.699399  10.821643  0.701403   \n",
       "3   4.108216   39.749794  22.484970 -4.308617  30.160321   6.412826 -4.308617   \n",
       "4  22.945892   32.623211  19.098196 -1.503006  30.661323  16.112224  0.345671   \n",
       "\n",
       "          f8       target  \n",
       "0  22.084168   973.415683  \n",
       "1  12.825651  1177.091969  \n",
       "2  15.470942  1290.467142  \n",
       "3  14.809619   998.385759  \n",
       "4   7.535070  1255.201719  "
      ]
     },
     "execution_count": 73,
     "metadata": {},
     "output_type": "execute_result"
    }
   ],
   "source": [
    "df_neg = df[df.target < 1000]\n",
    "df_pos = df[df.target >= 1000].sample(n=len(df_neg)*2)\n",
    "df_new = df_neg.append(df_pos).sample(frac=1)\n",
    "df_new = df_new.reset_index(drop=True)\n",
    "df_new.head()"
   ]
  },
  {
   "cell_type": "markdown",
   "metadata": {},
   "source": [
    "#### Data preprocessing - Standardization and dropping 'f7' feature"
   ]
  },
  {
   "cell_type": "code",
   "execution_count": 74,
   "metadata": {
    "collapsed": false
   },
   "outputs": [],
   "source": [
    "from sklearn.preprocessing import StandardScaler\n",
    "\n",
    "X1 = df_new.drop('f7',axis=1)\n",
    "X1 = X1.as_matrix().astype(float)\n",
    "y1 = df_new['target']\n",
    "\n",
    "scaler = StandardScaler()\n",
    "X1 = scaler.fit_transform(X1)"
   ]
  },
  {
   "cell_type": "markdown",
   "metadata": {},
   "source": [
    "#### Evaluation of models\n",
    "<br>Both models perform similar in accuracy, but linear regression has lower root mean square error.<br/>"
   ]
  },
  {
   "cell_type": "code",
   "execution_count": 75,
   "metadata": {
    "collapsed": false
   },
   "outputs": [
    {
     "name": "stdout",
     "output_type": "stream",
     "text": [
      "Linear Regression Accuracy (evaluation): 1.0, RMS = 2.97129124931e-13\n",
      "Ridge Accuracy (evaluation): 1.0, RMS = 1.46598381482\n"
     ]
    }
   ],
   "source": [
    "from sklearn.linear_model import LinearRegression\n",
    "from sklearn.linear_model import Ridge\n",
    "\n",
    "Ridge_CV_result = run_cv(X1,y1,Ridge) \n",
    "LR_CV_result = run_cv(X1,y1,LinearRegression)\n",
    "\n",
    "def accuracy(y_true,y_pred):\n",
    "    rms = np.sqrt(((y_true-y_pred)**2).mean())\n",
    "    y_true = (y_true >= 1000)\n",
    "    y_pred = (y_pred >= 1000)\n",
    "    return [np.mean(y_true == y_pred),rms]\n",
    "\n",
    "print (\"Linear Regression Accuracy (evaluation): \" + str(accuracy(y1, LR_CV_result)[0]) + ', RMS = ' + str(accuracy(y1, LR_CV_result)[1]))\n",
    "print (\"Ridge Accuracy (evaluation): \" + str(accuracy(y1, Ridge_CV_result)[0]) + ', RMS = ' + str(accuracy(y1, Ridge_CV_result)[1]))"
   ]
  },
  {
   "cell_type": "markdown",
   "metadata": {},
   "source": [
    "#### Model Accuracy\n",
    "<br>I collected testing data from the whole dataset (not from downsampled training dataset), and two models perform similar again. The F1-Score of linear regression is about 0.88. The recall is not as good as precision, this is because there are too many positive class data in the dataset, and we don't train enough positive class data. That is one of the impacts if we downsample the dataset.<br/>"
   ]
  },
  {
   "cell_type": "code",
   "execution_count": 76,
   "metadata": {
    "collapsed": false
   },
   "outputs": [
    {
     "name": "stdout",
     "output_type": "stream",
     "text": [
      "Linear Regression Accuracy: 0.779411764706, RMS = 179.718929167\n",
      "Ridge Accuracy: 0.779411764706, RMS = 178.915058464\n"
     ]
    }
   ],
   "source": [
    "X1_test = df.sample(n=int(0.2*len(df_new)))\n",
    "y1_test = X1_test['target']\n",
    "X1_test = X1_test.drop('f7',axis=1)\n",
    "X1_test = X1_test.as_matrix().astype(float)\n",
    "X1_test = scaler.fit_transform(X1_test)\n",
    "\n",
    "LR = LinearRegression()\n",
    "Rdg = Ridge()\n",
    "\n",
    "LR.fit(X1, y1)\n",
    "Rdg.fit(X1, y1)\n",
    "\n",
    "y1_pred_LR = LR.predict(X1_test)\n",
    "y1_pred_Rdg = Rdg.predict(X1_test)\n",
    "\n",
    "print (\"Linear Regression Accuracy: \" + str(accuracy(y1_test, y1_pred_LR)[0]) + ', RMS = ' + str(accuracy(y1_test,y1_pred_LR)[1]))\n",
    "print (\"Ridge Accuracy: \" + str(accuracy(y1_test, y1_pred_Rdg)[0]) + ', RMS = ' + str(accuracy(y1_test, y1_pred_Rdg)[1]))"
   ]
  },
  {
   "cell_type": "code",
   "execution_count": 81,
   "metadata": {
    "collapsed": false
   },
   "outputs": [
    {
     "name": "stdout",
     "output_type": "stream",
     "text": [
      "Recall =  0.779411764706\n",
      "Precision =  1.0\n",
      "F1-Score =  0.876033057851\n"
     ]
    }
   ],
   "source": [
    "tn, fp, fn, tp = confusion_matrix(y1_test>=1000, y1_pred_LR>=1000).ravel()\n",
    "recall = tp / (tp + fn)\n",
    "prec = tp / (tp + fp)\n",
    "F1 = 2 * recall * prec / (recall + prec)\n",
    "print('Recall = ', recall)\n",
    "print('Precision = ', prec)\n",
    "print('F1-Score = ', F1)"
   ]
  },
  {
   "cell_type": "markdown",
   "metadata": {},
   "source": [
    "### Classification Model\n",
    "#### In this case, the target value will be transformed into label value first and training after that. I used Random Forest as my classification model, and the pros and cons are:\n",
    "<br>Pros: Comparing to other classification model, Random forests are extremely flexible and have very high accuracy.And it works well in a high dimension feature map with missing value (assigned it as a specific value).Decision trees often perform well on imbalanced datasets. The splitting rules that look at the class variable used in the creation of the trees, can force both classes to be addressed. Also, it is not sensitive to linearity of features and outliers.<br/>\n",
    "<br>Cons: The main disadvantage of Random forests is their complexity. They are much harder and time-consuming to construct than decision trees. They also require more computational resources and are also less intuitive. <br/>\n",
    "#### According to this dataset, Random Forest would be a good choice for this classification problem."
   ]
  },
  {
   "cell_type": "markdown",
   "metadata": {},
   "source": [
    "#### Data preprocessing - Standardization and dropping 'f7' feature"
   ]
  },
  {
   "cell_type": "code",
   "execution_count": 82,
   "metadata": {
    "collapsed": true
   },
   "outputs": [],
   "source": [
    "from sklearn.preprocessing import StandardScaler\n",
    "\n",
    "X = df.drop('f7',axis=1)\n",
    "X = X.as_matrix().astype(float)\n",
    "\n",
    "scaler = StandardScaler()\n",
    "X = scaler.fit_transform(X)"
   ]
  },
  {
   "cell_type": "markdown",
   "metadata": {},
   "source": [
    "#### Evaluation of models - adding weigt into training\n",
    "<br>As the model is only trained on the normal/valid data, the majority class, the skewdness of the data is not the problem. For Random Forest, this imbalance has to be taken into account. One possible way would be to sample the data to get a more balanced dataset, another is the introduction of weighted cost for the classes.<br/>"
   ]
  },
  {
   "cell_type": "code",
   "execution_count": 83,
   "metadata": {
    "collapsed": false
   },
   "outputs": [
    {
     "name": "stdout",
     "output_type": "stream",
     "text": [
      "Random forest Accuracy (evaluation): 0.99999\n"
     ]
    }
   ],
   "source": [
    "y2 = df['target'] >= 1000\n",
    "\n",
    "def accuracy2(y_true,y_pred):\n",
    "    return np.mean(y_true == y_pred)\n",
    "\n",
    "from sklearn.ensemble import RandomForestClassifier\n",
    "\n",
    "RF_CV_result = run_cv(X,y2,RandomForestClassifier,class_weight = {0: 100000, 1: 1})\n",
    "print(\"Random forest Accuracy (evaluation): \" + str(accuracy2(y2, RF_CV_result)))"
   ]
  },
  {
   "cell_type": "markdown",
   "metadata": {},
   "source": [
    "#### Model Accuracy\n",
    "<br>Although I adding a much higher weight to anormaly class, the model still perform well in the testing set(with train- test ratio of 7:3). One reason is the model is trained perfectly. Another reason is still, the data is imbalance, and adding more data will be better for furture prediction.<br/>"
   ]
  },
  {
   "cell_type": "code",
   "execution_count": 87,
   "metadata": {
    "collapsed": false
   },
   "outputs": [
    {
     "name": "stdout",
     "output_type": "stream",
     "text": [
      "Random forest Accuracy: 1.0\n"
     ]
    }
   ],
   "source": [
    "from sklearn.model_selection import train_test_split\n",
    "\n",
    "X_train, X_test, y_train, y_test = train_test_split(X,y2,test_size=0.3)\n",
    "RF = RandomForestClassifier(class_weight={0: 100000, 1: 1})\n",
    "RF.fit(X_train, y_train)\n",
    "y_pred = RF.predict(X_test)\n",
    "print(\"Random forest Accuracy: \" + str(accuracy2(y_test, y_pred)))"
   ]
  },
  {
   "cell_type": "code",
   "execution_count": 88,
   "metadata": {
    "collapsed": false
   },
   "outputs": [
    {
     "name": "stdout",
     "output_type": "stream",
     "text": [
      "Random Forest\n",
      "Accuracy is 1.0\n",
      "Precision is 1.0\n",
      "Recall is 1.0\n",
      "F1-score is 1.0\n"
     ]
    },
    {
     "data": {
      "image/png": "[encoded data removed]",
      "text/plain": [
       "<matplotlib.figure.Figure at 0x29ef2f7d438>"
      ]
     },
     "metadata": {},
     "output_type": "display_data"
    }
   ],
   "source": [
    "from sklearn.metrics import confusion_matrix\n",
    "from sklearn.metrics import precision_score\n",
    "from sklearn.metrics import recall_score\n",
    "\n",
    "def cal_evaluation(classifier, cm):\n",
    "    tp = cm[0][0]\n",
    "    fp = cm[0][1]\n",
    "    fn = cm[1][0]\n",
    "    tn = cm[1][1]\n",
    "    accuracy  = (tp + tn) / (tp + fp + fn + tn + 0.0)\n",
    "    precision = tp / (tp + fp + 0.0)\n",
    "    recall = tp / (tp + fn + 0.0)\n",
    "    print(classifier)\n",
    "    print(\"Accuracy is \" + str(accuracy))\n",
    "    print(\"Precision is \" + str(precision))\n",
    "    print(\"Recall is \" + str(recall))\n",
    "    print(\"F1-score is \" + str((2*precision*recall)/(precision+recall)))\n",
    "\n",
    "def draw_confusion_matrices(confusion_matricies,class_names):\n",
    "    class_names = class_names.tolist()\n",
    "    for cm in confusion_matrices:\n",
    "        classifier, cm = cm[0], cm[1]\n",
    "        cal_evaluation(classifier, cm)\n",
    "        fig = plt.figure()\n",
    "        ax = fig.add_subplot(111)\n",
    "        cax = ax.matshow(cm, interpolation='nearest',cmap=plt.get_cmap('Reds'))\n",
    "        plt.title('Confusion matrix for %s' % classifier)\n",
    "        fig.colorbar(cax)\n",
    "        plt.xlabel('Predicted')\n",
    "        plt.ylabel('True')\n",
    "        plt.show()\n",
    "    \n",
    "y = np.array(y)\n",
    "class_names = np.unique(y)\n",
    "\n",
    "confusion_matrices = [\n",
    "    (\"Random Forest\", confusion_matrix(y_test,y_pred)),\n",
    "]\n",
    "\n",
    "draw_confusion_matrices(confusion_matrices,class_names)"
   ]
  },
  {
   "cell_type": "markdown",
   "metadata": {},
   "source": [
    "#### Importance of Features - Another Pros of Random Forest is, we can find which feature has more impact on final result\n",
    "<br>And we could see, 'f8' has much higher importance than other features.<br/>"
   ]
  },
  {
   "cell_type": "code",
   "execution_count": 92,
   "metadata": {
    "collapsed": false
   },
   "outputs": [
    {
     "name": "stdout",
     "output_type": "stream",
     "text": [
      "Feature importance ranking by Random Forest Model:\n",
      "f8: 0.9283\n",
      "f4: 0.03\n",
      "f7: 0.0221\n",
      "f3: 0.009\n",
      "f6: 0.0041\n",
      "f1: 0.0031\n",
      "f2: 0.0021\n",
      "f5: 0.0014\n"
     ]
    }
   ],
   "source": [
    "forest = RandomForestClassifier()\n",
    "forest.fit(X, y2)\n",
    "\n",
    "importances = forest.feature_importances_\n",
    "\n",
    "# Print the feature ranking\n",
    "print(\"Feature importance ranking by Random Forest Model:\")\n",
    "for k,v in sorted(zip(map(lambda x: round(x, 4), importances), df.columns), reverse=True):\n",
    "    print(v + \": \" + str(k))"
   ]
  },
  {
   "cell_type": "markdown",
   "metadata": {},
   "source": [
    "### Anomaly Detection\n",
    "#### Depending on this specific dataset, the problem can treated as a anomaly detection problem as well. There are many algorithm for Anomaly Detection: Density-based techniques like KNN, Clustering-Based techniques,SVM, Bayesian Networks, etc. So I will use KNN in this case.\n",
    "<br>Pros: Very easy to understand and implement. Does not assume any probability distributions on the input data. Can quickly respond to changes in input(which is good for anomaly detection).<br/>\n",
    "<br>Cons: Sensitive to localized data. And if in high dimensions, KNN may consider outliers in some dimensions as anomal data points.<br/>"
   ]
  },
  {
   "cell_type": "markdown",
   "metadata": {},
   "source": [
    "#### Model Accuracy\n",
    "<br>We could see KNN performed as good as Random Forest, with F1-Score of 1. But in genearl, Anomaly Detection may combine two predictive models (KNN and another one), in case of outliers in some dimensions and KNN may consider them as anomal data points.<br/>"
   ]
  },
  {
   "cell_type": "code",
   "execution_count": 95,
   "metadata": {
    "collapsed": false
   },
   "outputs": [
    {
     "name": "stdout",
     "output_type": "stream",
     "text": [
      "K-nearest Neighbors Accuracy: 1.0\n"
     ]
    }
   ],
   "source": [
    "from sklearn.neighbors import KNeighborsClassifier \n",
    "\n",
    "X = df.drop('f7',axis=1)\n",
    "X = X.as_matrix().astype(float)\n",
    "y2 = df['target'] >= 1000\n",
    "\n",
    "scaler = StandardScaler()\n",
    "X = scaler.fit_transform(X)\n",
    "\n",
    "X_train, X_test, y_train, y_test = train_test_split(X,y2,test_size=0.3)\n",
    "KNN = KNeighborsClassifier()\n",
    "KNN.fit(X_train, y_train)\n",
    "y_pred = RF.predict(X_test)\n",
    "print(\"K-nearest Neighbors Accuracy: \" + str(accuracy2(y_test, y_pred)))"
   ]
  },
  {
   "cell_type": "code",
   "execution_count": 97,
   "metadata": {
    "collapsed": false
   },
   "outputs": [
    {
     "name": "stdout",
     "output_type": "stream",
     "text": [
      "Recall =  1.0\n",
      "Precision =  1.0\n",
      "F1-Score =  1.0\n"
     ]
    }
   ],
   "source": [
    "tn, fp, fn, tp = confusion_matrix(y_test, y_pred).ravel()\n",
    "recall = tp / (tp + fn)\n",
    "prec = tp / (tp + fp)\n",
    "F1 = 2 * recall * prec / (recall + prec)\n",
    "print('Recall = ', recall)\n",
    "print('Precision = ', prec)\n",
    "print('F1-Score = ', F1)"
   ]
  }
 ],
 "metadata": {
  "kernelspec": {
   "display_name": "Python 3",
   "language": "python",
   "name": "python3"
  },
  "language_info": {
   "codemirror_mode": {
    "name": "ipython",
    "version": 3
   },
   "file_extension": ".py",
   "mimetype": "text/x-python",
   "name": "python",
   "nbconvert_exporter": "python",
   "pygments_lexer": "ipython3",
   "version": "3.6.0"
  }
 },
 "nbformat": 4,
 "nbformat_minor": 2
}
