{
 "cells": [
  {
   "cell_type": "markdown",
   "metadata": {},
   "source": [
    "# LaiData Spark Final Project"
   ]
  },
  {
   "cell_type": "markdown",
   "metadata": {},
   "source": [
    "## Background\n",
    "<br>Collaborative Filtering(CF) is a subset of algorithms that exploit other users and items along with their ratings(selection, purchase information could be also used) and target user history to recommend an item that target user does not have ratings for. Fundamental assumption behind this approach is that other users preference over the items could be used recommending an item to the user who did not see the item or purchase before.  <br/>\n",
    "<br>Spark does not include an implementation for user-based or item-based collaborative filtering. Instead, it has the Alternating Least Squares (ALS) Matrix Factorization method. ALS works by trying to find the optimal representation of a user and a product matrix – which when combined, should accurately represent the original dataset. The genius part of ALS is that it alternates between finding the optimal values for the user matrix and the product matrix.<br/>"
   ]
  },
  {
   "cell_type": "markdown",
   "metadata": {},
   "source": [
    "## Algorithm\n",
    "<br> The basic idea of matrix factorization is that, each user can be described by k attributes or features, and each item can be described by an analagous set of k attributes or features. If we multiply each feature of the user by the correspoinding feature of the movie and add everything together, this will be a good approximation for the rating the user would give the movie. In formula,<br/>"
   ]
  },
  {
   "cell_type": "markdown",
   "metadata": {},
   "source": [
    "$$R_{ui} = X_u^T * Y_i = \\sum_k x_{uk}*y_{ki} $$"
   ]
  },
  {
   "cell_type": "markdown",
   "metadata": {},
   "source": [
    "<br>where $R_{ui}$ is our prediction for the true rating, and $X_u^T$ and $Y_i$ are assumed to be a row (column) vector, which represents the user and item latent vectors. And the lost function for this model is<br/>"
   ]
  },
  {
   "cell_type": "markdown",
   "metadata": {},
   "source": [
    "$$ L = \\sum_{u,i}(r_{ui} - X_u^T * Y_i)^2 + \\lambda_x \\sum_u ||X_u||^2 + \\lambda_y \\sum_u ||Y_i||^2$$"
   ]
  },
  {
   "cell_type": "markdown",
   "metadata": {},
   "source": [
    "<br>To find the optimal solutions for this lost function, we use Alternating Least Squares, which assume one variable is computed, and use the computed value for other one. We find the derivative of the function first, with respect to two variables, $X_u$ and $Y_i$, and set it as zero. Fortunately, we can find the closed form solution for both variables<br/>"
   ]
  },
  {
   "cell_type": "markdown",
   "metadata": {},
   "source": [
    "$$X_u^T = r_uY(Y^TY+\\lambda_xI)^{-1}$$\n",
    "$$Y_i = r_uX^T(XX^T+\\lambda_yI)^{-1}$$"
   ]
  },
  {
   "cell_type": "markdown",
   "metadata": {},
   "source": [
    "## Codes: Python Part"
   ]
  },
  {
   "cell_type": "markdown",
   "metadata": {},
   "source": [
    "### Data Exploration"
   ]
  },
  {
   "cell_type": "code",
   "execution_count": 7,
   "metadata": {
    "collapsed": true
   },
   "outputs": [],
   "source": [
    "import numpy as np\n",
    "import pandas as pd\n",
    "import matplotlib.pyplot as plt\n",
    "import seaborn as sns\n",
    "from sklearn.linear_model import LinearRegression\n",
    "from numpy.linalg import solve\n",
    "%matplotlib inline"
   ]
  },
  {
   "cell_type": "code",
   "execution_count": 2,
   "metadata": {
    "collapsed": false
   },
   "outputs": [
    {
     "data": {
      "text/html": [
       "<div>\n",
       "<table border=\"1\" class=\"dataframe\">\n",
       "  <thead>\n",
       "    <tr style=\"text-align: right;\">\n",
       "      <th></th>\n",
       "      <th>movieId</th>\n",
       "      <th>imdbId</th>\n",
       "      <th>tmdbId</th>\n",
       "    </tr>\n",
       "  </thead>\n",
       "  <tbody>\n",
       "    <tr>\n",
       "      <th>0</th>\n",
       "      <td>1</td>\n",
       "      <td>114709</td>\n",
       "      <td>862.0</td>\n",
       "    </tr>\n",
       "    <tr>\n",
       "      <th>1</th>\n",
       "      <td>2</td>\n",
       "      <td>113497</td>\n",
       "      <td>8844.0</td>\n",
       "    </tr>\n",
       "    <tr>\n",
       "      <th>2</th>\n",
       "      <td>3</td>\n",
       "      <td>113228</td>\n",
       "      <td>15602.0</td>\n",
       "    </tr>\n",
       "    <tr>\n",
       "      <th>3</th>\n",
       "      <td>4</td>\n",
       "      <td>114885</td>\n",
       "      <td>31357.0</td>\n",
       "    </tr>\n",
       "    <tr>\n",
       "      <th>4</th>\n",
       "      <td>5</td>\n",
       "      <td>113041</td>\n",
       "      <td>11862.0</td>\n",
       "    </tr>\n",
       "  </tbody>\n",
       "</table>\n",
       "</div>"
      ],
      "text/plain": [
       "   movieId  imdbId   tmdbId\n",
       "0        1  114709    862.0\n",
       "1        2  113497   8844.0\n",
       "2        3  113228  15602.0\n",
       "3        4  114885  31357.0\n",
       "4        5  113041  11862.0"
      ]
     },
     "execution_count": 2,
     "metadata": {},
     "output_type": "execute_result"
    }
   ],
   "source": [
    "link = pd.read_csv('ml-latest-small/links.csv')\n",
    "link.head()"
   ]
  },
  {
   "cell_type": "code",
   "execution_count": 3,
   "metadata": {
    "collapsed": false
   },
   "outputs": [
    {
     "data": {
      "text/html": [
       "<div>\n",
       "<table border=\"1\" class=\"dataframe\">\n",
       "  <thead>\n",
       "    <tr style=\"text-align: right;\">\n",
       "      <th></th>\n",
       "      <th>movieId</th>\n",
       "      <th>title</th>\n",
       "      <th>genres</th>\n",
       "    </tr>\n",
       "  </thead>\n",
       "  <tbody>\n",
       "    <tr>\n",
       "      <th>0</th>\n",
       "      <td>1</td>\n",
       "      <td>Toy Story (1995)</td>\n",
       "      <td>Adventure|Animation|Children|Comedy|Fantasy</td>\n",
       "    </tr>\n",
       "    <tr>\n",
       "      <th>1</th>\n",
       "      <td>2</td>\n",
       "      <td>Jumanji (1995)</td>\n",
       "      <td>Adventure|Children|Fantasy</td>\n",
       "    </tr>\n",
       "    <tr>\n",
       "      <th>2</th>\n",
       "      <td>3</td>\n",
       "      <td>Grumpier Old Men (1995)</td>\n",
       "      <td>Comedy|Romance</td>\n",
       "    </tr>\n",
       "    <tr>\n",
       "      <th>3</th>\n",
       "      <td>4</td>\n",
       "      <td>Waiting to Exhale (1995)</td>\n",
       "      <td>Comedy|Drama|Romance</td>\n",
       "    </tr>\n",
       "    <tr>\n",
       "      <th>4</th>\n",
       "      <td>5</td>\n",
       "      <td>Father of the Bride Part II (1995)</td>\n",
       "      <td>Comedy</td>\n",
       "    </tr>\n",
       "  </tbody>\n",
       "</table>\n",
       "</div>"
      ],
      "text/plain": [
       "   movieId                               title  \\\n",
       "0        1                    Toy Story (1995)   \n",
       "1        2                      Jumanji (1995)   \n",
       "2        3             Grumpier Old Men (1995)   \n",
       "3        4            Waiting to Exhale (1995)   \n",
       "4        5  Father of the Bride Part II (1995)   \n",
       "\n",
       "                                        genres  \n",
       "0  Adventure|Animation|Children|Comedy|Fantasy  \n",
       "1                   Adventure|Children|Fantasy  \n",
       "2                               Comedy|Romance  \n",
       "3                         Comedy|Drama|Romance  \n",
       "4                                       Comedy  "
      ]
     },
     "execution_count": 3,
     "metadata": {},
     "output_type": "execute_result"
    }
   ],
   "source": [
    "movie = pd.read_csv('ml-latest-small/movies.csv')\n",
    "movie.head()"
   ]
  },
  {
   "cell_type": "code",
   "execution_count": 8,
   "metadata": {
    "collapsed": false
   },
   "outputs": [
    {
     "data": {
      "text/html": [
       "<div>\n",
       "<table border=\"1\" class=\"dataframe\">\n",
       "  <thead>\n",
       "    <tr style=\"text-align: right;\">\n",
       "      <th></th>\n",
       "      <th>userId</th>\n",
       "      <th>movieId</th>\n",
       "      <th>rating</th>\n",
       "      <th>timestamp</th>\n",
       "    </tr>\n",
       "  </thead>\n",
       "  <tbody>\n",
       "    <tr>\n",
       "      <th>0</th>\n",
       "      <td>1</td>\n",
       "      <td>31</td>\n",
       "      <td>2.5</td>\n",
       "      <td>1260759144</td>\n",
       "    </tr>\n",
       "    <tr>\n",
       "      <th>1</th>\n",
       "      <td>1</td>\n",
       "      <td>1029</td>\n",
       "      <td>3.0</td>\n",
       "      <td>1260759179</td>\n",
       "    </tr>\n",
       "    <tr>\n",
       "      <th>2</th>\n",
       "      <td>1</td>\n",
       "      <td>1061</td>\n",
       "      <td>3.0</td>\n",
       "      <td>1260759182</td>\n",
       "    </tr>\n",
       "    <tr>\n",
       "      <th>3</th>\n",
       "      <td>1</td>\n",
       "      <td>1129</td>\n",
       "      <td>2.0</td>\n",
       "      <td>1260759185</td>\n",
       "    </tr>\n",
       "    <tr>\n",
       "      <th>4</th>\n",
       "      <td>1</td>\n",
       "      <td>1172</td>\n",
       "      <td>4.0</td>\n",
       "      <td>1260759205</td>\n",
       "    </tr>\n",
       "  </tbody>\n",
       "</table>\n",
       "</div>"
      ],
      "text/plain": [
       "   userId  movieId  rating   timestamp\n",
       "0       1       31     2.5  1260759144\n",
       "1       1     1029     3.0  1260759179\n",
       "2       1     1061     3.0  1260759182\n",
       "3       1     1129     2.0  1260759185\n",
       "4       1     1172     4.0  1260759205"
      ]
     },
     "execution_count": 8,
     "metadata": {},
     "output_type": "execute_result"
    }
   ],
   "source": [
    "rate = pd.read_csv('ml-latest-small/ratings.csv')\n",
    "rate.head()"
   ]
  },
  {
   "cell_type": "code",
   "execution_count": 5,
   "metadata": {
    "collapsed": false
   },
   "outputs": [
    {
     "data": {
      "text/html": [
       "<div>\n",
       "<table border=\"1\" class=\"dataframe\">\n",
       "  <thead>\n",
       "    <tr style=\"text-align: right;\">\n",
       "      <th></th>\n",
       "      <th>userId</th>\n",
       "      <th>movieId</th>\n",
       "      <th>tag</th>\n",
       "      <th>timestamp</th>\n",
       "    </tr>\n",
       "  </thead>\n",
       "  <tbody>\n",
       "    <tr>\n",
       "      <th>0</th>\n",
       "      <td>15</td>\n",
       "      <td>339</td>\n",
       "      <td>sandra 'boring' bullock</td>\n",
       "      <td>1138537770</td>\n",
       "    </tr>\n",
       "    <tr>\n",
       "      <th>1</th>\n",
       "      <td>15</td>\n",
       "      <td>1955</td>\n",
       "      <td>dentist</td>\n",
       "      <td>1193435061</td>\n",
       "    </tr>\n",
       "    <tr>\n",
       "      <th>2</th>\n",
       "      <td>15</td>\n",
       "      <td>7478</td>\n",
       "      <td>Cambodia</td>\n",
       "      <td>1170560997</td>\n",
       "    </tr>\n",
       "    <tr>\n",
       "      <th>3</th>\n",
       "      <td>15</td>\n",
       "      <td>32892</td>\n",
       "      <td>Russian</td>\n",
       "      <td>1170626366</td>\n",
       "    </tr>\n",
       "    <tr>\n",
       "      <th>4</th>\n",
       "      <td>15</td>\n",
       "      <td>34162</td>\n",
       "      <td>forgettable</td>\n",
       "      <td>1141391765</td>\n",
       "    </tr>\n",
       "  </tbody>\n",
       "</table>\n",
       "</div>"
      ],
      "text/plain": [
       "   userId  movieId                      tag   timestamp\n",
       "0      15      339  sandra 'boring' bullock  1138537770\n",
       "1      15     1955                  dentist  1193435061\n",
       "2      15     7478                 Cambodia  1170560997\n",
       "3      15    32892                  Russian  1170626366\n",
       "4      15    34162              forgettable  1141391765"
      ]
     },
     "execution_count": 5,
     "metadata": {},
     "output_type": "execute_result"
    }
   ],
   "source": [
    "tag = pd.read_csv('ml-latest-small/tags.csv')\n",
    "tag.head()"
   ]
  },
  {
   "cell_type": "markdown",
   "metadata": {},
   "source": [
    "### Rating matrix building\n",
    "<br>For the rating matrix, I constructed it as followed rule. But I am not exactly sure I should rate 0 for the missing values, cause 0 means user do not like the item in some sense. But I don't have a better idea to fill the missing values, so I still do it in this way.<br/>"
   ]
  },
  {
   "cell_type": "markdown",
   "metadata": {},
   "source": [
    "$$ R_{ui}=\\left\\{\n",
    "\\begin{aligned}\n",
    "r\\text{,  if user u rate item i} \\\\\n",
    "0\\text{,  if user u did not rate item i}\n",
    "\\end{aligned}\n",
    "\\right.\n",
    "$$"
   ]
  },
  {
   "cell_type": "code",
   "execution_count": 11,
   "metadata": {
    "collapsed": false
   },
   "outputs": [
    {
     "data": {
      "text/plain": [
       "array([[ 0.,  0.,  0., ...,  0.,  0.,  0.],\n",
       "       [ 0.,  0.,  0., ...,  0.,  0.,  0.],\n",
       "       [ 0.,  0.,  0., ...,  0.,  0.,  0.],\n",
       "       ..., \n",
       "       [ 0.,  0.,  0., ...,  0.,  0.,  0.],\n",
       "       [ 4.,  0.,  0., ...,  0.,  0.,  0.],\n",
       "       [ 5.,  0.,  0., ...,  0.,  0.,  0.]])"
      ]
     },
     "execution_count": 11,
     "metadata": {},
     "output_type": "execute_result"
    }
   ],
   "source": [
    "table = pd.pivot_table(rate,index = 'userId',columns = 'movieId',values = 'rating')\n",
    "rating = table.fillna(value = 0).as_matrix()\n",
    "rating"
   ]
  },
  {
   "cell_type": "code",
   "execution_count": 31,
   "metadata": {
    "collapsed": false
   },
   "outputs": [
    {
     "data": {
      "text/plain": [
       "(671, 9066)"
      ]
     },
     "execution_count": 31,
     "metadata": {},
     "output_type": "execute_result"
    }
   ],
   "source": [
    "rating.shape"
   ]
  },
  {
   "cell_type": "markdown",
   "metadata": {},
   "source": [
    "### My ALS"
   ]
  },
  {
   "cell_type": "code",
   "execution_count": 66,
   "metadata": {
    "collapsed": true
   },
   "outputs": [],
   "source": [
    "def myALS(lambda_, n_factors, ratings, n_iter):\n",
    "    m, n = ratings.shape\n",
    "    X = 5 * np.random.rand(m, n_factors) \n",
    "    Y = 5 * np.random.rand(n_factors, n)\n",
    "    mse = []\n",
    "    \n",
    "    def get_mse(Q, X, Y):\n",
    "        return np.square(Q - np.dot(X, Y)).mean()\n",
    "    \n",
    "    for ii in range(n_iterations):\n",
    "        X = np.linalg.solve(np.dot(Y, Y.T) + lambda_ * np.eye(n_factors), \n",
    "                            np.dot(Y, ratings.T)).T\n",
    "        Y = np.linalg.solve(np.dot(X.T, X) + lambda_ * np.eye(n_factors),\n",
    "                            np.dot(X.T, ratings))\n",
    "        if ii % 5 == 0:\n",
    "            new_mse = get_mse(ratings, X, Y)\n",
    "            mse.append(new_mse)\n",
    "            print('{}th iteration'.format(ii))\n",
    "            print('Train mse:' + str(new_mse))\n",
    "    ratings_hat = np.dot(X,Y)\n",
    "    plt.plot(mse)"
   ]
  },
  {
   "cell_type": "code",
   "execution_count": 67,
   "metadata": {
    "collapsed": false
   },
   "outputs": [
    {
     "name": "stdout",
     "output_type": "stream",
     "text": [
      "0th iteration\n",
      "Train mse:0.187440186664\n",
      "5th iteration\n",
      "Train mse:0.0992529467734\n",
      "10th iteration\n",
      "Train mse:0.0985339315973\n",
      "15th iteration\n",
      "Train mse:0.0983438396054\n",
      "20th iteration\n",
      "Train mse:0.0982628085261\n",
      "25th iteration\n",
      "Train mse:0.0982222301716\n",
      "30th iteration\n",
      "Train mse:0.0982005645736\n"
     ]
    },
    {
     "data": {
      "image/png": "[encoded data removed]",
      "text/plain": [
       "<matplotlib.figure.Figure at 0x1c100f92780>"
      ]
     },
     "metadata": {},
     "output_type": "display_data"
    }
   ],
   "source": [
    "lambda_ = 0.1\n",
    "n_factors = 50\n",
    "n_iterations = 31\n",
    "\n",
    "myALS(lambda_, n_factors, rating, n_iterations)"
   ]
  },
  {
   "cell_type": "markdown",
   "metadata": {},
   "source": [
    "### ALS from class"
   ]
  },
  {
   "cell_type": "code",
   "execution_count": 63,
   "metadata": {
    "collapsed": true
   },
   "outputs": [],
   "source": [
    "class ExplicitMF():\n",
    "    def __init__(self,\n",
    "                ratings,\n",
    "                n_factors = 40,\n",
    "                item_reg = 0.0,\n",
    "                user_reg = 0.0,\n",
    "                verbose = False):\n",
    "        self.ratings = ratings\n",
    "        self.n_users,self.n_items = rating.shape\n",
    "        self.n_factors = n_factors\n",
    "        self.item_reg = item_reg\n",
    "        self.user_reg = user_reg\n",
    "        self._v = verbose\n",
    "        \n",
    "    def als_step(self,\n",
    "                latent_vectors,\n",
    "                fixed_vecs,\n",
    "                ratings,\n",
    "                _lambda,\n",
    "                type = 'user'):\n",
    "        if type == 'user':\n",
    "            YTY = fixed_vecs.T.dot(fixed_vecs)\n",
    "            lambdaI = np.eye(YTY.shape[0]) * _lambda\n",
    "            \n",
    "            for u in range(latent_vectors.shape[0]):\n",
    "                latent_vectors[u,:] = solve((YTY + lambdaI),\n",
    "                                           rating[u,:].dot(fixed_vecs))\n",
    "        elif type == 'item':\n",
    "            XTX = fixed_vecs.T.dot(fixed_vecs)\n",
    "            lambdaI = np.eye(XTX.shape[0]) * _lambda\n",
    "            \n",
    "            for i in range(latent_vectors.shape[0]):\n",
    "                latent_vectors[i,:] = solve((XTX + lambdaI),\n",
    "                                           rating[:,i].T.dot(fixed_vecs))\n",
    "        return latent_vectors\n",
    "    \n",
    "    def train(self,n_iter = 10):\n",
    "        self.user_vecs = np.random.random((self.n_users,self.n_factors))\n",
    "        self.item_vecs = np.random.random((self.n_items,self.n_factors))\n",
    "        \n",
    "        self.partial_train(n_iter)\n",
    "        \n",
    "    def partial_train(self,n_iter):\n",
    "        ctr = 1\n",
    "        while ctr <= n_iter:\n",
    "            if ctr % 10 == 0 and self._v:\n",
    "                print('\\tcurrent iteration:{}'.format(ctr))\n",
    "            self.user_vecs = self.als_step(self.user_vecs,\n",
    "                                          self.item_vecs,\n",
    "                                          self.ratings,\n",
    "                                          self.user_reg,\n",
    "                                          type = 'user')\n",
    "            self.item_vecs = self.als_step(self.item_vecs,\n",
    "                                          self.user_vecs,\n",
    "                                          self.ratings,\n",
    "                                          self.user_reg,\n",
    "                                          type = 'item')\n",
    "            ctr += 1\n",
    "    \n",
    "    def predict_all(self):\n",
    "        predictions = np.zeros((self.user_vecs.shape[0],\n",
    "                                self.item_vecs.shape[0]))\n",
    "        for u in range(self.user_vecs.shape[0]):\n",
    "            for i in range(self.item_vecs.shape[0]):\n",
    "                predictions[u,i] = self.predict(u,i)\n",
    "                \n",
    "        return predictions\n",
    "    \n",
    "    def predict(self,u,i):\n",
    "        return self.user_vecs[u,:].dot(self.item_vecs[i,:].T)\n",
    "    \n",
    "    def get_mse(self,pred,y):\n",
    "        return np.square(pred - y).mean()\n",
    "    \n",
    "    def calculate_learning_curve(self,iter_array):\n",
    "        iter_array.sort()\n",
    "        self.train_mse = []\n",
    "        #self.test_mse = []\n",
    "        iter_diff = 0\n",
    "        for (i,n_iter) in enumerate(iter_array):\n",
    "            if self._v:\n",
    "                print('Iteration:{}'.format(n_iter))\n",
    "            if i == 0:\n",
    "                self.train(n_iter - iter_diff)\n",
    "            else:\n",
    "                self.partial_train(n_iter - iter_diff)\n",
    "                \n",
    "            predictions = self.predict_all()\n",
    "            \n",
    "            self.train_mse += [self.get_mse(predictions, self.ratings)]\n",
    "            #self.test_mse += [self.get_mse(predictions, test)]\n",
    "            if self._v:\n",
    "                print('Train mse:' + str(self.train_mse[-1]))\n",
    "                #print('Test mse:' + str(self.test_mse[-1]))\n",
    "            iter_diff = n_iter\n",
    "        plt.plot(self.train_mse)"
   ]
  },
  {
   "cell_type": "code",
   "execution_count": 64,
   "metadata": {
    "collapsed": false
   },
   "outputs": [
    {
     "name": "stdout",
     "output_type": "stream",
     "text": [
      "Iteration:1\n",
      "Train mse:0.145579147091\n",
      "Iteration:6\n",
      "Train mse:0.0994284457374\n",
      "Iteration:11\n",
      "Train mse:0.0985307004103\n",
      "Iteration:16\n",
      "Train mse:0.0983258252223\n",
      "Iteration:21\n",
      "Train mse:0.0982545816915\n",
      "Iteration:26\n",
      "Train mse:0.0982224854597\n"
     ]
    },
    {
     "data": {
      "image/png": "[encoded data removed]",
      "text/plain": [
       "<matplotlib.figure.Figure at 0x1c1000e86d8>"
      ]
     },
     "metadata": {},
     "output_type": "display_data"
    }
   ],
   "source": [
    "ExplicitMF(ratings = rating,\n",
    "            n_factors = 50,\n",
    "            item_reg = 0.2,\n",
    "            user_reg = 0.2,\n",
    "            verbose = True).calculate_learning_curve(np.arange(1,31,5))"
   ]
  },
  {
   "cell_type": "markdown",
   "metadata": {},
   "source": [
    "### Conclusion\n",
    "\n",
    "<br>It looks like both codes work well, and they provided similar results. About 10 iterations, the error tend to converge to a steady point and it can rarely reduce anymore.<br/>"
   ]
  },
  {
   "cell_type": "markdown",
   "metadata": {},
   "source": [
    "## Codes: Spark Part"
   ]
  },
  {
   "cell_type": "markdown",
   "metadata": {},
   "source": [
    "### Data Exploration"
   ]
  },
  {
   "cell_type": "code",
   "execution_count": 1,
   "metadata": {
    "collapsed": false
   },
   "outputs": [],
   "source": [
    "import findspark\n",
    "findspark.init()\n",
    "import pyspark\n",
    "sc = pyspark.SparkContext()\n",
    "\n",
    "from pyspark.sql.types import *\n",
    "from pyspark.sql import Row\n",
    "from pyspark.sql import SparkSession\n",
    "\n",
    "spark = SparkSession.builder.appName(\"Python Spark SQL basic example\").config(\"spark.some.config.option\",\"some-value\").getOrCreate()"
   ]
  },
  {
   "cell_type": "code",
   "execution_count": 8,
   "metadata": {
    "collapsed": false
   },
   "outputs": [],
   "source": [
    "link_sc = sc.textFile('ml-latest-small/links.csv').map(lambda line:line.split(\",\"))\n",
    "header = link_sc.first()\n",
    "link_sc = link_sc.filter(lambda row: row != header)\n",
    "l = link_sc.map(lambda p: Row(movieId = p[0], imdbId = p[1], tmdbId = p[2]))\n",
    "schemalink = spark.createDataFrame(l)\n",
    "schemalink.createOrReplaceTempView('link')"
   ]
  },
  {
   "cell_type": "code",
   "execution_count": 7,
   "metadata": {
    "collapsed": false
   },
   "outputs": [
    {
     "name": "stdout",
     "output_type": "stream",
     "text": [
      "+-------+-------+------+\n",
      "| imdbId|movieId|tmdbId|\n",
      "+-------+-------+------+\n",
      "|0114709|      1|   862|\n",
      "|0113497|      2|  8844|\n",
      "|0113228|      3| 15602|\n",
      "|0114885|      4| 31357|\n",
      "|0113041|      5| 11862|\n",
      "|0113277|      6|   949|\n",
      "|0114319|      7| 11860|\n",
      "|0112302|      8| 45325|\n",
      "|0114576|      9|  9091|\n",
      "|0113189|     10|   710|\n",
      "|0112346|     11|  9087|\n",
      "|0112896|     12| 12110|\n",
      "|0112453|     13| 21032|\n",
      "|0113987|     14| 10858|\n",
      "|0112760|     15|  1408|\n",
      "|0112641|     16|   524|\n",
      "|0114388|     17|  4584|\n",
      "|0113101|     18|     5|\n",
      "|0112281|     19|  9273|\n",
      "|0113845|     20| 11517|\n",
      "+-------+-------+------+\n",
      "only showing top 20 rows\n",
      "\n"
     ]
    }
   ],
   "source": [
    "spark.sql(\"select * from link\").show()"
   ]
  },
  {
   "cell_type": "code",
   "execution_count": 5,
   "metadata": {
    "collapsed": false
   },
   "outputs": [],
   "source": [
    "movie_sc = sc.textFile('ml-latest-small/movies.csv').map(lambda line:line.split(\",\"))\n",
    "header = movie_sc.first()\n",
    "movie_sc = movie_sc.filter(lambda row: row != header)\n",
    "m = movie_sc.map(lambda p: Row(movieId = p[0], title = p[1], genres = p[2]))\n",
    "schemamovie = spark.createDataFrame(m)\n",
    "schemamovie.createOrReplaceTempView('movie')"
   ]
  },
  {
   "cell_type": "code",
   "execution_count": 11,
   "metadata": {
    "collapsed": false
   },
   "outputs": [
    {
     "name": "stdout",
     "output_type": "stream",
     "text": [
      "+--------------------+-------+--------------------+\n",
      "|              genres|movieId|               title|\n",
      "+--------------------+-------+--------------------+\n",
      "|Adventure|Animati...|      1|    Toy Story (1995)|\n",
      "|Adventure|Childre...|      2|      Jumanji (1995)|\n",
      "|      Comedy|Romance|      3|Grumpier Old Men ...|\n",
      "|Comedy|Drama|Romance|      4|Waiting to Exhale...|\n",
      "|              Comedy|      5|Father of the Bri...|\n",
      "|Action|Crime|Thri...|      6|         Heat (1995)|\n",
      "|      Comedy|Romance|      7|      Sabrina (1995)|\n",
      "|  Adventure|Children|      8| Tom and Huck (1995)|\n",
      "|              Action|      9| Sudden Death (1995)|\n",
      "|Action|Adventure|...|     10|    GoldenEye (1995)|\n",
      "|         The (1995)\"|     11| \"American President|\n",
      "|       Comedy|Horror|     12|Dracula: Dead and...|\n",
      "|Adventure|Animati...|     13|        Balto (1995)|\n",
      "|               Drama|     14|        Nixon (1995)|\n",
      "|Action|Adventure|...|     15|Cutthroat Island ...|\n",
      "|         Crime|Drama|     16|       Casino (1995)|\n",
      "|       Drama|Romance|     17|Sense and Sensibi...|\n",
      "|              Comedy|     18|   Four Rooms (1995)|\n",
      "|              Comedy|     19|Ace Ventura: When...|\n",
      "|Action|Comedy|Cri...|     20|  Money Train (1995)|\n",
      "+--------------------+-------+--------------------+\n",
      "only showing top 20 rows\n",
      "\n"
     ]
    }
   ],
   "source": [
    "spark.sql(\"select * from movie\").show()"
   ]
  },
  {
   "cell_type": "code",
   "execution_count": 2,
   "metadata": {
    "collapsed": false
   },
   "outputs": [],
   "source": [
    "rate_sc = sc.textFile('ml-latest-small/ratings.csv').map(lambda line:line.split(\",\"))\n",
    "header = rate_sc.first()\n",
    "rate_sc = rate_sc.filter(lambda row: row != header)\n",
    "r = rate_sc.map(lambda p: Row(userId = p[0], movieId = p[1], rating = p[2], timestamp = p[3]))\n",
    "schemarate = spark.createDataFrame(r)\n",
    "schemarate.createOrReplaceTempView('rating')"
   ]
  },
  {
   "cell_type": "code",
   "execution_count": 10,
   "metadata": {
    "collapsed": false
   },
   "outputs": [
    {
     "name": "stdout",
     "output_type": "stream",
     "text": [
      "+-------+------+----------+------+\n",
      "|movieId|rating| timestamp|userId|\n",
      "+-------+------+----------+------+\n",
      "|     31|   2.5|1260759144|     1|\n",
      "|   1029|   3.0|1260759179|     1|\n",
      "|   1061|   3.0|1260759182|     1|\n",
      "|   1129|   2.0|1260759185|     1|\n",
      "|   1172|   4.0|1260759205|     1|\n",
      "|   1263|   2.0|1260759151|     1|\n",
      "|   1287|   2.0|1260759187|     1|\n",
      "|   1293|   2.0|1260759148|     1|\n",
      "|   1339|   3.5|1260759125|     1|\n",
      "|   1343|   2.0|1260759131|     1|\n",
      "|   1371|   2.5|1260759135|     1|\n",
      "|   1405|   1.0|1260759203|     1|\n",
      "|   1953|   4.0|1260759191|     1|\n",
      "|   2105|   4.0|1260759139|     1|\n",
      "|   2150|   3.0|1260759194|     1|\n",
      "|   2193|   2.0|1260759198|     1|\n",
      "|   2294|   2.0|1260759108|     1|\n",
      "|   2455|   2.5|1260759113|     1|\n",
      "|   2968|   1.0|1260759200|     1|\n",
      "|   3671|   3.0|1260759117|     1|\n",
      "+-------+------+----------+------+\n",
      "only showing top 20 rows\n",
      "\n"
     ]
    }
   ],
   "source": [
    "spark.sql(\"select * from rating\").show()"
   ]
  },
  {
   "cell_type": "code",
   "execution_count": 6,
   "metadata": {
    "collapsed": true
   },
   "outputs": [],
   "source": [
    "tag_sc = sc.textFile('ml-latest-small/tags.csv').map(lambda line:line.split(\",\"))\n",
    "header = tag_sc.first()\n",
    "tag_sc = tag_sc.filter(lambda row: row != header)\n",
    "t = tag_sc.map(lambda p: Row(userId = p[0], movieId = p[1], tag = p[2], timestamp = p[3]))\n",
    "schematag = spark.createDataFrame(t)\n",
    "schematag.createOrReplaceTempView('tag')"
   ]
  },
  {
   "cell_type": "code",
   "execution_count": 7,
   "metadata": {
    "collapsed": false
   },
   "outputs": [
    {
     "name": "stdout",
     "output_type": "stream",
     "text": [
      "+-------+--------------------+----------+------+\n",
      "|movieId|                 tag| timestamp|userId|\n",
      "+-------+--------------------+----------+------+\n",
      "|    339|sandra 'boring' b...|1138537770|    15|\n",
      "|   1955|             dentist|1193435061|    15|\n",
      "|   7478|            Cambodia|1170560997|    15|\n",
      "|  32892|             Russian|1170626366|    15|\n",
      "|  34162|         forgettable|1141391765|    15|\n",
      "|  35957|               short|1141391873|    15|\n",
      "|  37729|          dull story|1141391806|    15|\n",
      "|  45950|          powerpoint|1169616291|    15|\n",
      "| 100365|            activist|1425876220|    15|\n",
      "| 100365|         documentary|1425876220|    15|\n",
      "| 100365|              uganda|1425876220|    15|\n",
      "|    150|          Ron Howard|1148672905|    23|\n",
      "|   2174|               music|1249808064|    68|\n",
      "|   2174|               weird|1249808102|    68|\n",
      "|   8623|        Steve Martin|1249808497|    68|\n",
      "| 107999|              action|1430799184|    73|\n",
      "| 107999|               anime|1430799184|    73|\n",
      "| 107999|             kung fu|1430799184|    73|\n",
      "| 111624|               drama|1431584497|    73|\n",
      "| 111624|               indie|1431584497|    73|\n",
      "+-------+--------------------+----------+------+\n",
      "only showing top 20 rows\n",
      "\n"
     ]
    }
   ],
   "source": [
    "spark.sql(\"select * from tag\").show()"
   ]
  },
  {
   "cell_type": "markdown",
   "metadata": {},
   "source": [
    "### OLAP"
   ]
  },
  {
   "cell_type": "markdown",
   "metadata": {},
   "source": [
    "#### How many users?"
   ]
  },
  {
   "cell_type": "code",
   "execution_count": 13,
   "metadata": {
    "collapsed": false
   },
   "outputs": [
    {
     "name": "stdout",
     "output_type": "stream",
     "text": [
      "+-------+\n",
      "|userNum|\n",
      "+-------+\n",
      "|    671|\n",
      "+-------+\n",
      "\n"
     ]
    }
   ],
   "source": [
    "spark.sql(\"select count(distinct userId) as userNum from rating\").show()"
   ]
  },
  {
   "cell_type": "markdown",
   "metadata": {},
   "source": [
    "#### How many movies?"
   ]
  },
  {
   "cell_type": "code",
   "execution_count": 14,
   "metadata": {
    "collapsed": false
   },
   "outputs": [
    {
     "name": "stdout",
     "output_type": "stream",
     "text": [
      "+--------+\n",
      "|movieNum|\n",
      "+--------+\n",
      "|    9125|\n",
      "+--------+\n",
      "\n"
     ]
    }
   ],
   "source": [
    "spark.sql(\"select count(distinct movieId) as movieNum from movie\").show()"
   ]
  },
  {
   "cell_type": "markdown",
   "metadata": {},
   "source": [
    "#### How many movies are rated by users?"
   ]
  },
  {
   "cell_type": "code",
   "execution_count": 15,
   "metadata": {
    "collapsed": false
   },
   "outputs": [
    {
     "name": "stdout",
     "output_type": "stream",
     "text": [
      "+--------+\n",
      "|movieNum|\n",
      "+--------+\n",
      "|    9066|\n",
      "+--------+\n",
      "\n"
     ]
    }
   ],
   "source": [
    "spark.sql(\"select count(distinct movieId) as movieNum from rating\").show()"
   ]
  },
  {
   "cell_type": "markdown",
   "metadata": {},
   "source": [
    "#### List movies which are not read before?"
   ]
  },
  {
   "cell_type": "code",
   "execution_count": 19,
   "metadata": {
    "collapsed": false
   },
   "outputs": [
    {
     "name": "stdout",
     "output_type": "stream",
     "text": [
      "+--------------------+\n",
      "|               title|\n",
      "+--------------------+\n",
      "|     February (2015)|\n",
      "|      Kahaani (2012)|\n",
      "|A Girl Like Her (...|\n",
      "|Pickup on South S...|\n",
      "|             \"Rocket|\n",
      "|Woman in Gold (2015)|\n",
      "|         \"Story of O|\n",
      "|Welcome to Me (2014)|\n",
      "|Stormy Weather (1...|\n",
      "|After School Spec...|\n",
      "|    Nightfall (1957)|\n",
      "|          \"Immigrant|\n",
      "|      Grandma (2015)|\n",
      "|Late Spring (Bans...|\n",
      "|          \"Big Clock|\n",
      "|Hell or High Wate...|\n",
      "|The Neon Demon (2...|\n",
      "|        Belle (2013)|\n",
      "|Facing the Giants...|\n",
      "|Monkey Kingdom (2...|\n",
      "+--------------------+\n",
      "only showing top 20 rows\n",
      "\n"
     ]
    }
   ],
   "source": [
    "spark.sql(\"select title from movie where not exists (select * from rating where movie.movieId = rating.movieId)\").show()"
   ]
  },
  {
   "cell_type": "markdown",
   "metadata": {},
   "source": [
    "### Spark ML ALS"
   ]
  },
  {
   "cell_type": "code",
   "execution_count": 8,
   "metadata": {
    "collapsed": false
   },
   "outputs": [
    {
     "name": "stdout",
     "output_type": "stream",
     "text": [
      "Rank 5 Training MSE = 0.45422571772518133\n",
      "Runtime 25.756594268999777\n",
      "Rank 10 Training MSE = 0.37107667461898325\n",
      "Runtime 25.705370980594182\n",
      "Rank 15 Training MSE = 0.3216510462671886\n",
      "Runtime 25.606327069105333\n",
      "Rank 20 Training MSE = 0.29646951427227625\n",
      "Runtime 26.142862955905997\n",
      "Rank 30 Training MSE = 0.27165351434444046\n",
      "Runtime 26.274203150932095\n"
     ]
    }
   ],
   "source": [
    "from pyspark.mllib.recommendation import ALS, MatrixFactorizationModel, Rating\n",
    "import time\n",
    "\n",
    "rate_sc = sc.textFile('ml-latest-small/ratings.csv').map(lambda line:line.split(\",\"))\n",
    "header = rate_sc.first()\n",
    "rate_sc = rate_sc.filter(lambda row: row != header)\n",
    "ratings = rate_sc.map(lambda l: Rating(int(l[0]), int(l[1]), float(l[2])))\n",
    "\n",
    "ranks = [5,10,15,20,30]\n",
    "numIterations = 10\n",
    "reg_para = 0.1\n",
    "\n",
    "train, validation = ratings.randomSplit([8, 2])\n",
    "traindata = train.map(lambda p: (p[0], p[1]))\n",
    "validata = validation.map(lambda p: (p[0], p[1]))\n",
    "\n",
    "for rank in ranks:\n",
    "    tic = time.clock()\n",
    "    model = ALS.train(ratings, rank, iterations = numIterations, lambda_=reg_para)\n",
    "    predictions = model.predictAll(validata).map(lambda r:((r[0], r[1]), r[2]))\n",
    "    ratesAndPreds = validation.map(lambda r:((r[0], r[1]), r[2])).join(predictions)\n",
    "    MSE = ratesAndPreds.map(lambda r:(r[1][0] - r[1][1])**2).mean()\n",
    "    toc = time.clock()\n",
    "    print(\"Rank {} Training MSE = {}\".format(rank,MSE))\n",
    "    print(\"Runtime {}\".format(toc - tic))"
   ]
  },
  {
   "cell_type": "markdown",
   "metadata": {},
   "source": [
    "### Conclusion\n",
    "\n",
    "<br>The MSE keep dropping if I increase the latent features. And the running time is simialr at this stage (data size). But the MSE does not drop as low as I did in the previous part.<br/>"
   ]
  }
 ],
 "metadata": {
  "kernelspec": {
   "display_name": "Python 3",
   "language": "python",
   "name": "python3"
  },
  "language_info": {
   "codemirror_mode": {
    "name": "ipython",
    "version": 3
   },
   "file_extension": ".py",
   "mimetype": "text/x-python",
   "name": "python",
   "nbconvert_exporter": "python",
   "pygments_lexer": "ipython3",
   "version": "3.6.0"
  }
 },
 "nbformat": 4,
 "nbformat_minor": 2
}
