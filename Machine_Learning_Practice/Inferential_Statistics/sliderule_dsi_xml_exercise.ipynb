{
 "cells": [
  {
   "cell_type": "markdown",
   "metadata": {},
   "source": [
    "# XML example and exercise\n",
    "****\n",
    "+ study examples of accessing nodes in XML tree structure  \n",
    "+ work on exercise to be completed and submitted\n",
    "****\n",
    "+ reference: https://docs.python.org/2.7/library/xml.etree.elementtree.html\n",
    "+ data source: http://www.dbis.informatik.uni-goettingen.de/Mondial\n",
    "****"
   ]
  },
  {
   "cell_type": "code",
   "execution_count": 1,
   "metadata": {
    "collapsed": true
   },
   "outputs": [],
   "source": [
    "from xml.etree import ElementTree as ET"
   ]
  },
  {
   "cell_type": "markdown",
   "metadata": {},
   "source": [
    "## XML example\n",
    "\n",
    "+ for details about tree traversal and iterators, see https://docs.python.org/2.7/library/xml.etree.elementtree.html"
   ]
  },
  {
   "cell_type": "code",
   "execution_count": 2,
   "metadata": {
    "collapsed": true
   },
   "outputs": [],
   "source": [
    "document_tree = ET.parse( './data/mondial_database_less.xml' )"
   ]
  },
  {
   "cell_type": "code",
   "execution_count": 3,
   "metadata": {
    "collapsed": false
   },
   "outputs": [
    {
     "name": "stdout",
     "output_type": "stream",
     "text": [
      "Albania\n",
      "Greece\n",
      "Macedonia\n",
      "Serbia\n",
      "Montenegro\n",
      "Kosovo\n",
      "Andorra\n"
     ]
    }
   ],
   "source": [
    "# print names of all countries\n",
    "for child in document_tree.getroot():\n",
    "    print (child.find('name').text)"
   ]
  },
  {
   "cell_type": "code",
   "execution_count": 5,
   "metadata": {
    "collapsed": false
   },
   "outputs": [
    {
     "name": "stdout",
     "output_type": "stream",
     "text": [
      "* Albania:\n",
      "Tirana, Shkodër, Durrës, Vlorë, Elbasan, Korçë\n",
      "* Greece:\n",
      "Komotini, Kavala, Athina, Peiraias, Peristeri, Acharnes, Patra, Kozani, Kerkyra, Ioannina, Thessaloniki, Iraklio, Chania, Ermoupoli, Rhodes, Tripoli, Lamia, Chalkida, Larissa, Volos, Mytilini, Karyes\n",
      "* Macedonia:\n",
      "Skopje, Kumanovo\n",
      "* Serbia:\n",
      "Beograd, Novi Sad, Niš\n",
      "* Montenegro:\n",
      "Podgorica\n",
      "* Kosovo:\n",
      "Prishtine\n",
      "* Andorra:\n",
      "Andorra la Vella\n"
     ]
    }
   ],
   "source": [
    "# print names of all countries and their cities\n",
    "for element in document_tree.iterfind('country'):\n",
    "    print ('* ' + element.find('name').text + ':'),\n",
    "    capitals_string = ''\n",
    "    for subelement in element.getiterator('city'):\n",
    "        capitals_string += subelement.find('name').text + ', '\n",
    "    print (capitals_string[:-2])"
   ]
  },
  {
   "cell_type": "markdown",
   "metadata": {},
   "source": [
    "****\n",
    "## XML exercise\n",
    "\n",
    "Using data in 'data/mondial_database.xml', the examples above, and refering to https://docs.python.org/2.7/library/xml.etree.elementtree.html, find\n",
    "\n",
    "1. 10 countries with the lowest infant mortality rates\n",
    "2. 10 cities with the largest population\n",
    "3. 10 ethnic groups with the largest overall populations (sum of best/latest estimates over all countries)\n",
    "4. name and country of a) longest river, b) largest lake and c) airport at highest elevation"
   ]
  },
  {
   "cell_type": "code",
   "execution_count": 6,
   "metadata": {
    "collapsed": false
   },
   "outputs": [],
   "source": [
    "from xml.etree import ElementTree as ET"
   ]
  },
  {
   "cell_type": "code",
   "execution_count": 7,
   "metadata": {
    "collapsed": true
   },
   "outputs": [],
   "source": [
    "document = ET.parse( './data/mondial_database.xml' )"
   ]
  },
  {
   "cell_type": "code",
   "execution_count": 8,
   "metadata": {
    "collapsed": false
   },
   "outputs": [],
   "source": [
    "root = document.getroot()"
   ]
  },
  {
   "cell_type": "code",
   "execution_count": 93,
   "metadata": {
    "collapsed": false
   },
   "outputs": [
    {
     "name": "stdout",
     "output_type": "stream",
     "text": [
      "[('Monaco', 1.81), ('Japan', 2.13), ('Norway', 2.48), ('Bermuda', 2.48), ('Singapore', 2.53), ('Sweden', 2.6), ('Czech Republic', 2.63), ('Hong Kong', 2.73), ('Macao', 3.13), ('Iceland', 3.15)]\n"
     ]
    }
   ],
   "source": [
    "# 10 countries with the lowest infant mortality rates\n",
    "d = {}\n",
    "for country in root.findall('country'):\n",
    "    rate = country.find('infant_mortality')\n",
    "    name = country.find('name')\n",
    "    if (rate and name) is not None:\n",
    "        d[name.text] = float(rate.text)\n",
    "dd = sorted(d.items(), key=lambda x: x[1])\n",
    "print(dd[:10])"
   ]
  },
  {
   "cell_type": "code",
   "execution_count": 146,
   "metadata": {
    "collapsed": false
   },
   "outputs": [
    {
     "name": "stdout",
     "output_type": "stream",
     "text": [
      "[('Seoul', 9708483), ('Al Qahirah', 8471859), ('Bangkok', 7506700), ('Hong Kong', 7055071), ('Ho Chi Minh', 5968384), ('Singapore', 5076700), ('Al Iskandariyah', 4123869), ('New Taipei', 3939305), ('Busan', 3403135), ('Pyongyang', 3255288)]\n"
     ]
    }
   ],
   "source": [
    "# 10 cities with the largest population\n",
    "d2 = {}\n",
    "for country in root.findall('country'):\n",
    "    for city in country.findall('city'):\n",
    "        p = city.findall('population')\n",
    "        if p:\n",
    "            pop = p[-1].text\n",
    "            name = city.find('name')\n",
    "            d2[name.text] = int(pop)\n",
    "dd2 = sorted(d2.items(), key=lambda x: x[1], reverse=True)\n",
    "print(dd2[:10])"
   ]
  },
  {
   "cell_type": "code",
   "execution_count": 147,
   "metadata": {
    "collapsed": false
   },
   "outputs": [
    {
     "name": "stdout",
     "output_type": "stream",
     "text": [
      "[('Han Chinese', 1360720000), ('Dravidian', 1210854977), ('European', 816382124), ('Javanese', 252124458), ('Mestizo', 225127188), ('African', 218663211), ('Chinese', 206681204), ('Arab', 203940018), ('Bengali', 149772364), ('Russian', 143666931)]\n"
     ]
    }
   ],
   "source": [
    "# 10 ethnic groups with the largest overall populations (sum of best/latest estimates over all countries)\n",
    "d3 = {}\n",
    "for country in root.findall('country'):\n",
    "    ethnic = country.find('ethnicgroup')\n",
    "    if ethnic is not None:\n",
    "        p = country.findall('population')\n",
    "        if p:\n",
    "            pop = p[-1].text\n",
    "            if d3.get(ethnic.text) is None:\n",
    "                d3[ethnic.text] = int(pop)\n",
    "            else:\n",
    "                d3[ethnic.text] += int(pop)\n",
    "dd3 = sorted(d3.items(), key=lambda x: x[1], reverse=True)\n",
    "print(dd3[:10])"
   ]
  },
  {
   "cell_type": "code",
   "execution_count": 185,
   "metadata": {
    "collapsed": false
   },
   "outputs": [
    {
     "name": "stdout",
     "output_type": "stream",
     "text": [
      "a) Longest rivern: Amazonas , CO , 6448.0\n",
      "b) Largest lake: Caspian Sea , R AZ KAZ IR TM , 386400.0\n",
      "c) Airport at highest elevation: El Alto Intl , BOL , 4063\n"
     ]
    }
   ],
   "source": [
    "# name and country of a) longest river, b) largest lake and c) airport at highest elevation\n",
    "\n",
    "# part a\n",
    "len_max = 0\n",
    "for river in root.findall('river'):\n",
    "    if river.find('length') is not None:\n",
    "        #print(airport.find('elevation').text)\n",
    "        if float(river.find('length').text) > len_max:\n",
    "            len_max = float(river.find('length').text)\n",
    "            river_name = river.find('name').text\n",
    "            if river.find('located') is not None:\n",
    "                country_name = river.find('located').get('country')\n",
    "            else:\n",
    "                country_name = None\n",
    "if country_name is not None:\n",
    "    print('a) Longest rivern:', river_name,',', country_name,',', len_max)\n",
    "\n",
    "# part b\n",
    "a_max = 0\n",
    "for lake in root.findall('lake'):\n",
    "    if lake.find('area') is not None:\n",
    "        if float(lake.find('area').text) > a_max:\n",
    "            a_max = float(lake.find('area').text)\n",
    "            lake_name = lake.find('name').text\n",
    "            country_name2 = lake.get('country')\n",
    "print('b) Largest lake:', lake_name,',',country_name2,',', a_max)\n",
    "\n",
    "# part c\n",
    "ele_max = 0\n",
    "for airport in root.findall('airport'):\n",
    "    if airport.find('elevation').text is not None:\n",
    "        if int(airport.find('elevation').text) > ele_max:\n",
    "            ele_max = int(airport.find('elevation').text)\n",
    "            airport_name = airport.find('name').text\n",
    "            country_name3 = airport.get('country')\n",
    "print('c) Airport at highest elevation:', airport_name,',',country_name3,',', ele_max)"
   ]
  }
 ],
 "metadata": {
  "kernelspec": {
   "display_name": "Python 3",
   "language": "python",
   "name": "python3"
  },
  "language_info": {
   "codemirror_mode": {
    "name": "ipython",
    "version": 3
   },
   "file_extension": ".py",
   "mimetype": "text/x-python",
   "name": "python",
   "nbconvert_exporter": "python",
   "pygments_lexer": "ipython3",
   "version": "3.6.0"
  }
 },
 "nbformat": 4,
 "nbformat_minor": 0
}
