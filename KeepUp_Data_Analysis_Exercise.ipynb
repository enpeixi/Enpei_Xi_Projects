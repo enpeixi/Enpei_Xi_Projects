{
 "cells": [
  {
   "cell_type": "code",
   "execution_count": 1,
   "metadata": {
    "collapsed": true
   },
   "outputs": [],
   "source": [
    "import pandas as pd\n",
    "import re\n",
    "import json\n",
    "from pandas.io.json import json_normalize\n",
    "import matplotlib.pyplot as plt\n",
    "%matplotlib inline"
   ]
  },
  {
   "cell_type": "code",
   "execution_count": 3,
   "metadata": {
    "collapsed": false
   },
   "outputs": [],
   "source": [
    "with open('amazon-meta.txt') as f:\n",
    "    data = f.read().split('\\n\\n')"
   ]
  },
  {
   "cell_type": "code",
   "execution_count": 4,
   "metadata": {
    "collapsed": false
   },
   "outputs": [
    {
     "data": {
      "text/plain": [
       "['Id:   1',\n",
       " 'ASIN: 0827229534',\n",
       " '  title: Patterns of Preaching: A Sermon Sampler',\n",
       " '  group: Book',\n",
       " '  salesrank: 396585',\n",
       " '  similar: 5  0804215715  156101074X  0687023955  0687074231  082721619X',\n",
       " '  categories: 2',\n",
       " '   |Books[283155]|Subjects[1000]|Religion & Spirituality[22]|Christianity[12290]|Clergy[12360]|Preaching[12368]',\n",
       " '   |Books[283155]|Subjects[1000]|Religion & Spirituality[22]|Christianity[12290]|Clergy[12360]|Sermons[12370]',\n",
       " '  reviews: total: 2  downloaded: 2  avg rating: 5',\n",
       " '    2000-7-28  cutomer: A2JW67OY8U6HHK  rating: 5  votes:  10  helpful:   9',\n",
       " '    2003-12-14  cutomer: A2VE83MZF98ITY  rating: 5  votes:   6  helpful:   5']"
      ]
     },
     "execution_count": 4,
     "metadata": {},
     "output_type": "execute_result"
    }
   ],
   "source": [
    "data[2].split('\\n')"
   ]
  },
  {
   "cell_type": "markdown",
   "metadata": {},
   "source": [
    "### Edit data from text into dictionary form"
   ]
  },
  {
   "cell_type": "code",
   "execution_count": 5,
   "metadata": {
    "collapsed": false
   },
   "outputs": [
    {
     "data": {
      "text/plain": [
       "{'ASIN': '0827229534',\n",
       " 'Id': '1',\n",
       " 'cat': [{'category': '|Books[283155]|Subjects[1000]|Religion & Spirituality[22]|Christianity[12290]|Clergy[12360]|Preaching[12368]'},\n",
       "  {'category': '|Books[283155]|Subjects[1000]|Religion & Spirituality[22]|Christianity[12290]|Clergy[12360]|Sermons[12370]'}],\n",
       " 'categories': '2',\n",
       " 'group': 'Book',\n",
       " 'reviewer': [{'cutomer': 'A2JW67OY8U6HHK',\n",
       "   'date': '2000-7-28',\n",
       "   'helpful': '9',\n",
       "   'rating': '5',\n",
       "   'votes': '10'},\n",
       "  {'cutomer': 'A2VE83MZF98ITY',\n",
       "   'date': '2003-12-14',\n",
       "   'helpful': '5',\n",
       "   'rating': '5',\n",
       "   'votes': '6'}],\n",
       " 'reviews': {'downloaded': '2', 'rating': '5', 'total': '2'},\n",
       " 'salesrank': '396585',\n",
       " 'similar': '5  0804215715  156101074X  0687023955  0687074231  082721619X',\n",
       " 'title': 'Patterns of Preaching: A Sermon Sampler'}"
      ]
     },
     "execution_count": 5,
     "metadata": {},
     "output_type": "execute_result"
    }
   ],
   "source": [
    "def get_dict(lines):\n",
    "    dic = {}\n",
    "    review = False\n",
    "    cat = False\n",
    "    for it in range(len(lines)):\n",
    "        line = lines[it]\n",
    "        item = line.strip().split(':')\n",
    "        \n",
    "        key = item[0]\n",
    "        if it < 7:\n",
    "            dic[key] = ':'.join(item[1:]).strip()\n",
    "        \n",
    "        if review == True:\n",
    "            date = re.findall(r\"\\d+-\\d+-\\d+\", line)\n",
    "            re_list = get_dict(re.findall(r\"\\w+:\\s+\\S+\", line))\n",
    "            re_list['date'] = date[0]\n",
    "            dic['reviewer'].append(re_list)\n",
    "            \n",
    "        if key == 'reviews':\n",
    "            cat = False\n",
    "            review = True\n",
    "            dic[key] = get_dict(re.findall(r\"\\w+:\\s+\\S+\",':'.join(item[1:]).strip()))\n",
    "            dic['reviewer'] = []\n",
    "    \n",
    "        if cat == True:\n",
    "            key = key.strip()\n",
    "            dic['cat'].append({'category': key})\n",
    "        \n",
    "        if key == 'categories':\n",
    "            cat = True\n",
    "            dic['cat'] = []\n",
    "            \n",
    "    return dic\n",
    "            \n",
    "get_dict(data[2].split('\\n'))"
   ]
  },
  {
   "cell_type": "code",
   "execution_count": 6,
   "metadata": {
    "collapsed": false
   },
   "outputs": [
    {
     "data": {
      "text/plain": [
       "548554"
      ]
     },
     "execution_count": 6,
     "metadata": {},
     "output_type": "execute_result"
    }
   ],
   "source": [
    "len(data)"
   ]
  },
  {
   "cell_type": "markdown",
   "metadata": {},
   "source": [
    "### There is memory issue on my laptop(not enough RAM), so I can only work on a part of the data."
   ]
  },
  {
   "cell_type": "code",
   "execution_count": 7,
   "metadata": {
    "collapsed": true
   },
   "outputs": [],
   "source": [
    "dict_pre = [get_dict(l.split('\\n')) for l in data[:200000] if len(l.split('\\n')) > 8]"
   ]
  },
  {
   "cell_type": "code",
   "execution_count": 9,
   "metadata": {
    "collapsed": false
   },
   "outputs": [
    {
     "data": {
      "text/plain": [
       "dict_keys(['Id', 'ASIN', 'title', 'group', 'salesrank', 'similar', 'categories', 'cat', 'reviews', 'reviewer'])"
      ]
     },
     "execution_count": 9,
     "metadata": {},
     "output_type": "execute_result"
    }
   ],
   "source": [
    "dict_pre[2].keys()"
   ]
  },
  {
   "cell_type": "code",
   "execution_count": 11,
   "metadata": {
    "collapsed": false
   },
   "outputs": [],
   "source": [
    "data_all = json_normalize(dict_pre, 'reviewer', ['Id','ASIN','title','group','categories','salesrank','similar',['reviews','total']])"
   ]
  },
  {
   "cell_type": "code",
   "execution_count": 12,
   "metadata": {
    "collapsed": false
   },
   "outputs": [],
   "source": [
    "data_all.helpful = data_all.helpful.astype(int)\n",
    "data_all.rating = data_all.rating.astype(int)\n",
    "data_all.votes = data_all.votes.astype(int)\n",
    "data_all.Id = data_all.Id.astype(int)\n",
    "data_all.categories = data_all.categories.astype(int)\n",
    "data_all.salesrank = data_all.salesrank.astype(int)\n",
    "data_all = data_all.rename(columns = {'reviews.total':'reviews_total'})\n",
    "data_all.reviews_total = data_all.reviews_total.astype(int)"
   ]
  },
  {
   "cell_type": "code",
   "execution_count": 13,
   "metadata": {
    "collapsed": false
   },
   "outputs": [
    {
     "data": {
      "text/html": [
       "<div>\n",
       "<table border=\"1\" class=\"dataframe\">\n",
       "  <thead>\n",
       "    <tr style=\"text-align: right;\">\n",
       "      <th></th>\n",
       "      <th>cutomer</th>\n",
       "      <th>date</th>\n",
       "      <th>helpful</th>\n",
       "      <th>rating</th>\n",
       "      <th>votes</th>\n",
       "      <th>Id</th>\n",
       "      <th>ASIN</th>\n",
       "      <th>title</th>\n",
       "      <th>group</th>\n",
       "      <th>categories</th>\n",
       "      <th>salesrank</th>\n",
       "      <th>similar</th>\n",
       "      <th>reviews_total</th>\n",
       "    </tr>\n",
       "  </thead>\n",
       "  <tbody>\n",
       "    <tr>\n",
       "      <th>0</th>\n",
       "      <td>A2JW67OY8U6HHK</td>\n",
       "      <td>2000-7-28</td>\n",
       "      <td>9</td>\n",
       "      <td>5</td>\n",
       "      <td>10</td>\n",
       "      <td>1</td>\n",
       "      <td>0827229534</td>\n",
       "      <td>Patterns of Preaching: A Sermon Sampler</td>\n",
       "      <td>Book</td>\n",
       "      <td>2</td>\n",
       "      <td>396585</td>\n",
       "      <td>5  0804215715  156101074X  0687023955  0687074...</td>\n",
       "      <td>2</td>\n",
       "    </tr>\n",
       "    <tr>\n",
       "      <th>1</th>\n",
       "      <td>A2VE83MZF98ITY</td>\n",
       "      <td>2003-12-14</td>\n",
       "      <td>5</td>\n",
       "      <td>5</td>\n",
       "      <td>6</td>\n",
       "      <td>1</td>\n",
       "      <td>0827229534</td>\n",
       "      <td>Patterns of Preaching: A Sermon Sampler</td>\n",
       "      <td>Book</td>\n",
       "      <td>2</td>\n",
       "      <td>396585</td>\n",
       "      <td>5  0804215715  156101074X  0687023955  0687074...</td>\n",
       "      <td>2</td>\n",
       "    </tr>\n",
       "    <tr>\n",
       "      <th>2</th>\n",
       "      <td>A11NCO6YTE4BTJ</td>\n",
       "      <td>2001-12-16</td>\n",
       "      <td>4</td>\n",
       "      <td>5</td>\n",
       "      <td>5</td>\n",
       "      <td>2</td>\n",
       "      <td>0738700797</td>\n",
       "      <td>Candlemas: Feast of Flames</td>\n",
       "      <td>Book</td>\n",
       "      <td>2</td>\n",
       "      <td>168596</td>\n",
       "      <td>5  0738700827  1567184960  1567182836  0738700...</td>\n",
       "      <td>12</td>\n",
       "    </tr>\n",
       "    <tr>\n",
       "      <th>3</th>\n",
       "      <td>A9CQ3PLRNIR83</td>\n",
       "      <td>2002-1-7</td>\n",
       "      <td>5</td>\n",
       "      <td>4</td>\n",
       "      <td>5</td>\n",
       "      <td>2</td>\n",
       "      <td>0738700797</td>\n",
       "      <td>Candlemas: Feast of Flames</td>\n",
       "      <td>Book</td>\n",
       "      <td>2</td>\n",
       "      <td>168596</td>\n",
       "      <td>5  0738700827  1567184960  1567182836  0738700...</td>\n",
       "      <td>12</td>\n",
       "    </tr>\n",
       "    <tr>\n",
       "      <th>4</th>\n",
       "      <td>A13SG9ACZ9O5IM</td>\n",
       "      <td>2002-1-24</td>\n",
       "      <td>8</td>\n",
       "      <td>5</td>\n",
       "      <td>8</td>\n",
       "      <td>2</td>\n",
       "      <td>0738700797</td>\n",
       "      <td>Candlemas: Feast of Flames</td>\n",
       "      <td>Book</td>\n",
       "      <td>2</td>\n",
       "      <td>168596</td>\n",
       "      <td>5  0738700827  1567184960  1567182836  0738700...</td>\n",
       "      <td>12</td>\n",
       "    </tr>\n",
       "  </tbody>\n",
       "</table>\n",
       "</div>"
      ],
      "text/plain": [
       "          cutomer        date  helpful  rating  votes  Id        ASIN  \\\n",
       "0  A2JW67OY8U6HHK   2000-7-28        9       5     10   1  0827229534   \n",
       "1  A2VE83MZF98ITY  2003-12-14        5       5      6   1  0827229534   \n",
       "2  A11NCO6YTE4BTJ  2001-12-16        4       5      5   2  0738700797   \n",
       "3   A9CQ3PLRNIR83    2002-1-7        5       4      5   2  0738700797   \n",
       "4  A13SG9ACZ9O5IM   2002-1-24        8       5      8   2  0738700797   \n",
       "\n",
       "                                     title group  categories  salesrank  \\\n",
       "0  Patterns of Preaching: A Sermon Sampler  Book           2     396585   \n",
       "1  Patterns of Preaching: A Sermon Sampler  Book           2     396585   \n",
       "2               Candlemas: Feast of Flames  Book           2     168596   \n",
       "3               Candlemas: Feast of Flames  Book           2     168596   \n",
       "4               Candlemas: Feast of Flames  Book           2     168596   \n",
       "\n",
       "                                             similar  reviews_total  \n",
       "0  5  0804215715  156101074X  0687023955  0687074...              2  \n",
       "1  5  0804215715  156101074X  0687023955  0687074...              2  \n",
       "2  5  0738700827  1567184960  1567182836  0738700...             12  \n",
       "3  5  0738700827  1567184960  1567182836  0738700...             12  \n",
       "4  5  0738700827  1567184960  1567182836  0738700...             12  "
      ]
     },
     "execution_count": 13,
     "metadata": {},
     "output_type": "execute_result"
    }
   ],
   "source": [
    "data_all.head()"
   ]
  },
  {
   "cell_type": "code",
   "execution_count": 14,
   "metadata": {
    "collapsed": false
   },
   "outputs": [
    {
     "data": {
      "text/html": [
       "<div>\n",
       "<table border=\"1\" class=\"dataframe\">\n",
       "  <thead>\n",
       "    <tr style=\"text-align: right;\">\n",
       "      <th></th>\n",
       "      <th>rating</th>\n",
       "      <th>salesrank</th>\n",
       "    </tr>\n",
       "    <tr>\n",
       "      <th>Id</th>\n",
       "      <th></th>\n",
       "      <th></th>\n",
       "    </tr>\n",
       "  </thead>\n",
       "  <tbody>\n",
       "    <tr>\n",
       "      <th>1</th>\n",
       "      <td>5.000000</td>\n",
       "      <td>396585.0</td>\n",
       "    </tr>\n",
       "    <tr>\n",
       "      <th>2</th>\n",
       "      <td>4.333333</td>\n",
       "      <td>168596.0</td>\n",
       "    </tr>\n",
       "    <tr>\n",
       "      <th>3</th>\n",
       "      <td>5.000000</td>\n",
       "      <td>1270652.0</td>\n",
       "    </tr>\n",
       "    <tr>\n",
       "      <th>4</th>\n",
       "      <td>4.000000</td>\n",
       "      <td>631289.0</td>\n",
       "    </tr>\n",
       "    <tr>\n",
       "      <th>6</th>\n",
       "      <td>4.235294</td>\n",
       "      <td>188784.0</td>\n",
       "    </tr>\n",
       "  </tbody>\n",
       "</table>\n",
       "</div>"
      ],
      "text/plain": [
       "      rating  salesrank\n",
       "Id                     \n",
       "1   5.000000   396585.0\n",
       "2   4.333333   168596.0\n",
       "3   5.000000  1270652.0\n",
       "4   4.000000   631289.0\n",
       "6   4.235294   188784.0"
      ]
     },
     "execution_count": 14,
     "metadata": {},
     "output_type": "execute_result"
    }
   ],
   "source": [
    "avg_rating = data_all.groupby('Id')[['rating','salesrank']].mean()\n",
    "avg_rating.head()"
   ]
  },
  {
   "cell_type": "code",
   "execution_count": 15,
   "metadata": {
    "collapsed": false
   },
   "outputs": [
    {
     "data": {
      "image/png": "[encoded data removed]",
      "text/plain": [
       "<matplotlib.figure.Figure at 0x15758542470>"
      ]
     },
     "metadata": {},
     "output_type": "display_data"
    }
   ],
   "source": [
    "plt.figure(figsize=(12,8))\n",
    "plt.scatter(avg_rating.rating, avg_rating.salesrank)\n",
    "plt.xlabel('Average rating per product')\n",
    "plt.ylabel('Sales ranking')\n",
    "plt.show()"
   ]
  },
  {
   "cell_type": "code",
   "execution_count": 16,
   "metadata": {
    "collapsed": false
   },
   "outputs": [
    {
     "data": {
      "text/html": [
       "<div>\n",
       "<table border=\"1\" class=\"dataframe\">\n",
       "  <thead>\n",
       "    <tr style=\"text-align: right;\">\n",
       "      <th></th>\n",
       "      <th>rating</th>\n",
       "      <th>salesrank</th>\n",
       "    </tr>\n",
       "  </thead>\n",
       "  <tbody>\n",
       "    <tr>\n",
       "      <th>rating</th>\n",
       "      <td>1.000000</td>\n",
       "      <td>-0.015558</td>\n",
       "    </tr>\n",
       "    <tr>\n",
       "      <th>salesrank</th>\n",
       "      <td>-0.015558</td>\n",
       "      <td>1.000000</td>\n",
       "    </tr>\n",
       "  </tbody>\n",
       "</table>\n",
       "</div>"
      ],
      "text/plain": [
       "             rating  salesrank\n",
       "rating     1.000000  -0.015558\n",
       "salesrank -0.015558   1.000000"
      ]
     },
     "execution_count": 16,
     "metadata": {},
     "output_type": "execute_result"
    }
   ],
   "source": [
    "avg_rating.corr()"
   ]
  },
  {
   "cell_type": "markdown",
   "metadata": {},
   "source": [
    "### There is a weak correlation between rating and salesrank. And there are large numbers of low rating products with high sales ranking. So the rating is not worth to trust."
   ]
  },
  {
   "cell_type": "code",
   "execution_count": 17,
   "metadata": {
    "collapsed": false
   },
   "outputs": [
    {
     "data": {
      "text/html": [
       "<div>\n",
       "<table border=\"1\" class=\"dataframe\">\n",
       "  <thead>\n",
       "    <tr style=\"text-align: right;\">\n",
       "      <th></th>\n",
       "      <th>category</th>\n",
       "      <th>ASIN</th>\n",
       "      <th>group</th>\n",
       "      <th>categories</th>\n",
       "    </tr>\n",
       "  </thead>\n",
       "  <tbody>\n",
       "    <tr>\n",
       "      <th>0</th>\n",
       "      <td>|Books[283155]|Subjects[1000]|Religion &amp; Spiri...</td>\n",
       "      <td>0827229534</td>\n",
       "      <td>Book</td>\n",
       "      <td>2</td>\n",
       "    </tr>\n",
       "    <tr>\n",
       "      <th>1</th>\n",
       "      <td>|Books[283155]|Subjects[1000]|Religion &amp; Spiri...</td>\n",
       "      <td>0827229534</td>\n",
       "      <td>Book</td>\n",
       "      <td>2</td>\n",
       "    </tr>\n",
       "    <tr>\n",
       "      <th>2</th>\n",
       "      <td>|Books[283155]|Subjects[1000]|Religion &amp; Spiri...</td>\n",
       "      <td>0738700797</td>\n",
       "      <td>Book</td>\n",
       "      <td>2</td>\n",
       "    </tr>\n",
       "    <tr>\n",
       "      <th>3</th>\n",
       "      <td>|Books[283155]|Subjects[1000]|Religion &amp; Spiri...</td>\n",
       "      <td>0738700797</td>\n",
       "      <td>Book</td>\n",
       "      <td>2</td>\n",
       "    </tr>\n",
       "    <tr>\n",
       "      <th>4</th>\n",
       "      <td>|Books[283155]|Subjects[1000]|Home &amp; Garden[48...</td>\n",
       "      <td>0486287785</td>\n",
       "      <td>Book</td>\n",
       "      <td>1</td>\n",
       "    </tr>\n",
       "  </tbody>\n",
       "</table>\n",
       "</div>"
      ],
      "text/plain": [
       "                                            category        ASIN group  \\\n",
       "0  |Books[283155]|Subjects[1000]|Religion & Spiri...  0827229534  Book   \n",
       "1  |Books[283155]|Subjects[1000]|Religion & Spiri...  0827229534  Book   \n",
       "2  |Books[283155]|Subjects[1000]|Religion & Spiri...  0738700797  Book   \n",
       "3  |Books[283155]|Subjects[1000]|Religion & Spiri...  0738700797  Book   \n",
       "4  |Books[283155]|Subjects[1000]|Home & Garden[48...  0486287785  Book   \n",
       "\n",
       "  categories  \n",
       "0          2  \n",
       "1          2  \n",
       "2          2  \n",
       "3          2  \n",
       "4          1  "
      ]
     },
     "execution_count": 17,
     "metadata": {},
     "output_type": "execute_result"
    }
   ],
   "source": [
    "dic_cat = json_normalize(dict_pre, 'cat', ['ASIN','group','categories'])\n",
    "dic_cat.head()"
   ]
  },
  {
   "cell_type": "code",
   "execution_count": 18,
   "metadata": {
    "collapsed": false
   },
   "outputs": [
    {
     "name": "stdout",
     "output_type": "stream",
     "text": [
      "Total products 136353\n",
      "Total categories 11528\n",
      "Categories in total products 11.83%\n"
     ]
    }
   ],
   "source": [
    "book_data = dic_cat[dic_cat.group == 'Book']\n",
    "print('Total products',len(book_data.ASIN.unique()))\n",
    "print('Total categories', len(book_data.category.unique()))\n",
    "print('Categories in total products {:.2f}{}'.format(len(book_data.ASIN.unique())/len(book_data.category.unique()),'%'))"
   ]
  },
  {
   "cell_type": "markdown",
   "metadata": {},
   "source": [
    "### The number of categories are over 11% of the total products, which means redundant categories can be removed. (But the data may not accurate, due to the imcomplete data set.)"
   ]
  },
  {
   "cell_type": "code",
   "execution_count": 19,
   "metadata": {
    "collapsed": false
   },
   "outputs": [
    {
     "data": {
      "text/plain": [
       "0    [Books, Subjects, Religion, Spirituality, Chri...\n",
       "1    [Books, Subjects, Religion, Spirituality, Chri...\n",
       "2    [Books, Subjects, Religion, Spirituality, Eart...\n",
       "3    [Books, Subjects, Religion, Spirituality, Eart...\n",
       "4    [Books, Subjects, Home, Garden, Crafts, Hobbie...\n",
       "Name: category, dtype: object"
      ]
     },
     "execution_count": 19,
     "metadata": {},
     "output_type": "execute_result"
    }
   ],
   "source": [
    "all_category = book_data.category.apply(lambda x: re.findall('[a-zA-Z]+',x))\n",
    "all_category.head()"
   ]
  },
  {
   "cell_type": "code",
   "execution_count": 20,
   "metadata": {
    "collapsed": false
   },
   "outputs": [
    {
     "name": "stdout",
     "output_type": "stream",
     "text": [
      "Number of unique category names: 7388\n"
     ]
    }
   ],
   "source": [
    "L = all_category.as_matrix()\n",
    "catNames = [item for sublist in L for item in sublist]\n",
    "n_catNames = len(set(catNames))\n",
    "print(\"Number of unique category names:\" , n_catNames)"
   ]
  },
  {
   "cell_type": "code",
   "execution_count": 21,
   "metadata": {
    "collapsed": false
   },
   "outputs": [
    {
     "data": {
      "text/html": [
       "<div>\n",
       "<table border=\"1\" class=\"dataframe\">\n",
       "  <thead>\n",
       "    <tr style=\"text-align: right;\">\n",
       "      <th></th>\n",
       "      <th>Level_1</th>\n",
       "      <th>Level_2</th>\n",
       "      <th>Level_no1</th>\n",
       "      <th>Level_no2</th>\n",
       "      <th>Original</th>\n",
       "    </tr>\n",
       "  </thead>\n",
       "  <tbody>\n",
       "    <tr>\n",
       "      <th>0</th>\n",
       "      <td>Preaching</td>\n",
       "      <td>Clergy</td>\n",
       "      <td>Books_Subjects_Religion_Spirituality_Christian...</td>\n",
       "      <td>Books_Subjects_Religion_Spirituality_Christianity</td>\n",
       "      <td>Books_Subjects_Religion_Spirituality_Christian...</td>\n",
       "    </tr>\n",
       "    <tr>\n",
       "      <th>1</th>\n",
       "      <td>Sermons</td>\n",
       "      <td>Clergy</td>\n",
       "      <td>Books_Subjects_Religion_Spirituality_Christian...</td>\n",
       "      <td>Books_Subjects_Religion_Spirituality_Christianity</td>\n",
       "      <td>Books_Subjects_Religion_Spirituality_Christian...</td>\n",
       "    </tr>\n",
       "    <tr>\n",
       "      <th>2</th>\n",
       "      <td>Wicca</td>\n",
       "      <td>Religions</td>\n",
       "      <td>Books_Subjects_Religion_Spirituality_Earth_Bas...</td>\n",
       "      <td>Books_Subjects_Religion_Spirituality_Earth_Based</td>\n",
       "      <td>Books_Subjects_Religion_Spirituality_Earth_Bas...</td>\n",
       "    </tr>\n",
       "    <tr>\n",
       "      <th>3</th>\n",
       "      <td>Witchcraft</td>\n",
       "      <td>Religions</td>\n",
       "      <td>Books_Subjects_Religion_Spirituality_Earth_Bas...</td>\n",
       "      <td>Books_Subjects_Religion_Spirituality_Earth_Based</td>\n",
       "      <td>Books_Subjects_Religion_Spirituality_Earth_Bas...</td>\n",
       "    </tr>\n",
       "    <tr>\n",
       "      <th>4</th>\n",
       "      <td>General</td>\n",
       "      <td>Hobbies</td>\n",
       "      <td>Books_Subjects_Home_Garden_Crafts_Hobbies</td>\n",
       "      <td>Books_Subjects_Home_Garden_Crafts</td>\n",
       "      <td>Books_Subjects_Home_Garden_Crafts_Hobbies_General</td>\n",
       "    </tr>\n",
       "  </tbody>\n",
       "</table>\n",
       "</div>"
      ],
      "text/plain": [
       "      Level_1    Level_2                                          Level_no1  \\\n",
       "0   Preaching     Clergy  Books_Subjects_Religion_Spirituality_Christian...   \n",
       "1     Sermons     Clergy  Books_Subjects_Religion_Spirituality_Christian...   \n",
       "2       Wicca  Religions  Books_Subjects_Religion_Spirituality_Earth_Bas...   \n",
       "3  Witchcraft  Religions  Books_Subjects_Religion_Spirituality_Earth_Bas...   \n",
       "4     General    Hobbies          Books_Subjects_Home_Garden_Crafts_Hobbies   \n",
       "\n",
       "                                           Level_no2  \\\n",
       "0  Books_Subjects_Religion_Spirituality_Christianity   \n",
       "1  Books_Subjects_Religion_Spirituality_Christianity   \n",
       "2   Books_Subjects_Religion_Spirituality_Earth_Based   \n",
       "3   Books_Subjects_Religion_Spirituality_Earth_Based   \n",
       "4                  Books_Subjects_Home_Garden_Crafts   \n",
       "\n",
       "                                            Original  \n",
       "0  Books_Subjects_Religion_Spirituality_Christian...  \n",
       "1  Books_Subjects_Religion_Spirituality_Christian...  \n",
       "2  Books_Subjects_Religion_Spirituality_Earth_Bas...  \n",
       "3  Books_Subjects_Religion_Spirituality_Earth_Bas...  \n",
       "4  Books_Subjects_Home_Garden_Crafts_Hobbies_General  "
      ]
     },
     "execution_count": 21,
     "metadata": {},
     "output_type": "execute_result"
    }
   ],
   "source": [
    "new_category =pd.DataFrame({'Original': all_category.apply(lambda x: '_'.join(x)),\n",
    "                        'Level_1': all_category.apply(lambda x: x[-1]),\n",
    "                        'Level_2': all_category.apply(lambda x: x[-2]),\n",
    "                        'Level_no1': all_category.apply(lambda x: '_'.join(x[:-1])),\n",
    "                        'Level_no2': all_category.apply(lambda x: '_'.join(x[:-2]))\n",
    "                       }, dtype = str) \n",
    "new_category.head()"
   ]
  },
  {
   "cell_type": "code",
   "execution_count": 22,
   "metadata": {
    "collapsed": false
   },
   "outputs": [
    {
     "data": {
      "text/plain": [
       "Level_no1\n",
       "Books_Subjects_Reference_Dictionaries_Thesauruses_Foreign_Language                                  48\n",
       "Books_Subjects_Home_Garden_Crafts_Hobbies                                                           36\n",
       "Books_Subjects_History_Europe                                                                       34\n",
       "Books_Formats_Sheet_Music_Scores_Composers                                                          28\n",
       "Books_Subjects_History_Africa                                                                       26\n",
       "Books_Subjects_Home_Garden_Antiques_Collectibles                                                    25\n",
       "Books_Subjects_Reference_Foreign_Languages_Instruction                                              23\n",
       "Books_Subjects_History_Asia                                                                         22\n",
       "Books_Subjects_Religion_Spirituality_Christianity_Theology                                          19\n",
       "Books_Subjects_Health_Mind_Body_Disorders_Diseases                                                  19\n",
       "Books_Subjects_Arts_Photography_Art_Art_History_Schools_Periods_Styles                              18\n",
       "Books_Formats_Books_on_Tape_Languages                                                               18\n",
       "Books_Subjects_Home_Garden_Gardening_Horticulture_By_Plant                                          17\n",
       "Books_Subjects_Reference_Encyclopedias                                                              17\n",
       "Books_Subjects_Reference_Words_Language                                                             16\n",
       "Amazon_com_Stores_Travel_Categories_Travel_Books_Specialty_Travel_Adventure_Hiking_United_States    16\n",
       "Books_Subjects_Computers_Internet_Programming_Languages_Tools                                       16\n",
       "Books_Subjects_Computers_Internet_Certification_Central_Exams                                       16\n",
       "Amazon_com_Stores_Travel_Categories_Travel_Books_Asia                                               16\n",
       "Books_Subjects_Outdoors_Nature_Hiking_Camping_Excursion_Guides_United_States                        16\n",
       "Books_Subjects_Travel_Asia                                                                          16\n",
       "Books_Subjects_Cooking_Food_Wine_Regional_International_European                                    14\n",
       "Books_Subjects_Professional_Technical_Medical_Medicine_Internal_Medicine                            14\n",
       "Books_Subjects_Home_Garden_Gardening_Horticulture                                                   14\n",
       "Books_Subjects_Health_Mind_Body_Alternative_Medicine                                                14\n",
       "Books_Subjects_Professional_Technical_Medical_Basic_Sciences                                        13\n",
       "Books_Subjects_Religion_Spirituality_Christianity_Protestantism                                     13\n",
       "Books_Subjects_Professional_Technical_Medical_Veterinary_Medicine                                   13\n",
       "Books_Subjects_Literature_Fiction_World_Literature                                                  13\n",
       "Books_Subjects_Health_Mind_Body_Psychology_Counseling                                               13\n",
       "                                                                                                    ..\n",
       "Books_Subjects_Medicine_Nursing_Pediatric                                                            1\n",
       "Books_Subjects_Medicine_Nursing_Research                                                             1\n",
       "Books_Subjects_Medicine_Diseases_Digestive                                                           1\n",
       "Books_Subjects_Medicine_Dentistry_Oral                                                               1\n",
       "Books_Subjects_Literature_Fiction_World_Literature_United_States_Native_American_Silko_Leslie        1\n",
       "Books_Subjects_Medicine_Alternative_Holistic_Holistic                                                1\n",
       "Books_Subjects_Literature_Fiction_World_Literature_United_States_Poetry                              1\n",
       "Books_Subjects_Literature_Fiction_World_Literature_United_States_Poetry_African                      1\n",
       "Books_Subjects_Literature_Fiction_World_Literature_United_States_Poetry_Asian                        1\n",
       "Books_Subjects_Literature_Fiction_World_Literature_United_States_Poetry_th                           1\n",
       "Books_Subjects_Literature_Fiction_World_Literature_United_States_Women                               1\n",
       "Books_Subjects_Literature_Fiction_World_Literature_United_States_th                                  1\n",
       "Books_Subjects_Medicine                                                                              1\n",
       "Books_Subjects_Medicine_Administration_Policy                                                        1\n",
       "Books_Subjects_Medicine_Administration_Policy_Health                                                 1\n",
       "Books_Subjects_Medicine_Administration_Policy_Health_Care                                            1\n",
       "Books_Subjects_Medicine_Administration_Policy_Health_Risk                                            1\n",
       "Books_Subjects_Medicine_Administration_Policy_Hospital                                               1\n",
       "Books_Subjects_Medicine_Administration_Policy_Medicaid                                               1\n",
       "Books_Subjects_Medicine_Administration_Policy_Medical_History                                        1\n",
       "Books_Subjects_Medicine_Administration_Policy_Practice_Management                                    1\n",
       "Books_Subjects_Medicine_Administration_Policy_Public                                                 1\n",
       "Books_Subjects_Medicine_Allied_Health_Professions_Audiology_Speech                                   1\n",
       "Books_Subjects_Medicine_Allied_Health_Professions_Emergency_Medical                                  1\n",
       "Books_Subjects_Medicine_Allied_Health_Professions_Occupational                                       1\n",
       "Books_Subjects_Medicine_Allied_Health_Professions_Physical                                           1\n",
       "Books_Subjects_Medicine_Allied_Health_Professions_Radiologic_Ultrasound                              1\n",
       "Books_Subjects_Medicine_Allied_Health_Professions_Respiratory                                        1\n",
       "Books_Subjects_Medicine_Alternative_Holistic_Diet                                                    1\n",
       "Books_Subjects_Horror_Authors_A_Z_N_Navarro                                                          1\n",
       "dtype: int64"
      ]
     },
     "execution_count": 22,
     "metadata": {},
     "output_type": "execute_result"
    }
   ],
   "source": [
    "size_rest = new_category.drop_duplicates(subset='Original').groupby('Level_no1').size().sort_values(ascending = False)\n",
    "size_rest"
   ]
  },
  {
   "cell_type": "code",
   "execution_count": 23,
   "metadata": {
    "collapsed": false
   },
   "outputs": [
    {
     "data": {
      "image/png": "[encoded data removed]",
      "text/plain": [
       "<matplotlib.figure.Figure at 0x15777387978>"
      ]
     },
     "metadata": {},
     "output_type": "display_data"
    }
   ],
   "source": [
    "plt.figure(figsize=(12,8))\n",
    "plt.hist(size_rest, 1000) # set 1000 bins\n",
    "plt.xlabel('Number of sub_categories per unique original category entry')\n",
    "plt.ylabel('Frequency')\n",
    "plt.show()"
   ]
  },
  {
   "cell_type": "code",
   "execution_count": 24,
   "metadata": {
    "collapsed": false
   },
   "outputs": [
    {
     "name": "stdout",
     "output_type": "stream",
     "text": [
      "The number of categories with one sub-category: 6328\n",
      "\n",
      "The original unique category entries: 11470\n",
      "\n",
      "Portion of categories can be removed: 0.551700087184\n"
     ]
    }
   ],
   "source": [
    "n_original = len(new_category.Original.unique())\n",
    "print('The number of categories with one sub-category:',sum(size_rest<2))\n",
    "print('\\nThe original unique category entries:' , n_original)\n",
    "print('\\nPortion of categories can be removed:', sum(size_rest<2)/n_original)"
   ]
  },
  {
   "cell_type": "markdown",
   "metadata": {},
   "source": [
    "### 55% can be removed, and the number of unique category entries remain the same."
   ]
  },
  {
   "cell_type": "code",
   "execution_count": 25,
   "metadata": {
    "collapsed": false
   },
   "outputs": [
    {
     "name": "stderr",
     "output_type": "stream",
     "text": [
      "C:\\Users\\Chiroy\\Anaconda3\\lib\\site-packages\\ipykernel\\__main__.py:1: FutureWarning: in the future, boolean array-likes will be handled as a boolean array index\n",
      "  if __name__ == '__main__':\n"
     ]
    },
    {
     "data": {
      "text/plain": [
       "Level_no2\n",
       "Books_Subjects_Home_Garden_Crafts                            3322\n",
       "Books_Subjects_Reference_Dictionaries_Thesauruses_Foreign     836\n",
       "dtype: int64"
      ]
     },
     "execution_count": 25,
     "metadata": {},
     "output_type": "execute_result"
    }
   ],
   "source": [
    "size_rest_sub = new_category.loc[new_category.Level_no1.isin(size_rest.index.values[size_rest==1]), :].groupby('Level_no2').size().sort_values(ascending = False)\n",
    "size_rest_sub"
   ]
  },
  {
   "cell_type": "code",
   "execution_count": 26,
   "metadata": {
    "collapsed": false
   },
   "outputs": [
    {
     "name": "stdout",
     "output_type": "stream",
     "text": [
      "The number of categories with one sub-category in the last two layers: 0\n"
     ]
    }
   ],
   "source": [
    "print('The number of categories with one sub-category in the last two layers:',sum(size_rest_sub == 1))"
   ]
  },
  {
   "cell_type": "markdown",
   "metadata": {},
   "source": [
    "#### (I supposed it could be removed if the data set is completed. But this number is 0 here.)"
   ]
  },
  {
   "cell_type": "code",
   "execution_count": 27,
   "metadata": {
    "collapsed": false
   },
   "outputs": [
    {
     "name": "stdout",
     "output_type": "stream",
     "text": [
      "The number of categories with two sub-category: 534\n"
     ]
    }
   ],
   "source": [
    "print('The number of categories with two sub-category:',sum(size_rest == 2))"
   ]
  },
  {
   "cell_type": "code",
   "execution_count": 28,
   "metadata": {
    "collapsed": false
   },
   "outputs": [
    {
     "name": "stdout",
     "output_type": "stream",
     "text": [
      "\n",
      "Portion of categories can be removed: 0.046556233653\n"
     ]
    }
   ],
   "source": [
    "print('\\nPortion of categories can be removed:', sum(size_rest == 2)/n_original)"
   ]
  },
  {
   "cell_type": "code",
   "execution_count": 29,
   "metadata": {
    "collapsed": false
   },
   "outputs": [
    {
     "name": "stdout",
     "output_type": "stream",
     "text": [
      "The number of categories with two sub-category second to last category: 0\n"
     ]
    }
   ],
   "source": [
    "print('The number of categories with two sub-category second to last category:',sum(size_rest_sub == 2))"
   ]
  },
  {
   "cell_type": "markdown",
   "metadata": {},
   "source": [
    "#### (Again, it could be removed if the dataset is complete.)"
   ]
  },
  {
   "cell_type": "code",
   "execution_count": 30,
   "metadata": {
    "collapsed": false
   },
   "outputs": [
    {
     "name": "stdout",
     "output_type": "stream",
     "text": [
      "The number of categories with three sub-category : 317\n"
     ]
    }
   ],
   "source": [
    "print('The number of categories with three sub-category :',sum(size_rest == 3))"
   ]
  },
  {
   "cell_type": "code",
   "execution_count": 31,
   "metadata": {
    "collapsed": false
   },
   "outputs": [
    {
     "name": "stdout",
     "output_type": "stream",
     "text": [
      "\n",
      "Portion of categories can be removed: 0.0276373147341\n"
     ]
    }
   ],
   "source": [
    "print('\\nPortion of categories can be removed:', sum(size_rest == 3)/n_original)"
   ]
  },
  {
   "cell_type": "markdown",
   "metadata": {},
   "source": [
    "#### So there is 0.55+0.046+0.028 = 62% (at least) of unique category names can be removed. If we remove them, the number of unique category entries remain the same.\n",
    "#### The number of unique category entries reduces by 534+317 = 851 (7.4%) in this way."
   ]
  },
  {
   "cell_type": "markdown",
   "metadata": {},
   "source": [
    "### Product Thinking\n",
    "<br>a. No, I don't think the users would care about the categorization hieracrchy while they are shopping.<br/>\n",
    "<br>b. Yes. That would be easier for users to compare different products.<br/>\n",
    "<br>c. Yes. Although some reviews are not trustworthiness, but it still could help users making their decisions after reviewing some other comments.<br/>\n",
    "<br>d. We could build A/B tests for each above.<br/>"
   ]
  }
 ],
 "metadata": {
  "kernelspec": {
   "display_name": "Python 3",
   "language": "python",
   "name": "python3"
  },
  "language_info": {
   "codemirror_mode": {
    "name": "ipython",
    "version": 3
   },
   "file_extension": ".py",
   "mimetype": "text/x-python",
   "name": "python",
   "nbconvert_exporter": "python",
   "pygments_lexer": "ipython3",
   "version": "3.6.0"
  }
 },
 "nbformat": 4,
 "nbformat_minor": 2
}
